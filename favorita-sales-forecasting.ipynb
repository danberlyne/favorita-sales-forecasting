{
 "cells": [
  {
   "cell_type": "markdown",
   "id": "42057f2e",
   "metadata": {
    "papermill": {
     "duration": 0.017493,
     "end_time": "2024-02-10T19:10:06.880162",
     "exception": false,
     "start_time": "2024-02-10T19:10:06.862669",
     "status": "completed"
    },
    "tags": []
   },
   "source": [
    "# Favorita sales forecasting\n",
    "\n",
    "We will forecast the next 15 days of sales at Ecuador's Favorita grocery stores, across a range of products.\n",
    "\n",
    "**Note:** This is based on a [Kaggle competition](https://www.kaggle.com/competitions/store-sales-time-series-forecasting), however we will not be using all the data given in that competition. Instead, our goal is to use only the `train.csv` and `test.csv` datasets, together with autoregression analysis, to make predictions.\n",
    "\n",
    "Run the cell below to load the necessary modules, set defaults, and load the data."
   ]
  },
  {
   "cell_type": "code",
   "execution_count": 1,
   "id": "f2e00a7e",
   "metadata": {
    "_cell_guid": "b1076dfc-b9ad-4769-8c92-a6c4dae69d19",
    "_uuid": "8f2839f25d086af736a60e9eeb907d3b93b6e0e5",
    "execution": {
     "iopub.execute_input": "2024-02-10T19:10:06.916779Z",
     "iopub.status.busy": "2024-02-10T19:10:06.916017Z",
     "iopub.status.idle": "2024-02-10T19:10:13.773399Z",
     "shell.execute_reply": "2024-02-10T19:10:13.772328Z"
    },
    "papermill": {
     "duration": 6.87893,
     "end_time": "2024-02-10T19:10:13.776024",
     "exception": false,
     "start_time": "2024-02-10T19:10:06.897094",
     "status": "completed"
    },
    "tags": []
   },
   "outputs": [],
   "source": [
    "import numpy as np \n",
    "import pandas as pd \n",
    "import matplotlib.pyplot as plt\n",
    "import seaborn as sns\n",
    "from sklearn.ensemble import RandomForestRegressor\n",
    "from sklearn.metrics import make_scorer, r2_score\n",
    "from sklearn.model_selection import train_test_split\n",
    "from sklearn.preprocessing import LabelEncoder\n",
    "from sklearn.linear_model import LinearRegression\n",
    "from statsmodels.graphics.tsaplots import plot_acf\n",
    "from category_encoders import MEstimateEncoder\n",
    "\n",
    "def rmsle(y_true: list, y_pred: list) -> float:\n",
    "    return np.sqrt(np.mean(np.square(np.log1p(y_pred) - np.log1p(y_true))))\n",
    "\n",
    "rmsle_score = make_scorer(rmsle, greater_is_better=False)\n",
    "\n",
    "# Set Matplotlib defaults\n",
    "sns.set_style(\"darkgrid\")\n",
    "plt.rc(\"figure\", autolayout=True)\n",
    "plt.rc(\n",
    "    \"axes\",\n",
    "    labelweight=\"bold\",\n",
    "    labelsize=\"large\",\n",
    "    titleweight=\"bold\",\n",
    "    titlesize=14,\n",
    "    titlepad=10,\n",
    ")\n",
    "\n",
    "# Load data\n",
    "df_train = pd.read_csv(\"../input/favorita-store-sales/train.csv\")\n",
    "df_test = pd.read_csv(\"../input/favorita-store-sales/test.csv\")"
   ]
  },
  {
   "cell_type": "markdown",
   "id": "09ca8a0f",
   "metadata": {
    "papermill": {
     "duration": 0.017025,
     "end_time": "2024-02-10T19:10:13.810381",
     "exception": false,
     "start_time": "2024-02-10T19:10:13.793356",
     "status": "completed"
    },
    "tags": []
   },
   "source": [
    "We have two different datasets: \n",
    "- The dataset `df_train` contains past sales figures for each of the product families in each of the stores, together with data regarding which families have promotions.\n",
    "- The dataset `df_test` contains the data that we need to provide sales predictions for.\n",
    "\n",
    "We also know that a magnitude 7.8 earthquake struck Ecuador on April 16, 2016. People rallied in relief efforts donating water and other first need products which greatly affected supermarket sales for several weeks after the earthquake.\n",
    "\n",
    "Let's start by taking a look at the `df_train` dataset."
   ]
  },
  {
   "cell_type": "code",
   "execution_count": 2,
   "id": "a4ccfc4a",
   "metadata": {
    "execution": {
     "iopub.execute_input": "2024-02-10T19:10:13.846586Z",
     "iopub.status.busy": "2024-02-10T19:10:13.845907Z",
     "iopub.status.idle": "2024-02-10T19:10:13.874504Z",
     "shell.execute_reply": "2024-02-10T19:10:13.873662Z"
    },
    "papermill": {
     "duration": 0.049239,
     "end_time": "2024-02-10T19:10:13.876813",
     "exception": false,
     "start_time": "2024-02-10T19:10:13.827574",
     "status": "completed"
    },
    "tags": []
   },
   "outputs": [
    {
     "data": {
      "text/html": [
       "<div>\n",
       "<style scoped>\n",
       "    .dataframe tbody tr th:only-of-type {\n",
       "        vertical-align: middle;\n",
       "    }\n",
       "\n",
       "    .dataframe tbody tr th {\n",
       "        vertical-align: top;\n",
       "    }\n",
       "\n",
       "    .dataframe thead th {\n",
       "        text-align: right;\n",
       "    }\n",
       "</style>\n",
       "<table border=\"1\" class=\"dataframe\">\n",
       "  <thead>\n",
       "    <tr style=\"text-align: right;\">\n",
       "      <th></th>\n",
       "      <th>id</th>\n",
       "      <th>date</th>\n",
       "      <th>store_nbr</th>\n",
       "      <th>family</th>\n",
       "      <th>sales</th>\n",
       "      <th>onpromotion</th>\n",
       "    </tr>\n",
       "  </thead>\n",
       "  <tbody>\n",
       "    <tr>\n",
       "      <th>0</th>\n",
       "      <td>0</td>\n",
       "      <td>2013-01-01</td>\n",
       "      <td>1</td>\n",
       "      <td>AUTOMOTIVE</td>\n",
       "      <td>0.0</td>\n",
       "      <td>0</td>\n",
       "    </tr>\n",
       "    <tr>\n",
       "      <th>1</th>\n",
       "      <td>1</td>\n",
       "      <td>2013-01-01</td>\n",
       "      <td>1</td>\n",
       "      <td>BABY CARE</td>\n",
       "      <td>0.0</td>\n",
       "      <td>0</td>\n",
       "    </tr>\n",
       "    <tr>\n",
       "      <th>2</th>\n",
       "      <td>2</td>\n",
       "      <td>2013-01-01</td>\n",
       "      <td>1</td>\n",
       "      <td>BEAUTY</td>\n",
       "      <td>0.0</td>\n",
       "      <td>0</td>\n",
       "    </tr>\n",
       "    <tr>\n",
       "      <th>3</th>\n",
       "      <td>3</td>\n",
       "      <td>2013-01-01</td>\n",
       "      <td>1</td>\n",
       "      <td>BEVERAGES</td>\n",
       "      <td>0.0</td>\n",
       "      <td>0</td>\n",
       "    </tr>\n",
       "    <tr>\n",
       "      <th>4</th>\n",
       "      <td>4</td>\n",
       "      <td>2013-01-01</td>\n",
       "      <td>1</td>\n",
       "      <td>BOOKS</td>\n",
       "      <td>0.0</td>\n",
       "      <td>0</td>\n",
       "    </tr>\n",
       "    <tr>\n",
       "      <th>5</th>\n",
       "      <td>5</td>\n",
       "      <td>2013-01-01</td>\n",
       "      <td>1</td>\n",
       "      <td>BREAD/BAKERY</td>\n",
       "      <td>0.0</td>\n",
       "      <td>0</td>\n",
       "    </tr>\n",
       "    <tr>\n",
       "      <th>6</th>\n",
       "      <td>6</td>\n",
       "      <td>2013-01-01</td>\n",
       "      <td>1</td>\n",
       "      <td>CELEBRATION</td>\n",
       "      <td>0.0</td>\n",
       "      <td>0</td>\n",
       "    </tr>\n",
       "    <tr>\n",
       "      <th>7</th>\n",
       "      <td>7</td>\n",
       "      <td>2013-01-01</td>\n",
       "      <td>1</td>\n",
       "      <td>CLEANING</td>\n",
       "      <td>0.0</td>\n",
       "      <td>0</td>\n",
       "    </tr>\n",
       "    <tr>\n",
       "      <th>8</th>\n",
       "      <td>8</td>\n",
       "      <td>2013-01-01</td>\n",
       "      <td>1</td>\n",
       "      <td>DAIRY</td>\n",
       "      <td>0.0</td>\n",
       "      <td>0</td>\n",
       "    </tr>\n",
       "    <tr>\n",
       "      <th>9</th>\n",
       "      <td>9</td>\n",
       "      <td>2013-01-01</td>\n",
       "      <td>1</td>\n",
       "      <td>DELI</td>\n",
       "      <td>0.0</td>\n",
       "      <td>0</td>\n",
       "    </tr>\n",
       "    <tr>\n",
       "      <th>10</th>\n",
       "      <td>10</td>\n",
       "      <td>2013-01-01</td>\n",
       "      <td>1</td>\n",
       "      <td>EGGS</td>\n",
       "      <td>0.0</td>\n",
       "      <td>0</td>\n",
       "    </tr>\n",
       "    <tr>\n",
       "      <th>11</th>\n",
       "      <td>11</td>\n",
       "      <td>2013-01-01</td>\n",
       "      <td>1</td>\n",
       "      <td>FROZEN FOODS</td>\n",
       "      <td>0.0</td>\n",
       "      <td>0</td>\n",
       "    </tr>\n",
       "    <tr>\n",
       "      <th>12</th>\n",
       "      <td>12</td>\n",
       "      <td>2013-01-01</td>\n",
       "      <td>1</td>\n",
       "      <td>GROCERY I</td>\n",
       "      <td>0.0</td>\n",
       "      <td>0</td>\n",
       "    </tr>\n",
       "    <tr>\n",
       "      <th>13</th>\n",
       "      <td>13</td>\n",
       "      <td>2013-01-01</td>\n",
       "      <td>1</td>\n",
       "      <td>GROCERY II</td>\n",
       "      <td>0.0</td>\n",
       "      <td>0</td>\n",
       "    </tr>\n",
       "    <tr>\n",
       "      <th>14</th>\n",
       "      <td>14</td>\n",
       "      <td>2013-01-01</td>\n",
       "      <td>1</td>\n",
       "      <td>HARDWARE</td>\n",
       "      <td>0.0</td>\n",
       "      <td>0</td>\n",
       "    </tr>\n",
       "    <tr>\n",
       "      <th>15</th>\n",
       "      <td>15</td>\n",
       "      <td>2013-01-01</td>\n",
       "      <td>1</td>\n",
       "      <td>HOME AND KITCHEN I</td>\n",
       "      <td>0.0</td>\n",
       "      <td>0</td>\n",
       "    </tr>\n",
       "    <tr>\n",
       "      <th>16</th>\n",
       "      <td>16</td>\n",
       "      <td>2013-01-01</td>\n",
       "      <td>1</td>\n",
       "      <td>HOME AND KITCHEN II</td>\n",
       "      <td>0.0</td>\n",
       "      <td>0</td>\n",
       "    </tr>\n",
       "    <tr>\n",
       "      <th>17</th>\n",
       "      <td>17</td>\n",
       "      <td>2013-01-01</td>\n",
       "      <td>1</td>\n",
       "      <td>HOME APPLIANCES</td>\n",
       "      <td>0.0</td>\n",
       "      <td>0</td>\n",
       "    </tr>\n",
       "    <tr>\n",
       "      <th>18</th>\n",
       "      <td>18</td>\n",
       "      <td>2013-01-01</td>\n",
       "      <td>1</td>\n",
       "      <td>HOME CARE</td>\n",
       "      <td>0.0</td>\n",
       "      <td>0</td>\n",
       "    </tr>\n",
       "    <tr>\n",
       "      <th>19</th>\n",
       "      <td>19</td>\n",
       "      <td>2013-01-01</td>\n",
       "      <td>1</td>\n",
       "      <td>LADIESWEAR</td>\n",
       "      <td>0.0</td>\n",
       "      <td>0</td>\n",
       "    </tr>\n",
       "  </tbody>\n",
       "</table>\n",
       "</div>"
      ],
      "text/plain": [
       "    id        date  store_nbr               family  sales  onpromotion\n",
       "0    0  2013-01-01          1           AUTOMOTIVE    0.0            0\n",
       "1    1  2013-01-01          1            BABY CARE    0.0            0\n",
       "2    2  2013-01-01          1               BEAUTY    0.0            0\n",
       "3    3  2013-01-01          1            BEVERAGES    0.0            0\n",
       "4    4  2013-01-01          1                BOOKS    0.0            0\n",
       "5    5  2013-01-01          1         BREAD/BAKERY    0.0            0\n",
       "6    6  2013-01-01          1          CELEBRATION    0.0            0\n",
       "7    7  2013-01-01          1             CLEANING    0.0            0\n",
       "8    8  2013-01-01          1                DAIRY    0.0            0\n",
       "9    9  2013-01-01          1                 DELI    0.0            0\n",
       "10  10  2013-01-01          1                 EGGS    0.0            0\n",
       "11  11  2013-01-01          1         FROZEN FOODS    0.0            0\n",
       "12  12  2013-01-01          1            GROCERY I    0.0            0\n",
       "13  13  2013-01-01          1           GROCERY II    0.0            0\n",
       "14  14  2013-01-01          1             HARDWARE    0.0            0\n",
       "15  15  2013-01-01          1   HOME AND KITCHEN I    0.0            0\n",
       "16  16  2013-01-01          1  HOME AND KITCHEN II    0.0            0\n",
       "17  17  2013-01-01          1      HOME APPLIANCES    0.0            0\n",
       "18  18  2013-01-01          1            HOME CARE    0.0            0\n",
       "19  19  2013-01-01          1           LADIESWEAR    0.0            0"
      ]
     },
     "execution_count": 2,
     "metadata": {},
     "output_type": "execute_result"
    }
   ],
   "source": [
    "df_train.head(20)"
   ]
  },
  {
   "cell_type": "markdown",
   "id": "97238493",
   "metadata": {
    "papermill": {
     "duration": 0.01681,
     "end_time": "2024-02-10T19:10:13.911409",
     "exception": false,
     "start_time": "2024-02-10T19:10:13.894599",
     "status": "completed"
    },
    "tags": []
   },
   "source": [
    "The first 20 items all have zero sales and none are on promotion. This seems a little odd at first, but there could be a couple of reasons for this. First of all, it is 1st January, so the store may be closed. Let's try a different date."
   ]
  },
  {
   "cell_type": "code",
   "execution_count": 3,
   "id": "21023ec1",
   "metadata": {
    "execution": {
     "iopub.execute_input": "2024-02-10T19:10:13.948047Z",
     "iopub.status.busy": "2024-02-10T19:10:13.947608Z",
     "iopub.status.idle": "2024-02-10T19:10:14.512850Z",
     "shell.execute_reply": "2024-02-10T19:10:14.511711Z"
    },
    "papermill": {
     "duration": 0.586753,
     "end_time": "2024-02-10T19:10:14.515403",
     "exception": false,
     "start_time": "2024-02-10T19:10:13.928650",
     "status": "completed"
    },
    "tags": []
   },
   "outputs": [
    {
     "data": {
      "text/html": [
       "<div>\n",
       "<style scoped>\n",
       "    .dataframe tbody tr th:only-of-type {\n",
       "        vertical-align: middle;\n",
       "    }\n",
       "\n",
       "    .dataframe tbody tr th {\n",
       "        vertical-align: top;\n",
       "    }\n",
       "\n",
       "    .dataframe thead th {\n",
       "        text-align: right;\n",
       "    }\n",
       "</style>\n",
       "<table border=\"1\" class=\"dataframe\">\n",
       "  <thead>\n",
       "    <tr style=\"text-align: right;\">\n",
       "      <th></th>\n",
       "      <th>id</th>\n",
       "      <th>date</th>\n",
       "      <th>store_nbr</th>\n",
       "      <th>family</th>\n",
       "      <th>sales</th>\n",
       "      <th>onpromotion</th>\n",
       "    </tr>\n",
       "  </thead>\n",
       "  <tbody>\n",
       "    <tr>\n",
       "      <th>3564</th>\n",
       "      <td>3564</td>\n",
       "      <td>2013-01-03</td>\n",
       "      <td>1</td>\n",
       "      <td>AUTOMOTIVE</td>\n",
       "      <td>3.000</td>\n",
       "      <td>0</td>\n",
       "    </tr>\n",
       "    <tr>\n",
       "      <th>3565</th>\n",
       "      <td>3565</td>\n",
       "      <td>2013-01-03</td>\n",
       "      <td>1</td>\n",
       "      <td>BABY CARE</td>\n",
       "      <td>0.000</td>\n",
       "      <td>0</td>\n",
       "    </tr>\n",
       "    <tr>\n",
       "      <th>3566</th>\n",
       "      <td>3566</td>\n",
       "      <td>2013-01-03</td>\n",
       "      <td>1</td>\n",
       "      <td>BEAUTY</td>\n",
       "      <td>0.000</td>\n",
       "      <td>0</td>\n",
       "    </tr>\n",
       "    <tr>\n",
       "      <th>3567</th>\n",
       "      <td>3567</td>\n",
       "      <td>2013-01-03</td>\n",
       "      <td>1</td>\n",
       "      <td>BEVERAGES</td>\n",
       "      <td>919.000</td>\n",
       "      <td>0</td>\n",
       "    </tr>\n",
       "    <tr>\n",
       "      <th>3568</th>\n",
       "      <td>3568</td>\n",
       "      <td>2013-01-03</td>\n",
       "      <td>1</td>\n",
       "      <td>BOOKS</td>\n",
       "      <td>0.000</td>\n",
       "      <td>0</td>\n",
       "    </tr>\n",
       "    <tr>\n",
       "      <th>...</th>\n",
       "      <td>...</td>\n",
       "      <td>...</td>\n",
       "      <td>...</td>\n",
       "      <td>...</td>\n",
       "      <td>...</td>\n",
       "      <td>...</td>\n",
       "    </tr>\n",
       "    <tr>\n",
       "      <th>5341</th>\n",
       "      <td>5341</td>\n",
       "      <td>2013-01-03</td>\n",
       "      <td>9</td>\n",
       "      <td>POULTRY</td>\n",
       "      <td>509.496</td>\n",
       "      <td>0</td>\n",
       "    </tr>\n",
       "    <tr>\n",
       "      <th>5342</th>\n",
       "      <td>5342</td>\n",
       "      <td>2013-01-03</td>\n",
       "      <td>9</td>\n",
       "      <td>PREPARED FOODS</td>\n",
       "      <td>66.000</td>\n",
       "      <td>0</td>\n",
       "    </tr>\n",
       "    <tr>\n",
       "      <th>5343</th>\n",
       "      <td>5343</td>\n",
       "      <td>2013-01-03</td>\n",
       "      <td>9</td>\n",
       "      <td>PRODUCE</td>\n",
       "      <td>0.000</td>\n",
       "      <td>0</td>\n",
       "    </tr>\n",
       "    <tr>\n",
       "      <th>5344</th>\n",
       "      <td>5344</td>\n",
       "      <td>2013-01-03</td>\n",
       "      <td>9</td>\n",
       "      <td>SCHOOL AND OFFICE SUPPLIES</td>\n",
       "      <td>0.000</td>\n",
       "      <td>0</td>\n",
       "    </tr>\n",
       "    <tr>\n",
       "      <th>5345</th>\n",
       "      <td>5345</td>\n",
       "      <td>2013-01-03</td>\n",
       "      <td>9</td>\n",
       "      <td>SEAFOOD</td>\n",
       "      <td>25.000</td>\n",
       "      <td>0</td>\n",
       "    </tr>\n",
       "  </tbody>\n",
       "</table>\n",
       "<p>1782 rows × 6 columns</p>\n",
       "</div>"
      ],
      "text/plain": [
       "        id        date  store_nbr                      family    sales  \\\n",
       "3564  3564  2013-01-03          1                  AUTOMOTIVE    3.000   \n",
       "3565  3565  2013-01-03          1                   BABY CARE    0.000   \n",
       "3566  3566  2013-01-03          1                      BEAUTY    0.000   \n",
       "3567  3567  2013-01-03          1                   BEVERAGES  919.000   \n",
       "3568  3568  2013-01-03          1                       BOOKS    0.000   \n",
       "...    ...         ...        ...                         ...      ...   \n",
       "5341  5341  2013-01-03          9                     POULTRY  509.496   \n",
       "5342  5342  2013-01-03          9              PREPARED FOODS   66.000   \n",
       "5343  5343  2013-01-03          9                     PRODUCE    0.000   \n",
       "5344  5344  2013-01-03          9  SCHOOL AND OFFICE SUPPLIES    0.000   \n",
       "5345  5345  2013-01-03          9                     SEAFOOD   25.000   \n",
       "\n",
       "      onpromotion  \n",
       "3564            0  \n",
       "3565            0  \n",
       "3566            0  \n",
       "3567            0  \n",
       "3568            0  \n",
       "...           ...  \n",
       "5341            0  \n",
       "5342            0  \n",
       "5343            0  \n",
       "5344            0  \n",
       "5345            0  \n",
       "\n",
       "[1782 rows x 6 columns]"
      ]
     },
     "execution_count": 3,
     "metadata": {},
     "output_type": "execute_result"
    }
   ],
   "source": [
    "df_train.loc[df_train.date == '2013-01-03']"
   ]
  },
  {
   "cell_type": "markdown",
   "id": "cd179d42",
   "metadata": {
    "papermill": {
     "duration": 0.017184,
     "end_time": "2024-02-10T19:10:14.550357",
     "exception": false,
     "start_time": "2024-02-10T19:10:14.533173",
     "status": "completed"
    },
    "tags": []
   },
   "source": [
    "This looks more like what one would expect. It's therefore likely that the store was indeed closed. We will address this later, when we incorporate the `df_holidays` dataset. \n",
    "\n",
    "# 1. Data cleaning\n",
    "\n",
    "For now, let's focus on cleaning up `df_train`. Does it have any missing values?"
   ]
  },
  {
   "cell_type": "code",
   "execution_count": 4,
   "id": "0b60804e",
   "metadata": {
    "execution": {
     "iopub.execute_input": "2024-02-10T19:10:14.587602Z",
     "iopub.status.busy": "2024-02-10T19:10:14.587219Z",
     "iopub.status.idle": "2024-02-10T19:10:15.209984Z",
     "shell.execute_reply": "2024-02-10T19:10:15.208975Z"
    },
    "papermill": {
     "duration": 0.644426,
     "end_time": "2024-02-10T19:10:15.212771",
     "exception": false,
     "start_time": "2024-02-10T19:10:14.568345",
     "status": "completed"
    },
    "tags": []
   },
   "outputs": [
    {
     "data": {
      "text/plain": [
       "id             0\n",
       "date           0\n",
       "store_nbr      0\n",
       "family         0\n",
       "sales          0\n",
       "onpromotion    0\n",
       "dtype: int64"
      ]
     },
     "execution_count": 4,
     "metadata": {},
     "output_type": "execute_result"
    }
   ],
   "source": [
    "df_train.isnull().sum()"
   ]
  },
  {
   "cell_type": "markdown",
   "id": "fec2c2a1",
   "metadata": {
    "papermill": {
     "duration": 0.017286,
     "end_time": "2024-02-10T19:10:15.248241",
     "exception": false,
     "start_time": "2024-02-10T19:10:15.230955",
     "status": "completed"
    },
    "tags": []
   },
   "source": [
    "No missing values! Great! Are the data types correct?"
   ]
  },
  {
   "cell_type": "code",
   "execution_count": 5,
   "id": "59b0a0c9",
   "metadata": {
    "execution": {
     "iopub.execute_input": "2024-02-10T19:10:15.285380Z",
     "iopub.status.busy": "2024-02-10T19:10:15.284979Z",
     "iopub.status.idle": "2024-02-10T19:10:15.292934Z",
     "shell.execute_reply": "2024-02-10T19:10:15.291908Z"
    },
    "papermill": {
     "duration": 0.029489,
     "end_time": "2024-02-10T19:10:15.295477",
     "exception": false,
     "start_time": "2024-02-10T19:10:15.265988",
     "status": "completed"
    },
    "tags": []
   },
   "outputs": [
    {
     "data": {
      "text/plain": [
       "id               int64\n",
       "date            object\n",
       "store_nbr        int64\n",
       "family          object\n",
       "sales          float64\n",
       "onpromotion      int64\n",
       "dtype: object"
      ]
     },
     "execution_count": 5,
     "metadata": {},
     "output_type": "execute_result"
    }
   ],
   "source": [
    "df_train.dtypes"
   ]
  },
  {
   "cell_type": "markdown",
   "id": "b9185912",
   "metadata": {
    "papermill": {
     "duration": 0.075937,
     "end_time": "2024-02-10T19:10:15.389033",
     "exception": false,
     "start_time": "2024-02-10T19:10:15.313096",
     "status": "completed"
    },
    "tags": []
   },
   "source": [
    "Looks like we will need to convert the `date` column into `datetime64` values. Let's do that. "
   ]
  },
  {
   "cell_type": "code",
   "execution_count": 6,
   "id": "55cd2353",
   "metadata": {
    "execution": {
     "iopub.execute_input": "2024-02-10T19:10:15.426732Z",
     "iopub.status.busy": "2024-02-10T19:10:15.426353Z",
     "iopub.status.idle": "2024-02-10T19:10:15.917228Z",
     "shell.execute_reply": "2024-02-10T19:10:15.915987Z"
    },
    "papermill": {
     "duration": 0.512676,
     "end_time": "2024-02-10T19:10:15.919726",
     "exception": false,
     "start_time": "2024-02-10T19:10:15.407050",
     "status": "completed"
    },
    "tags": []
   },
   "outputs": [
    {
     "data": {
      "text/plain": [
       "id                      int64\n",
       "date           datetime64[ns]\n",
       "store_nbr               int64\n",
       "family                 object\n",
       "sales                 float64\n",
       "onpromotion             int64\n",
       "dtype: object"
      ]
     },
     "execution_count": 6,
     "metadata": {},
     "output_type": "execute_result"
    }
   ],
   "source": [
    "df_train['date'] = pd.to_datetime(df_train['date'], format='%Y-%m-%d')\n",
    "df_train.dtypes"
   ]
  },
  {
   "cell_type": "markdown",
   "id": "040806a4",
   "metadata": {
    "papermill": {
     "duration": 0.017475,
     "end_time": "2024-02-10T19:10:15.955977",
     "exception": false,
     "start_time": "2024-02-10T19:10:15.938502",
     "status": "completed"
    },
    "tags": []
   },
   "source": [
    "The `id` column is not contributing anything (it is simply a copy of the index), so we should get rid of that."
   ]
  },
  {
   "cell_type": "code",
   "execution_count": 7,
   "id": "b3573f4b",
   "metadata": {
    "execution": {
     "iopub.execute_input": "2024-02-10T19:10:15.993784Z",
     "iopub.status.busy": "2024-02-10T19:10:15.993401Z",
     "iopub.status.idle": "2024-02-10T19:10:16.091387Z",
     "shell.execute_reply": "2024-02-10T19:10:16.090358Z"
    },
    "papermill": {
     "duration": 0.119962,
     "end_time": "2024-02-10T19:10:16.093983",
     "exception": false,
     "start_time": "2024-02-10T19:10:15.974021",
     "status": "completed"
    },
    "tags": []
   },
   "outputs": [
    {
     "data": {
      "text/html": [
       "<div>\n",
       "<style scoped>\n",
       "    .dataframe tbody tr th:only-of-type {\n",
       "        vertical-align: middle;\n",
       "    }\n",
       "\n",
       "    .dataframe tbody tr th {\n",
       "        vertical-align: top;\n",
       "    }\n",
       "\n",
       "    .dataframe thead th {\n",
       "        text-align: right;\n",
       "    }\n",
       "</style>\n",
       "<table border=\"1\" class=\"dataframe\">\n",
       "  <thead>\n",
       "    <tr style=\"text-align: right;\">\n",
       "      <th></th>\n",
       "      <th>date</th>\n",
       "      <th>store_nbr</th>\n",
       "      <th>family</th>\n",
       "      <th>sales</th>\n",
       "      <th>onpromotion</th>\n",
       "    </tr>\n",
       "  </thead>\n",
       "  <tbody>\n",
       "    <tr>\n",
       "      <th>0</th>\n",
       "      <td>2013-01-01</td>\n",
       "      <td>1</td>\n",
       "      <td>AUTOMOTIVE</td>\n",
       "      <td>0.000</td>\n",
       "      <td>0</td>\n",
       "    </tr>\n",
       "    <tr>\n",
       "      <th>1</th>\n",
       "      <td>2013-01-01</td>\n",
       "      <td>1</td>\n",
       "      <td>BABY CARE</td>\n",
       "      <td>0.000</td>\n",
       "      <td>0</td>\n",
       "    </tr>\n",
       "    <tr>\n",
       "      <th>2</th>\n",
       "      <td>2013-01-01</td>\n",
       "      <td>1</td>\n",
       "      <td>BEAUTY</td>\n",
       "      <td>0.000</td>\n",
       "      <td>0</td>\n",
       "    </tr>\n",
       "    <tr>\n",
       "      <th>3</th>\n",
       "      <td>2013-01-01</td>\n",
       "      <td>1</td>\n",
       "      <td>BEVERAGES</td>\n",
       "      <td>0.000</td>\n",
       "      <td>0</td>\n",
       "    </tr>\n",
       "    <tr>\n",
       "      <th>4</th>\n",
       "      <td>2013-01-01</td>\n",
       "      <td>1</td>\n",
       "      <td>BOOKS</td>\n",
       "      <td>0.000</td>\n",
       "      <td>0</td>\n",
       "    </tr>\n",
       "    <tr>\n",
       "      <th>...</th>\n",
       "      <td>...</td>\n",
       "      <td>...</td>\n",
       "      <td>...</td>\n",
       "      <td>...</td>\n",
       "      <td>...</td>\n",
       "    </tr>\n",
       "    <tr>\n",
       "      <th>3000883</th>\n",
       "      <td>2017-08-15</td>\n",
       "      <td>9</td>\n",
       "      <td>POULTRY</td>\n",
       "      <td>438.133</td>\n",
       "      <td>0</td>\n",
       "    </tr>\n",
       "    <tr>\n",
       "      <th>3000884</th>\n",
       "      <td>2017-08-15</td>\n",
       "      <td>9</td>\n",
       "      <td>PREPARED FOODS</td>\n",
       "      <td>154.553</td>\n",
       "      <td>1</td>\n",
       "    </tr>\n",
       "    <tr>\n",
       "      <th>3000885</th>\n",
       "      <td>2017-08-15</td>\n",
       "      <td>9</td>\n",
       "      <td>PRODUCE</td>\n",
       "      <td>2419.729</td>\n",
       "      <td>148</td>\n",
       "    </tr>\n",
       "    <tr>\n",
       "      <th>3000886</th>\n",
       "      <td>2017-08-15</td>\n",
       "      <td>9</td>\n",
       "      <td>SCHOOL AND OFFICE SUPPLIES</td>\n",
       "      <td>121.000</td>\n",
       "      <td>8</td>\n",
       "    </tr>\n",
       "    <tr>\n",
       "      <th>3000887</th>\n",
       "      <td>2017-08-15</td>\n",
       "      <td>9</td>\n",
       "      <td>SEAFOOD</td>\n",
       "      <td>16.000</td>\n",
       "      <td>0</td>\n",
       "    </tr>\n",
       "  </tbody>\n",
       "</table>\n",
       "<p>3000888 rows × 5 columns</p>\n",
       "</div>"
      ],
      "text/plain": [
       "              date  store_nbr                      family     sales  \\\n",
       "0       2013-01-01          1                  AUTOMOTIVE     0.000   \n",
       "1       2013-01-01          1                   BABY CARE     0.000   \n",
       "2       2013-01-01          1                      BEAUTY     0.000   \n",
       "3       2013-01-01          1                   BEVERAGES     0.000   \n",
       "4       2013-01-01          1                       BOOKS     0.000   \n",
       "...            ...        ...                         ...       ...   \n",
       "3000883 2017-08-15          9                     POULTRY   438.133   \n",
       "3000884 2017-08-15          9              PREPARED FOODS   154.553   \n",
       "3000885 2017-08-15          9                     PRODUCE  2419.729   \n",
       "3000886 2017-08-15          9  SCHOOL AND OFFICE SUPPLIES   121.000   \n",
       "3000887 2017-08-15          9                     SEAFOOD    16.000   \n",
       "\n",
       "         onpromotion  \n",
       "0                  0  \n",
       "1                  0  \n",
       "2                  0  \n",
       "3                  0  \n",
       "4                  0  \n",
       "...              ...  \n",
       "3000883            0  \n",
       "3000884            1  \n",
       "3000885          148  \n",
       "3000886            8  \n",
       "3000887            0  \n",
       "\n",
       "[3000888 rows x 5 columns]"
      ]
     },
     "execution_count": 7,
     "metadata": {},
     "output_type": "execute_result"
    }
   ],
   "source": [
    "df_train = df_train.loc[:,'date':'onpromotion']\n",
    "df_train"
   ]
  },
  {
   "cell_type": "markdown",
   "id": "46d5f64f",
   "metadata": {
    "papermill": {
     "duration": 0.01822,
     "end_time": "2024-02-10T19:10:16.130815",
     "exception": false,
     "start_time": "2024-02-10T19:10:16.112595",
     "status": "completed"
    },
    "tags": []
   },
   "source": [
    "Next, let's check that the data entry is consistent for the `family` feature."
   ]
  },
  {
   "cell_type": "code",
   "execution_count": 8,
   "id": "d4ef416d",
   "metadata": {
    "execution": {
     "iopub.execute_input": "2024-02-10T19:10:16.169802Z",
     "iopub.status.busy": "2024-02-10T19:10:16.169417Z",
     "iopub.status.idle": "2024-02-10T19:10:16.442871Z",
     "shell.execute_reply": "2024-02-10T19:10:16.442087Z"
    },
    "papermill": {
     "duration": 0.295563,
     "end_time": "2024-02-10T19:10:16.444988",
     "exception": false,
     "start_time": "2024-02-10T19:10:16.149425",
     "status": "completed"
    },
    "tags": []
   },
   "outputs": [
    {
     "data": {
      "text/plain": [
       "array(['AUTOMOTIVE', 'BABY CARE', 'BEAUTY', 'BEVERAGES', 'BOOKS',\n",
       "       'BREAD/BAKERY', 'CELEBRATION', 'CLEANING', 'DAIRY', 'DELI', 'EGGS',\n",
       "       'FROZEN FOODS', 'GROCERY I', 'GROCERY II', 'HARDWARE',\n",
       "       'HOME AND KITCHEN I', 'HOME AND KITCHEN II', 'HOME APPLIANCES',\n",
       "       'HOME CARE', 'LADIESWEAR', 'LAWN AND GARDEN', 'LINGERIE',\n",
       "       'LIQUOR,WINE,BEER', 'MAGAZINES', 'MEATS', 'PERSONAL CARE',\n",
       "       'PET SUPPLIES', 'PLAYERS AND ELECTRONICS', 'POULTRY',\n",
       "       'PREPARED FOODS', 'PRODUCE', 'SCHOOL AND OFFICE SUPPLIES',\n",
       "       'SEAFOOD'], dtype=object)"
      ]
     },
     "execution_count": 8,
     "metadata": {},
     "output_type": "execute_result"
    }
   ],
   "source": [
    "df_train.family.unique()"
   ]
  },
  {
   "cell_type": "markdown",
   "id": "4483b454",
   "metadata": {
    "papermill": {
     "duration": 0.018249,
     "end_time": "2024-02-10T19:10:16.481856",
     "exception": false,
     "start_time": "2024-02-10T19:10:16.463607",
     "status": "completed"
    },
    "tags": []
   },
   "source": [
    "There are no obvious issues here; great! We also need to consider whether we need to scale/normalise our data. But our only numeric feature for now is `onpromotion`, so this does not seem necessary. We may need to come back to that once we add the features from the other datasets."
   ]
  },
  {
   "cell_type": "markdown",
   "id": "3102c6a7",
   "metadata": {
    "papermill": {
     "duration": 0.018035,
     "end_time": "2024-02-10T19:10:16.518055",
     "exception": false,
     "start_time": "2024-02-10T19:10:16.500020",
     "status": "completed"
    },
    "tags": []
   },
   "source": [
    "# 2. Baseline model\n",
    "\n",
    "We can use linear regression as a simple baseline model to compare our results against. But first, we need to encode our categorical features so they have numeric values. Since this is our baseline model, let's keep things simple by using a basic Label Encoder."
   ]
  },
  {
   "cell_type": "code",
   "execution_count": 9,
   "id": "517f43ab",
   "metadata": {
    "execution": {
     "iopub.execute_input": "2024-02-10T19:10:16.557308Z",
     "iopub.status.busy": "2024-02-10T19:10:16.556936Z",
     "iopub.status.idle": "2024-02-10T19:10:17.718933Z",
     "shell.execute_reply": "2024-02-10T19:10:17.717964Z"
    },
    "papermill": {
     "duration": 1.18457,
     "end_time": "2024-02-10T19:10:17.721609",
     "exception": false,
     "start_time": "2024-02-10T19:10:16.537039",
     "status": "completed"
    },
    "tags": []
   },
   "outputs": [],
   "source": [
    "X = df_train.copy()\n",
    "y = X.pop('sales')\n",
    "\n",
    "date_enc = LabelEncoder()\n",
    "family_enc = LabelEncoder()\n",
    "X.date = date_enc.fit_transform(X.date)\n",
    "X.family = family_enc.fit_transform(X.family)"
   ]
  },
  {
   "cell_type": "markdown",
   "id": "adb12a16",
   "metadata": {
    "papermill": {
     "duration": 0.018656,
     "end_time": "2024-02-10T19:10:17.759599",
     "exception": false,
     "start_time": "2024-02-10T19:10:17.740943",
     "status": "completed"
    },
    "tags": []
   },
   "source": [
    "Note that even though we have two datasets `df_train` and `df_test`, this is not a true train-test split, since `df_test` does not contain a `sales` column. This means that we cannot use `df_test` for testing; instead, we will need to split `df_train` into a training set and a testing set and test on that. Once we have a model that gives a low RMSLE on this, we can then train on the entirety of `df_train` and predict the `sales` values of `df_test`.\n",
    "\n",
    "Since our dataset `df_train` has over 3 million rows, a test size of 20% should be plenty."
   ]
  },
  {
   "cell_type": "code",
   "execution_count": 10,
   "id": "01e7432a",
   "metadata": {
    "execution": {
     "iopub.execute_input": "2024-02-10T19:10:17.798874Z",
     "iopub.status.busy": "2024-02-10T19:10:17.798480Z",
     "iopub.status.idle": "2024-02-10T19:10:18.420535Z",
     "shell.execute_reply": "2024-02-10T19:10:18.419302Z"
    },
    "papermill": {
     "duration": 0.64485,
     "end_time": "2024-02-10T19:10:18.423290",
     "exception": false,
     "start_time": "2024-02-10T19:10:17.778440",
     "status": "completed"
    },
    "tags": []
   },
   "outputs": [],
   "source": [
    "X_train, X_test, y_train, y_test = train_test_split(X, y, test_size=0.2, random_state=23)"
   ]
  },
  {
   "cell_type": "markdown",
   "id": "52cb7ae9",
   "metadata": {
    "papermill": {
     "duration": 0.018215,
     "end_time": "2024-02-10T19:10:18.460355",
     "exception": false,
     "start_time": "2024-02-10T19:10:18.442140",
     "status": "completed"
    },
    "tags": []
   },
   "source": [
    "We are now ready to fit our linear regression model!"
   ]
  },
  {
   "cell_type": "code",
   "execution_count": 11,
   "id": "2d9beeef",
   "metadata": {
    "execution": {
     "iopub.execute_input": "2024-02-10T19:10:18.498980Z",
     "iopub.status.busy": "2024-02-10T19:10:18.498548Z",
     "iopub.status.idle": "2024-02-10T19:10:19.537147Z",
     "shell.execute_reply": "2024-02-10T19:10:19.535662Z"
    },
    "papermill": {
     "duration": 1.063109,
     "end_time": "2024-02-10T19:10:19.541805",
     "exception": false,
     "start_time": "2024-02-10T19:10:18.478696",
     "status": "completed"
    },
    "tags": []
   },
   "outputs": [
    {
     "name": "stdout",
     "output_type": "stream",
     "text": [
      "Accuracy of model on training data: 0.19387053539165477\n",
      "Accuracy of model on testing data: 0.1920690456186942\n",
      "RMSLE: 3.686436134651758\n"
     ]
    }
   ],
   "source": [
    "reg_model = LinearRegression()\n",
    "reg_model.fit(X_train, y_train)\n",
    "predictions = reg_model.predict(X_test)\n",
    "\n",
    "print(f'Accuracy of model on training data: {reg_model.score(X_train, y_train)}')\n",
    "print(f'Accuracy of model on testing data: {r2_score(y_test, predictions)}')\n",
    "print(f'RMSLE: {rmsle(y_test.values, predictions)}')"
   ]
  },
  {
   "cell_type": "markdown",
   "id": "6e754d97",
   "metadata": {
    "papermill": {
     "duration": 0.01858,
     "end_time": "2024-02-10T19:10:19.584441",
     "exception": false,
     "start_time": "2024-02-10T19:10:19.565861",
     "status": "completed"
    },
    "tags": []
   },
   "source": [
    "The accuracy of the model seems pretty bad on both the training and testing data, but that is to be expected. The model also slightly overfits, but only by a very small margin."
   ]
  },
  {
   "cell_type": "markdown",
   "id": "e20f58b5",
   "metadata": {
    "papermill": {
     "duration": 0.018794,
     "end_time": "2024-02-10T19:10:19.624584",
     "exception": false,
     "start_time": "2024-02-10T19:10:19.605790",
     "status": "completed"
    },
    "tags": []
   },
   "source": [
    "# 3. Picking a better model\n",
    "\n",
    "A good general-purpose model is the Random Forest model, so we will try that."
   ]
  },
  {
   "cell_type": "code",
   "execution_count": 12,
   "id": "6022a0cd",
   "metadata": {
    "execution": {
     "iopub.execute_input": "2024-02-10T19:10:19.666247Z",
     "iopub.status.busy": "2024-02-10T19:10:19.665845Z",
     "iopub.status.idle": "2024-02-10T19:26:00.599338Z",
     "shell.execute_reply": "2024-02-10T19:26:00.598026Z"
    },
    "papermill": {
     "duration": 940.98602,
     "end_time": "2024-02-10T19:26:00.631685",
     "exception": false,
     "start_time": "2024-02-10T19:10:19.645665",
     "status": "completed"
    },
    "tags": []
   },
   "outputs": [
    {
     "name": "stdout",
     "output_type": "stream",
     "text": [
      "Accuracy of model on training data: 0.9855113833970941\n",
      "Accuracy of model on testing data: 0.9078590130473214\n",
      "RMSLE: 0.5489546905034578\n"
     ]
    }
   ],
   "source": [
    "reg_model = RandomForestRegressor(random_state=23)\n",
    "reg_model.fit(X_train, y_train)\n",
    "predictions = reg_model.predict(X_test)\n",
    "\n",
    "base_forest_rmsle = rmsle(y_test.values, predictions)\n",
    "print(f'Accuracy of model on training data: {reg_model.score(X_train, y_train)}')\n",
    "print(f'Accuracy of model on testing data: {r2_score(y_test, predictions)}')\n",
    "print(f'RMSLE: {base_forest_rmsle}')"
   ]
  },
  {
   "cell_type": "markdown",
   "id": "8a1b651b",
   "metadata": {
    "papermill": {
     "duration": 0.024004,
     "end_time": "2024-02-10T19:26:00.677547",
     "exception": false,
     "start_time": "2024-02-10T19:26:00.653543",
     "status": "completed"
    },
    "tags": []
   },
   "source": [
    "This is much better already! The overfitting is more apparent with this model, but overall accuracy and RMSLE have improved a huge amount.\n",
    "\n",
    "After tuning the hyperparameters, we see that the following produces a better result."
   ]
  },
  {
   "cell_type": "code",
   "execution_count": 13,
   "id": "4b7e4573",
   "metadata": {
    "execution": {
     "iopub.execute_input": "2024-02-10T19:26:00.718208Z",
     "iopub.status.busy": "2024-02-10T19:26:00.717190Z",
     "iopub.status.idle": "2024-02-10T19:38:00.076943Z",
     "shell.execute_reply": "2024-02-10T19:38:00.075092Z"
    },
    "papermill": {
     "duration": 719.406782,
     "end_time": "2024-02-10T19:38:00.103620",
     "exception": false,
     "start_time": "2024-02-10T19:26:00.696838",
     "status": "completed"
    },
    "tags": []
   },
   "outputs": [
    {
     "name": "stdout",
     "output_type": "stream",
     "text": [
      "Accuracy of model on training data: 0.960866058692087\n",
      "Accuracy of model on testing data: 0.909054759281911\n",
      "RMSLE: 0.5340370548147686\n"
     ]
    }
   ],
   "source": [
    "reg_model = RandomForestRegressor(n_estimators=200, min_samples_leaf=2, max_depth=25, max_leaf_nodes=250000, n_jobs=8, random_state=23)\n",
    "reg_model.fit(X_train, y_train)\n",
    "predictions = reg_model.predict(X_test)\n",
    "\n",
    "train_acc = reg_model.score(X_train, y_train)\n",
    "test_acc = r2_score(y_test, predictions)\n",
    "rmsle_score = rmsle(y_test.values, predictions)\n",
    "\n",
    "print(f'Accuracy of model on training data: {train_acc}')\n",
    "print(f'Accuracy of model on testing data: {test_acc}')\n",
    "print(f'RMSLE: {rmsle_score}')\n",
    "# print(f'Max depths: {[estimator.tree_.max_depth for estimator in reg_model.estimators_]}')\n",
    "# print(f'Numbers of leaves: {[estimator.tree_.n_leaves for estimator in reg_model.estimators_]}')"
   ]
  },
  {
   "cell_type": "markdown",
   "id": "eea987ed",
   "metadata": {
    "papermill": {
     "duration": 0.01858,
     "end_time": "2024-02-10T19:38:00.141164",
     "exception": false,
     "start_time": "2024-02-10T19:38:00.122584",
     "status": "completed"
    },
    "tags": []
   },
   "source": [
    "This RMSLE is our new score to beat as we move on to the feature engineering stage."
   ]
  },
  {
   "cell_type": "markdown",
   "id": "5642bf8d",
   "metadata": {
    "papermill": {
     "duration": 0.01816,
     "end_time": "2024-02-10T19:38:00.178074",
     "exception": false,
     "start_time": "2024-02-10T19:38:00.159914",
     "status": "completed"
    },
    "tags": []
   },
   "source": [
    "# 4. Feature engineering\n",
    "\n",
    "## 4.1. Target encoding\n",
    "\n",
    "Now that we have our Random Forest model set up, let's do some feature engineering to improve its performance. The first thing we can do is improve the encoding of the `family` feature by using *target encoding*. We have over 3 million rows in our dataset, so can safely set some aside for target encoding; in fact, just setting aside 3% of our total dataset should be sufficient. Notice also that each of the categories in the `family` column appears in an equal number of rows. This is a good sign that a target encoding might work well."
   ]
  },
  {
   "cell_type": "code",
   "execution_count": 14,
   "id": "e598dc05",
   "metadata": {
    "execution": {
     "iopub.execute_input": "2024-02-10T19:38:00.219155Z",
     "iopub.status.busy": "2024-02-10T19:38:00.218641Z",
     "iopub.status.idle": "2024-02-10T19:38:02.199373Z",
     "shell.execute_reply": "2024-02-10T19:38:02.198207Z"
    },
    "papermill": {
     "duration": 2.005323,
     "end_time": "2024-02-10T19:38:02.202004",
     "exception": false,
     "start_time": "2024-02-10T19:38:00.196681",
     "status": "completed"
    },
    "tags": []
   },
   "outputs": [],
   "source": [
    "X = df_train.copy()\n",
    "y = X.pop('sales')\n",
    "date_enc = LabelEncoder()\n",
    "X.date = date_enc.fit_transform(X.date)\n",
    "\n",
    "X_encode = X.sample(frac=0.03, random_state=23)\n",
    "y_encode = y[X_encode.index]\n",
    "X_pretrain = X.drop(X_encode.index)\n",
    "y_pretrain = y[X_pretrain.index]\n",
    "encoder = MEstimateEncoder(cols=['family'], m=10.0)\n",
    "encoder.fit(X_encode, y_encode)\n",
    "X_pretrain = encoder.transform(X_pretrain)"
   ]
  },
  {
   "cell_type": "markdown",
   "id": "8bbd8be6",
   "metadata": {
    "papermill": {
     "duration": 0.01822,
     "end_time": "2024-02-10T19:38:02.239616",
     "exception": false,
     "start_time": "2024-02-10T19:38:02.221396",
     "status": "completed"
    },
    "tags": []
   },
   "source": [
    "Let's test our model again. We will remove some of the hyperparameter settings on the random forest model for now, as our feature engineering will likely result in us needing to change the tuning."
   ]
  },
  {
   "cell_type": "code",
   "execution_count": 15,
   "id": "d9d6d798",
   "metadata": {
    "execution": {
     "iopub.execute_input": "2024-02-10T19:38:02.280838Z",
     "iopub.status.busy": "2024-02-10T19:38:02.280168Z",
     "iopub.status.idle": "2024-02-10T19:44:29.027491Z",
     "shell.execute_reply": "2024-02-10T19:44:29.026360Z"
    },
    "papermill": {
     "duration": 386.789367,
     "end_time": "2024-02-10T19:44:29.049242",
     "exception": false,
     "start_time": "2024-02-10T19:38:02.259875",
     "status": "completed"
    },
    "tags": []
   },
   "outputs": [
    {
     "name": "stdout",
     "output_type": "stream",
     "text": [
      "Accuracy of model on training data: 0.9862433771060769\n",
      "Accuracy of model on testing data: 0.8941582445797346\n",
      "RMSLE: 0.5447023665640118\n",
      "Better RMSLE: True\n"
     ]
    }
   ],
   "source": [
    "X_train, X_test, y_train, y_test = train_test_split(X_pretrain, y_pretrain, test_size=0.2, random_state=23)\n",
    "\n",
    "reg_model = RandomForestRegressor(n_jobs=8, random_state=23)\n",
    "reg_model.fit(X_train, y_train)\n",
    "predictions = reg_model.predict(X_test)\n",
    "\n",
    "train_acc = reg_model.score(X_train, y_train)\n",
    "test_acc = r2_score(y_test, predictions)\n",
    "rmsle_score = rmsle(y_test.values, predictions)\n",
    "\n",
    "print(f'Accuracy of model on training data: {train_acc}')\n",
    "print(f'Accuracy of model on testing data: {test_acc}')\n",
    "print(f'RMSLE: {rmsle_score}')\n",
    "print(f'Better RMSLE: {rmsle_score < base_forest_rmsle}')\n",
    "# print(f'Max depths: {[estimator.tree_.max_depth for estimator in reg_model.estimators_]}')\n",
    "# print(f'Numbers of leaves: {[estimator.tree_.n_leaves for estimator in reg_model.estimators_]}')"
   ]
  },
  {
   "cell_type": "markdown",
   "id": "791b3345",
   "metadata": {
    "papermill": {
     "duration": 0.018512,
     "end_time": "2024-02-10T19:44:29.086721",
     "exception": false,
     "start_time": "2024-02-10T19:44:29.068209",
     "status": "completed"
    },
    "tags": []
   },
   "source": [
    "We see a small improvement in the RMSLE, so we'll keep the encoding."
   ]
  },
  {
   "cell_type": "markdown",
   "id": "d70afbac",
   "metadata": {
    "papermill": {
     "duration": 0.018465,
     "end_time": "2024-02-10T19:44:29.123990",
     "exception": false,
     "start_time": "2024-02-10T19:44:29.105525",
     "status": "completed"
    },
    "tags": []
   },
   "source": [
    "## 4.2. Autoregression analysis\n",
    "\n",
    "Since our data has the form of a time series, we need to test for autoregression and restructure it using a *sliding window representation*, which allows past `sales` data to be used as a feature to predict future `sales` data.\n",
    "\n",
    "We need to be careful with how we use lag here, since for each day of data we have multiple stores with multiple products. Let's check that the numbers of items stocked and the number of stores listed each day are consistent across the dataset."
   ]
  },
  {
   "cell_type": "code",
   "execution_count": 16,
   "id": "e5aeb5fe",
   "metadata": {
    "execution": {
     "iopub.execute_input": "2024-02-10T19:44:29.163194Z",
     "iopub.status.busy": "2024-02-10T19:44:29.162645Z",
     "iopub.status.idle": "2024-02-10T19:44:29.435464Z",
     "shell.execute_reply": "2024-02-10T19:44:29.434295Z"
    },
    "papermill": {
     "duration": 0.294942,
     "end_time": "2024-02-10T19:44:29.437831",
     "exception": false,
     "start_time": "2024-02-10T19:44:29.142889",
     "status": "completed"
    },
    "tags": []
   },
   "outputs": [
    {
     "name": "stdout",
     "output_type": "stream",
     "text": [
      "Every store stocks the same number of items every day: True\n",
      "Every store is present in the data set across the same days: True\n",
      "Every store stocks 33 items.\n",
      "There are 54 stores.\n"
     ]
    }
   ],
   "source": [
    "n_items_per_store = df_train.groupby('store_nbr').date.value_counts()\n",
    "print(f'Every store stocks the same number of items every day: {n_items_per_store.nunique() == 1}')\n",
    "n_days_per_store = df_train.groupby('store_nbr').date.count()\n",
    "print(f'Every store is present in the data set across the same days: {n_days_per_store.nunique() == 1}')\n",
    "print(f'Every store stocks {n_items_per_store.iloc[0]} items.')\n",
    "print(f'There are {df_train.store_nbr.nunique()} stores.')"
   ]
  },
  {
   "cell_type": "markdown",
   "id": "8058478b",
   "metadata": {
    "papermill": {
     "duration": 0.018604,
     "end_time": "2024-02-10T19:44:29.475398",
     "exception": false,
     "start_time": "2024-02-10T19:44:29.456794",
     "status": "completed"
    },
    "tags": []
   },
   "source": [
    "We can see that every store stocks 33 items every day, and every store is listed in the dataset on each day. Moreover, there are 54 stores. Thus, any lag in our data should be a multiple of `33*54`, as this is the number of rows in our dataset per day. Since the stores and items listed each day are consistent, each multiple of `33*54` should accurately represent one day of lag.\n",
    "\n",
    "We therefore plot the autocorrelation function for `sales`, using 740 lags (in multiples of `33*54`) so that we are able to capture potential annual lag. Since our dataset is so huge, we will only plot this for the first 5 stores (so we use multiples of `33*5` instead)."
   ]
  },
  {
   "cell_type": "code",
   "execution_count": 17,
   "id": "13251d37",
   "metadata": {
    "execution": {
     "iopub.execute_input": "2024-02-10T19:44:29.515668Z",
     "iopub.status.busy": "2024-02-10T19:44:29.514675Z",
     "iopub.status.idle": "2024-02-10T19:44:46.993053Z",
     "shell.execute_reply": "2024-02-10T19:44:46.991794Z"
    },
    "papermill": {
     "duration": 17.501357,
     "end_time": "2024-02-10T19:44:46.995845",
     "exception": false,
     "start_time": "2024-02-10T19:44:29.494488",
     "status": "completed"
    },
    "tags": []
   },
   "outputs": [
    {
     "data": {
      "image/png": "[encoded data removed]",
      "text/plain": [
       "<Figure size 640x480 with 1 Axes>"
      ]
     },
     "metadata": {},
     "output_type": "display_data"
    }
   ],
   "source": [
    "plot_acf(df_train.loc[df_train.store_nbr.isin(range(1,6))].sales.values, lags = [33*5*i for i in range(740)]); # semicolon prevents duplicate plots"
   ]
  },
  {
   "cell_type": "markdown",
   "id": "dac61b71",
   "metadata": {
    "papermill": {
     "duration": 0.019118,
     "end_time": "2024-02-10T19:44:47.034601",
     "exception": false,
     "start_time": "2024-02-10T19:44:47.015483",
     "status": "completed"
    },
    "tags": []
   },
   "source": [
    "There definitely does not seem to be autocorrelation on a yearly scale; in fact, the amount of autocorrelation appears to be decreasing linearly on the large scale. Lets decrease the number of lags to 70 to see if there is any autocorrelation on the monthly or weekly scale."
   ]
  },
  {
   "cell_type": "code",
   "execution_count": 18,
   "id": "dc18c731",
   "metadata": {
    "execution": {
     "iopub.execute_input": "2024-02-10T19:44:47.075483Z",
     "iopub.status.busy": "2024-02-10T19:44:47.075079Z",
     "iopub.status.idle": "2024-02-10T19:45:02.665883Z",
     "shell.execute_reply": "2024-02-10T19:45:02.664520Z"
    },
    "papermill": {
     "duration": 15.614573,
     "end_time": "2024-02-10T19:45:02.668770",
     "exception": false,
     "start_time": "2024-02-10T19:44:47.054197",
     "status": "completed"
    },
    "tags": []
   },
   "outputs": [
    {
     "data": {
      "image/png": "[encoded data removed]",
      "text/plain": [
       "<Figure size 640x480 with 1 Axes>"
      ]
     },
     "metadata": {},
     "output_type": "display_data"
    }
   ],
   "source": [
    "plot_acf(df_train.loc[df_train.store_nbr.isin(range(1,6))].sales.values, lags = [33*5*i for i in range(70)]);"
   ]
  },
  {
   "cell_type": "markdown",
   "id": "c4983749",
   "metadata": {
    "papermill": {
     "duration": 0.019865,
     "end_time": "2024-02-10T19:45:02.709646",
     "exception": false,
     "start_time": "2024-02-10T19:45:02.689781",
     "status": "completed"
    },
    "tags": []
   },
   "source": [
    "This looks more promising! We can see there is a high degree of autocorrelation if we restrict to at most two months of lag, and in fact the autocorrelation appears to spike weekly. This justifies adding a `sales_last_week` feature. \n",
    "\n",
    "Note that we now need to be careful when making our train-test splits; if some of our testing data is from an earlier date than some of our training data, then `sales_last_week` will give our training data undue information about that testing data. We therefore need to make our splits without shuffling the data, so that all the testing data appears after the training data. We also can't use `sales_last_week` in our testing data, except for the first week of the test data; the rest we will have to fill in one week at a time via *walk-forward validation*. To simplify this process, we will only test on the last 15 weeks from `df_train`; this represents 5% of the total data."
   ]
  },
  {
   "cell_type": "code",
   "execution_count": 19,
   "id": "1683f17c",
   "metadata": {
    "execution": {
     "iopub.execute_input": "2024-02-10T19:45:02.751577Z",
     "iopub.status.busy": "2024-02-10T19:45:02.751177Z",
     "iopub.status.idle": "2024-02-10T19:45:03.263919Z",
     "shell.execute_reply": "2024-02-10T19:45:03.262863Z"
    },
    "papermill": {
     "duration": 0.537029,
     "end_time": "2024-02-10T19:45:03.266587",
     "exception": false,
     "start_time": "2024-02-10T19:45:02.729558",
     "status": "completed"
    },
    "tags": []
   },
   "outputs": [],
   "source": [
    "X_pretrain['sales_last_week'] = y_pretrain.shift(33*54*7)\n",
    "X_pretrain.dropna(inplace=True)\n",
    "y_pretrain = y_pretrain[X_pretrain.index]\n",
    "\n",
    "X_train, X_test, y_train, y_test = train_test_split(X_pretrain, y_pretrain, test_size=33*54*7*15, shuffle=False)"
   ]
  },
  {
   "cell_type": "markdown",
   "id": "b360418b",
   "metadata": {
    "papermill": {
     "duration": 0.019731,
     "end_time": "2024-02-10T19:45:03.306737",
     "exception": false,
     "start_time": "2024-02-10T19:45:03.287006",
     "status": "completed"
    },
    "tags": []
   },
   "source": [
    "Let's test our model again. Note that we will also have to test the previous random forest model with this new train-test split, in order to get an accurate picture of whether we have made an improvement."
   ]
  },
  {
   "cell_type": "code",
   "execution_count": 20,
   "id": "dc0b17e6",
   "metadata": {
    "execution": {
     "iopub.execute_input": "2024-02-10T19:45:03.348805Z",
     "iopub.status.busy": "2024-02-10T19:45:03.348411Z",
     "iopub.status.idle": "2024-02-10T19:51:15.368376Z",
     "shell.execute_reply": "2024-02-10T19:51:15.367077Z"
    },
    "papermill": {
     "duration": 372.064201,
     "end_time": "2024-02-10T19:51:15.391045",
     "exception": false,
     "start_time": "2024-02-10T19:45:03.326844",
     "status": "completed"
    },
    "tags": []
   },
   "outputs": [
    {
     "name": "stdout",
     "output_type": "stream",
     "text": [
      "Accuracy of old model on training data: 0.9867690983448513\n",
      "Accuracy of old model on testing data: 0.8767156788191243\n",
      "RMSLE: 0.596316319204942\n"
     ]
    }
   ],
   "source": [
    "X_train_old = X_train.drop(columns='sales_last_week')\n",
    "X_test_old = X_test.drop(columns='sales_last_week')\n",
    "\n",
    "reg_model = RandomForestRegressor(n_jobs=8, random_state=23)\n",
    "reg_model.fit(X_train_old, y_train)\n",
    "predictions = reg_model.predict(X_test_old)\n",
    "\n",
    "old_train_acc = reg_model.score(X_train_old, y_train)\n",
    "old_test_acc = r2_score(y_test, predictions)\n",
    "base_forest_rmsle = rmsle(y_test.values, predictions)\n",
    "\n",
    "print(f'Accuracy of old model on training data: {old_train_acc}')\n",
    "print(f'Accuracy of old model on testing data: {old_test_acc}')\n",
    "print(f'RMSLE: {base_forest_rmsle}')"
   ]
  },
  {
   "cell_type": "code",
   "execution_count": 21,
   "id": "57f3de80",
   "metadata": {
    "execution": {
     "iopub.execute_input": "2024-02-10T19:51:15.433288Z",
     "iopub.status.busy": "2024-02-10T19:51:15.432890Z",
     "iopub.status.idle": "2024-02-10T19:59:41.738540Z",
     "shell.execute_reply": "2024-02-10T19:59:41.734059Z"
    },
    "papermill": {
     "duration": 506.354739,
     "end_time": "2024-02-10T19:59:41.766084",
     "exception": false,
     "start_time": "2024-02-10T19:51:15.411345",
     "status": "completed"
    },
    "tags": []
   },
   "outputs": [
    {
     "name": "stdout",
     "output_type": "stream",
     "text": [
      "Accuracy of new model on training data: 0.9853681825576727\n",
      "Accuracy of new model on testing data: 0.8857992238514758\n",
      "RMSLE: 0.5922595096068964\n",
      "Better RMSLE: True\n"
     ]
    }
   ],
   "source": [
    "reg_model = RandomForestRegressor(n_jobs=8, random_state=23)\n",
    "reg_model.fit(X_train, y_train)\n",
    "\n",
    "predictions = reg_model.predict(X_test.iloc[:33*54*7])\n",
    "for i in range(1,15):\n",
    "    X_test.iloc[33*54*7*i : 33*54*7*(i+1), -1] = pd.Series(predictions[33*54*7*(i-1):33*54*7*i], index=X_test.iloc[33*54*7*i : 33*54*7*(i+1), -1].index)\n",
    "    predictions = np.concatenate((predictions, reg_model.predict(X_test.iloc[33*54*7*i : 33*54*7*(i+1)])))\n",
    "\n",
    "train_acc = reg_model.score(X_train, y_train)\n",
    "test_acc = r2_score(y_test, predictions)\n",
    "rmsle_score = rmsle(y_test.values, predictions)\n",
    "\n",
    "print(f'Accuracy of new model on training data: {train_acc}')\n",
    "print(f'Accuracy of new model on testing data: {test_acc}')\n",
    "print(f'RMSLE: {rmsle_score}')\n",
    "print(f'Better RMSLE: {rmsle_score < base_forest_rmsle}')\n",
    "\n",
    "previous_rmsle = rmsle_score"
   ]
  },
  {
   "cell_type": "markdown",
   "id": "9bb2cd43",
   "metadata": {
    "papermill": {
     "duration": 0.020935,
     "end_time": "2024-02-10T19:59:41.807777",
     "exception": false,
     "start_time": "2024-02-10T19:59:41.786842",
     "status": "completed"
    },
    "tags": []
   },
   "source": [
    "The RMSLE has improved and there is less overfitting now, too. Great!"
   ]
  },
  {
   "cell_type": "markdown",
   "id": "1e612f56",
   "metadata": {
    "papermill": {
     "duration": 0.020041,
     "end_time": "2024-02-10T19:59:41.848474",
     "exception": false,
     "start_time": "2024-02-10T19:59:41.828433",
     "status": "completed"
    },
    "tags": []
   },
   "source": [
    "## 4.3. Anomaly detection\n",
    "\n",
    "We know that there was a big earthquake on April 16, 2016 which greatly affected sales for weeks afterwards. We are therefore expecting significant anomalies in the sales figures around this time. Let's visualise our data to see if this is the case."
   ]
  },
  {
   "cell_type": "code",
   "execution_count": 22,
   "id": "57d4edf1",
   "metadata": {
    "execution": {
     "iopub.execute_input": "2024-02-10T19:59:41.891600Z",
     "iopub.status.busy": "2024-02-10T19:59:41.890635Z",
     "iopub.status.idle": "2024-02-10T20:01:29.122124Z",
     "shell.execute_reply": "2024-02-10T20:01:29.121131Z"
    },
    "papermill": {
     "duration": 107.255836,
     "end_time": "2024-02-10T20:01:29.124676",
     "exception": false,
     "start_time": "2024-02-10T19:59:41.868840",
     "status": "completed"
    },
    "tags": []
   },
   "outputs": [
    {
     "data": {
      "text/plain": [
       "<Axes: xlabel='year_month', ylabel='sales'>"
      ]
     },
     "execution_count": 22,
     "metadata": {},
     "output_type": "execute_result"
    },
    {
     "data": {
      "image/png": "[encoded data removed]",
      "text/plain": [
       "<Figure size 1200x400 with 1 Axes>"
      ]
     },
     "metadata": {},
     "output_type": "display_data"
    }
   ],
   "source": [
    "df_plot = df_train.copy()\n",
    "df_plot['year_month'] = df_plot['date'].dt.to_period('M')\n",
    "fig, ax = plt.subplots(figsize=(12, 4))\n",
    "ax.tick_params(axis='x', rotation=90)\n",
    "sns.stripplot(x='year_month', y='sales', ax=ax, data=df_plot)"
   ]
  },
  {
   "cell_type": "markdown",
   "id": "a5376942",
   "metadata": {
    "papermill": {
     "duration": 0.020979,
     "end_time": "2024-02-10T20:01:29.167072",
     "exception": false,
     "start_time": "2024-02-10T20:01:29.146093",
     "status": "completed"
    },
    "tags": []
   },
   "source": [
    "We indeed see a huge spike in April and May 2016. There also seems to be an unexpected spike in October 2016. Let's look at the 2016 sales week-by-week."
   ]
  },
  {
   "cell_type": "code",
   "execution_count": 23,
   "id": "7e40d91a",
   "metadata": {
    "execution": {
     "iopub.execute_input": "2024-02-10T20:01:29.214486Z",
     "iopub.status.busy": "2024-02-10T20:01:29.213418Z",
     "iopub.status.idle": "2024-02-10T20:01:57.283193Z",
     "shell.execute_reply": "2024-02-10T20:01:57.282059Z"
    },
    "papermill": {
     "duration": 28.095642,
     "end_time": "2024-02-10T20:01:57.285827",
     "exception": false,
     "start_time": "2024-02-10T20:01:29.190185",
     "status": "completed"
    },
    "tags": []
   },
   "outputs": [
    {
     "name": "stderr",
     "output_type": "stream",
     "text": [
      "/tmp/ipykernel_19/530336439.py:2: SettingWithCopyWarning: \n",
      "A value is trying to be set on a copy of a slice from a DataFrame.\n",
      "Try using .loc[row_indexer,col_indexer] = value instead\n",
      "\n",
      "See the caveats in the documentation: https://pandas.pydata.org/pandas-docs/stable/user_guide/indexing.html#returning-a-view-versus-a-copy\n",
      "  df_plot['year_week'] = df_plot['date'].dt.to_period('W')\n"
     ]
    },
    {
     "data": {
      "text/plain": [
       "<Axes: xlabel='year_week', ylabel='sales'>"
      ]
     },
     "execution_count": 23,
     "metadata": {},
     "output_type": "execute_result"
    },
    {
     "data": {
      "image/png": "[encoded data removed]",
      "text/plain": [
       "<Figure size 1200x400 with 1 Axes>"
      ]
     },
     "metadata": {},
     "output_type": "display_data"
    }
   ],
   "source": [
    "df_plot = df_train.loc[df_train.date.dt.year == 2016]\n",
    "df_plot['year_week'] = df_plot['date'].dt.to_period('W')\n",
    "fig, ax = plt.subplots(figsize=(12, 4))\n",
    "ax.tick_params(axis='x', rotation=90)\n",
    "sns.stripplot(x='year_week', y='sales', ax=ax, data=df_plot)"
   ]
  },
  {
   "cell_type": "markdown",
   "id": "ca358b6f",
   "metadata": {
    "papermill": {
     "duration": 0.02237,
     "end_time": "2024-02-10T20:01:57.332441",
     "exception": false,
     "start_time": "2024-02-10T20:01:57.310071",
     "status": "completed"
    },
    "tags": []
   },
   "source": [
    "Since we don't expect another earthquake, we should get rid of these weeks of data from our dataset. We should also drop the anomalous week in October 2016."
   ]
  },
  {
   "cell_type": "code",
   "execution_count": 24,
   "id": "7e2322c5",
   "metadata": {
    "execution": {
     "iopub.execute_input": "2024-02-10T20:01:57.379869Z",
     "iopub.status.busy": "2024-02-10T20:01:57.379462Z",
     "iopub.status.idle": "2024-02-10T20:01:58.010089Z",
     "shell.execute_reply": "2024-02-10T20:01:58.009073Z"
    },
    "papermill": {
     "duration": 0.65773,
     "end_time": "2024-02-10T20:01:58.012850",
     "exception": false,
     "start_time": "2024-02-10T20:01:57.355120",
     "status": "completed"
    },
    "tags": []
   },
   "outputs": [],
   "source": [
    "X = df_train.copy()\n",
    "X = X.drop(X.loc[X.date.between('2016-04-16', '2016-05-13')].index)\n",
    "X = X.drop(X.loc[X.date.between('2016-10-03', '2016-10-09')].index)\n",
    "y = X.pop('sales')"
   ]
  },
  {
   "cell_type": "markdown",
   "id": "25ddbb04",
   "metadata": {
    "papermill": {
     "duration": 0.02224,
     "end_time": "2024-02-10T20:01:58.057735",
     "exception": false,
     "start_time": "2024-02-10T20:01:58.035495",
     "status": "completed"
    },
    "tags": []
   },
   "source": [
    "Let's see how this affects our model's performance."
   ]
  },
  {
   "cell_type": "code",
   "execution_count": 25,
   "id": "28937ca0",
   "metadata": {
    "execution": {
     "iopub.execute_input": "2024-02-10T20:01:58.104767Z",
     "iopub.status.busy": "2024-02-10T20:01:58.104385Z",
     "iopub.status.idle": "2024-02-10T20:02:00.411013Z",
     "shell.execute_reply": "2024-02-10T20:02:00.410119Z"
    },
    "papermill": {
     "duration": 2.333239,
     "end_time": "2024-02-10T20:02:00.413558",
     "exception": false,
     "start_time": "2024-02-10T20:01:58.080319",
     "status": "completed"
    },
    "tags": []
   },
   "outputs": [],
   "source": [
    "date_enc = LabelEncoder()\n",
    "X.date = date_enc.fit_transform(X.date)\n",
    "X_encode = X.sample(frac=0.03, random_state=23)\n",
    "y_encode = y[X_encode.index]\n",
    "X_pretrain = X.drop(X_encode.index)\n",
    "y_pretrain = y[X_pretrain.index]\n",
    "encoder = MEstimateEncoder(cols=['family'], m=10.0)\n",
    "encoder.fit(X_encode, y_encode)\n",
    "X_pretrain = encoder.transform(X_pretrain)\n",
    "\n",
    "X_pretrain['sales_last_week'] = y_pretrain.shift(33*54*7)\n",
    "X_pretrain.dropna(inplace=True)\n",
    "y_pretrain = y_pretrain[X_pretrain.index]\n",
    "\n",
    "X_train, X_test, y_train, y_test = train_test_split(X_pretrain, y_pretrain, test_size=33*54*7*15, shuffle=False)"
   ]
  },
  {
   "cell_type": "code",
   "execution_count": 26,
   "id": "57848201",
   "metadata": {
    "execution": {
     "iopub.execute_input": "2024-02-10T20:02:00.461182Z",
     "iopub.status.busy": "2024-02-10T20:02:00.460723Z",
     "iopub.status.idle": "2024-02-10T20:10:09.014117Z",
     "shell.execute_reply": "2024-02-10T20:10:09.012956Z"
    },
    "papermill": {
     "duration": 488.603345,
     "end_time": "2024-02-10T20:10:09.039708",
     "exception": false,
     "start_time": "2024-02-10T20:02:00.436363",
     "status": "completed"
    },
    "tags": []
   },
   "outputs": [
    {
     "name": "stdout",
     "output_type": "stream",
     "text": [
      "Accuracy of new model on training data: 0.9869745997728832\n",
      "Accuracy of new model on testing data: 0.8913164847337883\n",
      "RMSLE: 0.5791904299178593\n",
      "Better RMSLE: True\n"
     ]
    }
   ],
   "source": [
    "reg_model = RandomForestRegressor(n_jobs=8, random_state=23)\n",
    "reg_model.fit(X_train, y_train)\n",
    "\n",
    "predictions = reg_model.predict(X_test.iloc[:33*54*7])\n",
    "for i in range(1,15):\n",
    "    X_test.iloc[33*54*7*i : 33*54*7*(i+1), -1] = pd.Series(predictions[33*54*7*(i-1):33*54*7*i], index=X_test.iloc[33*54*7*i : 33*54*7*(i+1), -1].index)\n",
    "    predictions = np.concatenate((predictions, reg_model.predict(X_test.iloc[33*54*7*i : 33*54*7*(i+1)])))\n",
    "\n",
    "train_acc = reg_model.score(X_train, y_train)\n",
    "test_acc = r2_score(y_test, predictions)\n",
    "rmsle_score = rmsle(y_test.values, predictions)\n",
    "\n",
    "print(f'Accuracy of new model on training data: {train_acc}')\n",
    "print(f'Accuracy of new model on testing data: {test_acc}')\n",
    "print(f'RMSLE: {rmsle_score}')\n",
    "print(f'Better RMSLE: {rmsle_score < previous_rmsle}')\n",
    "\n",
    "previous_rmsle = rmsle_score"
   ]
  },
  {
   "cell_type": "markdown",
   "id": "83fb731d",
   "metadata": {
    "papermill": {
     "duration": 0.022446,
     "end_time": "2024-02-10T20:10:09.085902",
     "exception": false,
     "start_time": "2024-02-10T20:10:09.063456",
     "status": "completed"
    },
    "tags": []
   },
   "source": [
    "Hooray! The RMSLE has improved."
   ]
  },
  {
   "cell_type": "markdown",
   "id": "fe84391a",
   "metadata": {
    "papermill": {
     "duration": 0.022102,
     "end_time": "2024-02-10T20:10:09.130726",
     "exception": false,
     "start_time": "2024-02-10T20:10:09.108624",
     "status": "completed"
    },
    "tags": []
   },
   "source": [
    "# 5. Final predictions\n",
    "\n",
    "We now do some final hyperparameter tuning, train our model on the whole dataset `df_train`, and generate predictions for `df_test`.\n",
    "\n",
    "Let's set everything up from the previous sections."
   ]
  },
  {
   "cell_type": "code",
   "execution_count": 27,
   "id": "4f3bd958",
   "metadata": {
    "execution": {
     "iopub.execute_input": "2024-02-10T20:10:09.178921Z",
     "iopub.status.busy": "2024-02-10T20:10:09.178497Z",
     "iopub.status.idle": "2024-02-10T20:10:12.023240Z",
     "shell.execute_reply": "2024-02-10T20:10:12.022208Z"
    },
    "papermill": {
     "duration": 2.871916,
     "end_time": "2024-02-10T20:10:12.025681",
     "exception": false,
     "start_time": "2024-02-10T20:10:09.153765",
     "status": "completed"
    },
    "tags": []
   },
   "outputs": [],
   "source": [
    "# Clean data\n",
    "df_train['date'] = pd.to_datetime(df_train['date'], format='%Y-%m-%d')\n",
    "df_train = df_train.loc[:,'date':'onpromotion']\n",
    "# Drop anomalies\n",
    "X = df_train.copy()\n",
    "X = X.drop(X.loc[X.date.between('2016-04-16', '2016-05-13')].index)\n",
    "X = X.drop(X.loc[X.date.between('2016-10-03', '2016-10-09')].index)\n",
    "y = X.pop('sales')\n",
    "# Target encoding\n",
    "date_enc = LabelEncoder()\n",
    "X.date = date_enc.fit_transform(X.date)\n",
    "X_encode = X.sample(frac=0.03, random_state=23)\n",
    "y_encode = y[X_encode.index]\n",
    "X_pretrain = X.drop(X_encode.index)\n",
    "y_pretrain = y[X_pretrain.index]\n",
    "encoder = MEstimateEncoder(cols=['family'], m=10.0)\n",
    "encoder.fit(X_encode, y_encode)\n",
    "X_pretrain = encoder.transform(X_pretrain)\n",
    "# Autoregression feature\n",
    "X_pretrain['sales_last_week'] = y_pretrain.shift(33*54*7)\n",
    "X_pretrain.dropna(inplace=True)\n",
    "y_pretrain = y_pretrain[X_pretrain.index]\n",
    "# Train-test split\n",
    "X_train, X_test, y_train, y_test = train_test_split(X_pretrain, y_pretrain, test_size=33*54*7*15, shuffle=False)"
   ]
  },
  {
   "cell_type": "markdown",
   "id": "9ac8ea05",
   "metadata": {
    "papermill": {
     "duration": 0.022937,
     "end_time": "2024-02-10T20:10:12.071741",
     "exception": false,
     "start_time": "2024-02-10T20:10:12.048804",
     "status": "completed"
    },
    "tags": []
   },
   "source": [
    "After tuning the hyperparameters, we get the following improved model. Note that increasing the number of estimators improves the RMSLE, but not in a meaningful way (less than 0.0001), so the large increase in runtime is not worthwhile."
   ]
  },
  {
   "cell_type": "code",
   "execution_count": 28,
   "id": "1868d073",
   "metadata": {
    "execution": {
     "iopub.execute_input": "2024-02-10T20:10:12.119427Z",
     "iopub.status.busy": "2024-02-10T20:10:12.118795Z",
     "iopub.status.idle": "2024-02-10T20:16:00.237730Z",
     "shell.execute_reply": "2024-02-10T20:16:00.236649Z"
    },
    "papermill": {
     "duration": 348.168731,
     "end_time": "2024-02-10T20:16:00.263446",
     "exception": false,
     "start_time": "2024-02-10T20:10:12.094715",
     "status": "completed"
    },
    "tags": []
   },
   "outputs": [
    {
     "name": "stdout",
     "output_type": "stream",
     "text": [
      "Accuracy of new model on training data: 0.9267329848940897\n",
      "Accuracy of new model on testing data: 0.9038897058583352\n",
      "RMSLE: 0.5082859867729964\n",
      "Better RMSLE: True\n"
     ]
    }
   ],
   "source": [
    "reg_model = RandomForestRegressor(min_samples_leaf=10, max_depth=25, max_leaf_nodes=70000, max_features=0.9, n_jobs=8, random_state=23)\n",
    "reg_model.fit(X_train, y_train)\n",
    "\n",
    "predictions = reg_model.predict(X_test.iloc[:33*54*7])\n",
    "for i in range(1,15):\n",
    "    X_test.iloc[33*54*7*i : 33*54*7*(i+1), -1] = pd.Series(predictions[33*54*7*(i-1):33*54*7*i], index=X_test.iloc[33*54*7*i : 33*54*7*(i+1), -1].index)\n",
    "    predictions = np.concatenate((predictions, reg_model.predict(X_test.iloc[33*54*7*i : 33*54*7*(i+1)])))\n",
    "\n",
    "train_acc = reg_model.score(X_train, y_train)\n",
    "test_acc = r2_score(y_test, predictions)\n",
    "rmsle_score = rmsle(y_test.values, predictions)\n",
    "\n",
    "print(f'Accuracy of new model on training data: {train_acc}')\n",
    "print(f'Accuracy of new model on testing data: {test_acc}')\n",
    "print(f'RMSLE: {rmsle_score}')\n",
    "print(f'Better RMSLE: {rmsle_score < previous_rmsle}')\n",
    "# print(f'Max depths: {[estimator.tree_.max_depth for estimator in reg_model.estimators_]}')\n",
    "# print(f'Numbers of leaves: {[estimator.tree_.n_leaves for estimator in reg_model.estimators_]}')"
   ]
  },
  {
   "cell_type": "markdown",
   "id": "2f3e709d",
   "metadata": {
    "papermill": {
     "duration": 0.022423,
     "end_time": "2024-02-10T20:16:00.309087",
     "exception": false,
     "start_time": "2024-02-10T20:16:00.286664",
     "status": "completed"
    },
    "tags": []
   },
   "source": [
    "Now let's train on the whole of `df_train` and generate predictions!"
   ]
  },
  {
   "cell_type": "code",
   "execution_count": 29,
   "id": "39a86194",
   "metadata": {
    "execution": {
     "iopub.execute_input": "2024-02-10T20:16:00.357026Z",
     "iopub.status.busy": "2024-02-10T20:16:00.355908Z",
     "iopub.status.idle": "2024-02-10T20:16:03.085585Z",
     "shell.execute_reply": "2024-02-10T20:16:03.084540Z"
    },
    "papermill": {
     "duration": 2.756556,
     "end_time": "2024-02-10T20:16:03.088138",
     "exception": false,
     "start_time": "2024-02-10T20:16:00.331582",
     "status": "completed"
    },
    "tags": []
   },
   "outputs": [],
   "source": [
    "# Clean data\n",
    "df_train['date'] = pd.to_datetime(df_train['date'], format='%Y-%m-%d')\n",
    "df_train = df_train.loc[:,'date':'onpromotion']\n",
    "df_test['date'] = pd.to_datetime(df_test['date'], format='%Y-%m-%d')\n",
    "X_test = df_test.loc[:,'date':'onpromotion']\n",
    "# Drop anomalies\n",
    "X = df_train.copy()\n",
    "X = X.drop(X.loc[X.date.between('2016-04-16', '2016-05-13')].index)\n",
    "X = X.drop(X.loc[X.date.between('2016-10-03', '2016-10-09')].index)\n",
    "y = X.pop('sales')\n",
    "# Target encoding\n",
    "date_enc = LabelEncoder()\n",
    "X.date = date_enc.fit_transform(X.date)\n",
    "X_test.date = date_enc.fit_transform(X_test.date)\n",
    "X_test.date += 1649 # Align dates with `X_train`\n",
    "X_encode = X.sample(frac=0.03, random_state=23)\n",
    "y_encode = y[X_encode.index]\n",
    "X_train = X.drop(X_encode.index)\n",
    "y_train = y[X_train.index]\n",
    "encoder = MEstimateEncoder(cols=['family'], m=10.0)\n",
    "encoder.fit(X_encode, y_encode)\n",
    "X_train = encoder.transform(X_train)\n",
    "X_test = encoder.transform(X_test)\n",
    "# Autoregression feature\n",
    "X_train['sales_last_week'] = y_train.shift(33*54*7)\n",
    "X_train.dropna(inplace=True)\n",
    "y_train = y_train[X_train.index]\n",
    "X_test['sales_last_week'] = pd.Series([0 for i in X_test.index], index=X_test.index, name='sales_last_week')\n",
    "X_test.iloc[:33*54*7, -1] = y_train.iloc[-33*54*7:]"
   ]
  },
  {
   "cell_type": "code",
   "execution_count": 30,
   "id": "a798a9b8",
   "metadata": {
    "execution": {
     "iopub.execute_input": "2024-02-10T20:16:03.135996Z",
     "iopub.status.busy": "2024-02-10T20:16:03.135038Z",
     "iopub.status.idle": "2024-02-10T20:21:51.941496Z",
     "shell.execute_reply": "2024-02-10T20:21:51.938974Z"
    },
    "papermill": {
     "duration": 348.853268,
     "end_time": "2024-02-10T20:21:51.964265",
     "exception": false,
     "start_time": "2024-02-10T20:16:03.110997",
     "status": "completed"
    },
    "tags": []
   },
   "outputs": [
    {
     "data": {
      "text/html": [
       "<div>\n",
       "<style scoped>\n",
       "    .dataframe tbody tr th:only-of-type {\n",
       "        vertical-align: middle;\n",
       "    }\n",
       "\n",
       "    .dataframe tbody tr th {\n",
       "        vertical-align: top;\n",
       "    }\n",
       "\n",
       "    .dataframe thead th {\n",
       "        text-align: right;\n",
       "    }\n",
       "</style>\n",
       "<table border=\"1\" class=\"dataframe\">\n",
       "  <thead>\n",
       "    <tr style=\"text-align: right;\">\n",
       "      <th></th>\n",
       "      <th>id</th>\n",
       "      <th>sales</th>\n",
       "    </tr>\n",
       "  </thead>\n",
       "  <tbody>\n",
       "    <tr>\n",
       "      <th>0</th>\n",
       "      <td>3000888</td>\n",
       "      <td>4.226278</td>\n",
       "    </tr>\n",
       "    <tr>\n",
       "      <th>1</th>\n",
       "      <td>3000889</td>\n",
       "      <td>0.218237</td>\n",
       "    </tr>\n",
       "    <tr>\n",
       "      <th>2</th>\n",
       "      <td>3000890</td>\n",
       "      <td>4.728819</td>\n",
       "    </tr>\n",
       "    <tr>\n",
       "      <th>3</th>\n",
       "      <td>3000891</td>\n",
       "      <td>1935.742396</td>\n",
       "    </tr>\n",
       "    <tr>\n",
       "      <th>4</th>\n",
       "      <td>3000892</td>\n",
       "      <td>0.257099</td>\n",
       "    </tr>\n",
       "    <tr>\n",
       "      <th>...</th>\n",
       "      <td>...</td>\n",
       "      <td>...</td>\n",
       "    </tr>\n",
       "    <tr>\n",
       "      <th>28507</th>\n",
       "      <td>3029395</td>\n",
       "      <td>477.815470</td>\n",
       "    </tr>\n",
       "    <tr>\n",
       "      <th>28508</th>\n",
       "      <td>3029396</td>\n",
       "      <td>95.763312</td>\n",
       "    </tr>\n",
       "    <tr>\n",
       "      <th>28509</th>\n",
       "      <td>3029397</td>\n",
       "      <td>1798.402553</td>\n",
       "    </tr>\n",
       "    <tr>\n",
       "      <th>28510</th>\n",
       "      <td>3029398</td>\n",
       "      <td>123.640841</td>\n",
       "    </tr>\n",
       "    <tr>\n",
       "      <th>28511</th>\n",
       "      <td>3029399</td>\n",
       "      <td>15.302457</td>\n",
       "    </tr>\n",
       "  </tbody>\n",
       "</table>\n",
       "<p>28512 rows × 2 columns</p>\n",
       "</div>"
      ],
      "text/plain": [
       "            id        sales\n",
       "0      3000888     4.226278\n",
       "1      3000889     0.218237\n",
       "2      3000890     4.728819\n",
       "3      3000891  1935.742396\n",
       "4      3000892     0.257099\n",
       "...        ...          ...\n",
       "28507  3029395   477.815470\n",
       "28508  3029396    95.763312\n",
       "28509  3029397  1798.402553\n",
       "28510  3029398   123.640841\n",
       "28511  3029399    15.302457\n",
       "\n",
       "[28512 rows x 2 columns]"
      ]
     },
     "execution_count": 30,
     "metadata": {},
     "output_type": "execute_result"
    }
   ],
   "source": [
    "reg_model = RandomForestRegressor(min_samples_leaf=10, max_depth=25, max_leaf_nodes=70000, max_features=0.9, n_jobs=8, random_state=23)\n",
    "reg_model.fit(X_train, y_train)\n",
    "\n",
    "predictions = reg_model.predict(X_test.iloc[:33*54*7])\n",
    "X_test.iloc[33*54*7 : 33*54*7*2, -1] = pd.Series(predictions[:33*54*7], index=X_test.iloc[33*54*7 : 33*54*7*2, -1].index)\n",
    "predictions = np.concatenate((predictions, reg_model.predict(X_test.iloc[33*54*7 : 33*54*7*2])))\n",
    "X_test.iloc[33*54*7*2 : 33*54*16, -1] = pd.Series(predictions[33*54*7:33*54*9], index=X_test.iloc[33*54*7*2 : 33*54*16, -1].index)\n",
    "predictions = np.concatenate((predictions, reg_model.predict(X_test.iloc[33*54*7*2 : 33*54*16])))\n",
    "\n",
    "df_pred = pd.DataFrame({'id': df_test.id, 'sales': predictions})\n",
    "df_pred"
   ]
  },
  {
   "cell_type": "markdown",
   "id": "1c35f2fb",
   "metadata": {
    "papermill": {
     "duration": 0.019979,
     "end_time": "2024-02-10T20:21:52.004537",
     "exception": false,
     "start_time": "2024-02-10T20:21:51.984558",
     "status": "completed"
    },
    "tags": []
   },
   "source": [
    "Finally, we save our results to a `csv` file."
   ]
  },
  {
   "cell_type": "code",
   "execution_count": 31,
   "id": "8e352eb8",
   "metadata": {
    "execution": {
     "iopub.execute_input": "2024-02-10T20:21:52.047136Z",
     "iopub.status.busy": "2024-02-10T20:21:52.046670Z",
     "iopub.status.idle": "2024-02-10T20:21:52.171832Z",
     "shell.execute_reply": "2024-02-10T20:21:52.170493Z"
    },
    "papermill": {
     "duration": 0.150127,
     "end_time": "2024-02-10T20:21:52.174680",
     "exception": false,
     "start_time": "2024-02-10T20:21:52.024553",
     "status": "completed"
    },
    "tags": []
   },
   "outputs": [],
   "source": [
    "df_pred.to_csv(\"predictions.csv\", index=False)"
   ]
  }
 ],
 "metadata": {
  "kaggle": {
   "accelerator": "none",
   "dataSources": [
    {
     "datasetId": 4326740,
     "sourceId": 7434714,
     "sourceType": "datasetVersion"
    }
   ],
   "dockerImageVersionId": 30635,
   "isGpuEnabled": false,
   "isInternetEnabled": true,
   "language": "python",
   "sourceType": "notebook"
  },
  "kernelspec": {
   "display_name": "Python 3",
   "language": "python",
   "name": "python3"
  },
  "language_info": {
   "codemirror_mode": {
    "name": "ipython",
    "version": 3
   },
   "file_extension": ".py",
   "mimetype": "text/x-python",
   "name": "python",
   "nbconvert_exporter": "python",
   "pygments_lexer": "ipython3",
   "version": "3.10.12"
  },
  "papermill": {
   "default_parameters": {},
   "duration": 4310.34413,
   "end_time": "2024-02-10T20:21:53.133752",
   "environment_variables": {},
   "exception": null,
   "input_path": "__notebook__.ipynb",
   "output_path": "__notebook__.ipynb",
   "parameters": {},
   "start_time": "2024-02-10T19:10:02.789622",
   "version": "2.4.0"
  }
 },
 "nbformat": 4,
 "nbformat_minor": 5
}
