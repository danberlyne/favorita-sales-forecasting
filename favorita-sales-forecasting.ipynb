{
 "cells": [
  {
   "cell_type": "markdown",
   "id": "a677f141",
   "metadata": {
    "papermill": {
     "duration": 0.016109,
     "end_time": "2024-01-22T21:48:45.785639",
     "exception": false,
     "start_time": "2024-01-22T21:48:45.769530",
     "status": "completed"
    },
    "tags": []
   },
   "source": [
    "# Favorita sales forecasting\n",
    "\n",
    "We will forecast the next seven days of sales at Ecuador's Favorita grocery stores, across a range of products.\n",
    "\n",
    "Run the cell below to load the necessary modules, set defaults, and load the data."
   ]
  },
  {
   "cell_type": "code",
   "execution_count": 1,
   "id": "f2cfb001",
   "metadata": {
    "_cell_guid": "b1076dfc-b9ad-4769-8c92-a6c4dae69d19",
    "_uuid": "8f2839f25d086af736a60e9eeb907d3b93b6e0e5",
    "execution": {
     "iopub.execute_input": "2024-01-22T21:48:45.818727Z",
     "iopub.status.busy": "2024-01-22T21:48:45.817996Z",
     "iopub.status.idle": "2024-01-22T21:48:53.090175Z",
     "shell.execute_reply": "2024-01-22T21:48:53.088550Z"
    },
    "papermill": {
     "duration": 7.291941,
     "end_time": "2024-01-22T21:48:53.093061",
     "exception": false,
     "start_time": "2024-01-22T21:48:45.801120",
     "status": "completed"
    },
    "tags": []
   },
   "outputs": [],
   "source": [
    "import numpy as np \n",
    "import pandas as pd \n",
    "import matplotlib.pyplot as plt\n",
    "import seaborn as sns\n",
    "from sklearn.ensemble import RandomForestRegressor\n",
    "from sklearn.metrics import make_scorer, r2_score\n",
    "from sklearn.model_selection import train_test_split\n",
    "from sklearn.preprocessing import LabelEncoder\n",
    "from sklearn.linear_model import LinearRegression\n",
    "from statsmodels.graphics.tsaplots import plot_acf\n",
    "from category_encoders import MEstimateEncoder\n",
    "\n",
    "def rmsle(y_true: list, y_pred: list) -> float:\n",
    "    return np.sqrt(np.mean(np.square(np.log1p(y_pred) - np.log1p(y_true))))\n",
    "\n",
    "rmsle_score = make_scorer(rmsle, greater_is_better=False)\n",
    "\n",
    "# Set Matplotlib defaults\n",
    "sns.set_style(\"darkgrid\")\n",
    "plt.rc(\"figure\", autolayout=True)\n",
    "plt.rc(\n",
    "    \"axes\",\n",
    "    labelweight=\"bold\",\n",
    "    labelsize=\"large\",\n",
    "    titleweight=\"bold\",\n",
    "    titlesize=14,\n",
    "    titlepad=10,\n",
    ")\n",
    "\n",
    "# Load data\n",
    "df_train = pd.read_csv(\"../input/favorita-store-sales/train.csv\")\n",
    "df_test = pd.read_csv(\"../input/favorita-store-sales/test.csv\")\n",
    "df_stores = pd.read_csv(\"../input/favorita-store-sales/stores.csv\")\n",
    "df_oil = pd.read_csv(\"../input/favorita-store-sales/oil.csv\")\n",
    "df_holidays = pd.read_csv(\"../input/favorita-store-sales/holidays_events.csv\")\n",
    "df_transactions = pd.read_csv(\"../input/favorita-store-sales/transactions.csv\")\n",
    "\n",
    "# You can write up to 20GB to the current directory (/kaggle/working/) that gets preserved as output when you create a version using \"Save & Run All\" \n",
    "# You can also write temporary files to /kaggle/temp/, but they won't be saved outside of the current session"
   ]
  },
  {
   "cell_type": "markdown",
   "id": "c9d3260a",
   "metadata": {
    "papermill": {
     "duration": 0.017731,
     "end_time": "2024-01-22T21:48:53.127995",
     "exception": false,
     "start_time": "2024-01-22T21:48:53.110264",
     "status": "completed"
    },
    "tags": []
   },
   "source": [
    "Notice that we have six different datasets to work with! \n",
    "- The provided training set and testing set `df_train` and `df_test` will be our bread and butter, but we also have much more information we can incorporate to improve the accuracy of our predictions. \n",
    "- The dataset `df_stores` provides information about the location and type of each store, which could allow us to identify trends based on geographic location.\n",
    "- The dataset `df_oil` contains the daily oil price, which is known to have a big influence on Ecuador's economy.\n",
    "- The dataset `df_holidays` contains information on important holidays and events in Ecuador, which could help explain anomalous days on which sales spike or drop.\n",
    "- The dataset `df_transactions` contains the number of transactions that each store makes on a given day, which for example could be used in tandem with the sales figures to determine average spend per sale.\n",
    "\n",
    "Finally, we have two other pieces of data not contained in our datasets: \n",
    "\n",
    "- Wages in the public sector are paid every two weeks on the 15 th and on the last day of the month. Supermarket sales could be affected by this.\n",
    "- A magnitude 7.8 earthquake struck Ecuador on April 16, 2016. People rallied in relief efforts donating water and other first need products which greatly affected supermarket sales for several weeks after the earthquake.\n",
    "\n",
    "We will need to take all of this into account, but we will start by creating a baseline model and using it with `df_train` and `df_test`.\n",
    "\n",
    "Let's take a look at the `df_train` dataset."
   ]
  },
  {
   "cell_type": "code",
   "execution_count": 2,
   "id": "b8773de1",
   "metadata": {
    "execution": {
     "iopub.execute_input": "2024-01-22T21:48:53.161129Z",
     "iopub.status.busy": "2024-01-22T21:48:53.160584Z",
     "iopub.status.idle": "2024-01-22T21:48:53.192497Z",
     "shell.execute_reply": "2024-01-22T21:48:53.191307Z"
    },
    "papermill": {
     "duration": 0.051834,
     "end_time": "2024-01-22T21:48:53.195181",
     "exception": false,
     "start_time": "2024-01-22T21:48:53.143347",
     "status": "completed"
    },
    "tags": []
   },
   "outputs": [
    {
     "data": {
      "text/html": [
       "<div>\n",
       "<style scoped>\n",
       "    .dataframe tbody tr th:only-of-type {\n",
       "        vertical-align: middle;\n",
       "    }\n",
       "\n",
       "    .dataframe tbody tr th {\n",
       "        vertical-align: top;\n",
       "    }\n",
       "\n",
       "    .dataframe thead th {\n",
       "        text-align: right;\n",
       "    }\n",
       "</style>\n",
       "<table border=\"1\" class=\"dataframe\">\n",
       "  <thead>\n",
       "    <tr style=\"text-align: right;\">\n",
       "      <th></th>\n",
       "      <th>id</th>\n",
       "      <th>date</th>\n",
       "      <th>store_nbr</th>\n",
       "      <th>family</th>\n",
       "      <th>sales</th>\n",
       "      <th>onpromotion</th>\n",
       "    </tr>\n",
       "  </thead>\n",
       "  <tbody>\n",
       "    <tr>\n",
       "      <th>0</th>\n",
       "      <td>0</td>\n",
       "      <td>2013-01-01</td>\n",
       "      <td>1</td>\n",
       "      <td>AUTOMOTIVE</td>\n",
       "      <td>0.0</td>\n",
       "      <td>0</td>\n",
       "    </tr>\n",
       "    <tr>\n",
       "      <th>1</th>\n",
       "      <td>1</td>\n",
       "      <td>2013-01-01</td>\n",
       "      <td>1</td>\n",
       "      <td>BABY CARE</td>\n",
       "      <td>0.0</td>\n",
       "      <td>0</td>\n",
       "    </tr>\n",
       "    <tr>\n",
       "      <th>2</th>\n",
       "      <td>2</td>\n",
       "      <td>2013-01-01</td>\n",
       "      <td>1</td>\n",
       "      <td>BEAUTY</td>\n",
       "      <td>0.0</td>\n",
       "      <td>0</td>\n",
       "    </tr>\n",
       "    <tr>\n",
       "      <th>3</th>\n",
       "      <td>3</td>\n",
       "      <td>2013-01-01</td>\n",
       "      <td>1</td>\n",
       "      <td>BEVERAGES</td>\n",
       "      <td>0.0</td>\n",
       "      <td>0</td>\n",
       "    </tr>\n",
       "    <tr>\n",
       "      <th>4</th>\n",
       "      <td>4</td>\n",
       "      <td>2013-01-01</td>\n",
       "      <td>1</td>\n",
       "      <td>BOOKS</td>\n",
       "      <td>0.0</td>\n",
       "      <td>0</td>\n",
       "    </tr>\n",
       "    <tr>\n",
       "      <th>5</th>\n",
       "      <td>5</td>\n",
       "      <td>2013-01-01</td>\n",
       "      <td>1</td>\n",
       "      <td>BREAD/BAKERY</td>\n",
       "      <td>0.0</td>\n",
       "      <td>0</td>\n",
       "    </tr>\n",
       "    <tr>\n",
       "      <th>6</th>\n",
       "      <td>6</td>\n",
       "      <td>2013-01-01</td>\n",
       "      <td>1</td>\n",
       "      <td>CELEBRATION</td>\n",
       "      <td>0.0</td>\n",
       "      <td>0</td>\n",
       "    </tr>\n",
       "    <tr>\n",
       "      <th>7</th>\n",
       "      <td>7</td>\n",
       "      <td>2013-01-01</td>\n",
       "      <td>1</td>\n",
       "      <td>CLEANING</td>\n",
       "      <td>0.0</td>\n",
       "      <td>0</td>\n",
       "    </tr>\n",
       "    <tr>\n",
       "      <th>8</th>\n",
       "      <td>8</td>\n",
       "      <td>2013-01-01</td>\n",
       "      <td>1</td>\n",
       "      <td>DAIRY</td>\n",
       "      <td>0.0</td>\n",
       "      <td>0</td>\n",
       "    </tr>\n",
       "    <tr>\n",
       "      <th>9</th>\n",
       "      <td>9</td>\n",
       "      <td>2013-01-01</td>\n",
       "      <td>1</td>\n",
       "      <td>DELI</td>\n",
       "      <td>0.0</td>\n",
       "      <td>0</td>\n",
       "    </tr>\n",
       "    <tr>\n",
       "      <th>10</th>\n",
       "      <td>10</td>\n",
       "      <td>2013-01-01</td>\n",
       "      <td>1</td>\n",
       "      <td>EGGS</td>\n",
       "      <td>0.0</td>\n",
       "      <td>0</td>\n",
       "    </tr>\n",
       "    <tr>\n",
       "      <th>11</th>\n",
       "      <td>11</td>\n",
       "      <td>2013-01-01</td>\n",
       "      <td>1</td>\n",
       "      <td>FROZEN FOODS</td>\n",
       "      <td>0.0</td>\n",
       "      <td>0</td>\n",
       "    </tr>\n",
       "    <tr>\n",
       "      <th>12</th>\n",
       "      <td>12</td>\n",
       "      <td>2013-01-01</td>\n",
       "      <td>1</td>\n",
       "      <td>GROCERY I</td>\n",
       "      <td>0.0</td>\n",
       "      <td>0</td>\n",
       "    </tr>\n",
       "    <tr>\n",
       "      <th>13</th>\n",
       "      <td>13</td>\n",
       "      <td>2013-01-01</td>\n",
       "      <td>1</td>\n",
       "      <td>GROCERY II</td>\n",
       "      <td>0.0</td>\n",
       "      <td>0</td>\n",
       "    </tr>\n",
       "    <tr>\n",
       "      <th>14</th>\n",
       "      <td>14</td>\n",
       "      <td>2013-01-01</td>\n",
       "      <td>1</td>\n",
       "      <td>HARDWARE</td>\n",
       "      <td>0.0</td>\n",
       "      <td>0</td>\n",
       "    </tr>\n",
       "    <tr>\n",
       "      <th>15</th>\n",
       "      <td>15</td>\n",
       "      <td>2013-01-01</td>\n",
       "      <td>1</td>\n",
       "      <td>HOME AND KITCHEN I</td>\n",
       "      <td>0.0</td>\n",
       "      <td>0</td>\n",
       "    </tr>\n",
       "    <tr>\n",
       "      <th>16</th>\n",
       "      <td>16</td>\n",
       "      <td>2013-01-01</td>\n",
       "      <td>1</td>\n",
       "      <td>HOME AND KITCHEN II</td>\n",
       "      <td>0.0</td>\n",
       "      <td>0</td>\n",
       "    </tr>\n",
       "    <tr>\n",
       "      <th>17</th>\n",
       "      <td>17</td>\n",
       "      <td>2013-01-01</td>\n",
       "      <td>1</td>\n",
       "      <td>HOME APPLIANCES</td>\n",
       "      <td>0.0</td>\n",
       "      <td>0</td>\n",
       "    </tr>\n",
       "    <tr>\n",
       "      <th>18</th>\n",
       "      <td>18</td>\n",
       "      <td>2013-01-01</td>\n",
       "      <td>1</td>\n",
       "      <td>HOME CARE</td>\n",
       "      <td>0.0</td>\n",
       "      <td>0</td>\n",
       "    </tr>\n",
       "    <tr>\n",
       "      <th>19</th>\n",
       "      <td>19</td>\n",
       "      <td>2013-01-01</td>\n",
       "      <td>1</td>\n",
       "      <td>LADIESWEAR</td>\n",
       "      <td>0.0</td>\n",
       "      <td>0</td>\n",
       "    </tr>\n",
       "  </tbody>\n",
       "</table>\n",
       "</div>"
      ],
      "text/plain": [
       "    id        date  store_nbr               family  sales  onpromotion\n",
       "0    0  2013-01-01          1           AUTOMOTIVE    0.0            0\n",
       "1    1  2013-01-01          1            BABY CARE    0.0            0\n",
       "2    2  2013-01-01          1               BEAUTY    0.0            0\n",
       "3    3  2013-01-01          1            BEVERAGES    0.0            0\n",
       "4    4  2013-01-01          1                BOOKS    0.0            0\n",
       "5    5  2013-01-01          1         BREAD/BAKERY    0.0            0\n",
       "6    6  2013-01-01          1          CELEBRATION    0.0            0\n",
       "7    7  2013-01-01          1             CLEANING    0.0            0\n",
       "8    8  2013-01-01          1                DAIRY    0.0            0\n",
       "9    9  2013-01-01          1                 DELI    0.0            0\n",
       "10  10  2013-01-01          1                 EGGS    0.0            0\n",
       "11  11  2013-01-01          1         FROZEN FOODS    0.0            0\n",
       "12  12  2013-01-01          1            GROCERY I    0.0            0\n",
       "13  13  2013-01-01          1           GROCERY II    0.0            0\n",
       "14  14  2013-01-01          1             HARDWARE    0.0            0\n",
       "15  15  2013-01-01          1   HOME AND KITCHEN I    0.0            0\n",
       "16  16  2013-01-01          1  HOME AND KITCHEN II    0.0            0\n",
       "17  17  2013-01-01          1      HOME APPLIANCES    0.0            0\n",
       "18  18  2013-01-01          1            HOME CARE    0.0            0\n",
       "19  19  2013-01-01          1           LADIESWEAR    0.0            0"
      ]
     },
     "execution_count": 2,
     "metadata": {},
     "output_type": "execute_result"
    }
   ],
   "source": [
    "df_train.head(20)"
   ]
  },
  {
   "cell_type": "markdown",
   "id": "3593b806",
   "metadata": {
    "papermill": {
     "duration": 0.01635,
     "end_time": "2024-01-22T21:48:53.227419",
     "exception": false,
     "start_time": "2024-01-22T21:48:53.211069",
     "status": "completed"
    },
    "tags": []
   },
   "source": [
    "The first 20 items all have zero sales and none are on promotion. This seems a little odd at first, but there could be a couple of reasons for this. First of all, it is 1st January, so the store may be closed. Let's try a different date."
   ]
  },
  {
   "cell_type": "code",
   "execution_count": 3,
   "id": "7610cfc0",
   "metadata": {
    "execution": {
     "iopub.execute_input": "2024-01-22T21:48:53.261105Z",
     "iopub.status.busy": "2024-01-22T21:48:53.260037Z",
     "iopub.status.idle": "2024-01-22T21:48:53.843754Z",
     "shell.execute_reply": "2024-01-22T21:48:53.842611Z"
    },
    "papermill": {
     "duration": 0.603571,
     "end_time": "2024-01-22T21:48:53.846602",
     "exception": false,
     "start_time": "2024-01-22T21:48:53.243031",
     "status": "completed"
    },
    "tags": []
   },
   "outputs": [
    {
     "data": {
      "text/html": [
       "<div>\n",
       "<style scoped>\n",
       "    .dataframe tbody tr th:only-of-type {\n",
       "        vertical-align: middle;\n",
       "    }\n",
       "\n",
       "    .dataframe tbody tr th {\n",
       "        vertical-align: top;\n",
       "    }\n",
       "\n",
       "    .dataframe thead th {\n",
       "        text-align: right;\n",
       "    }\n",
       "</style>\n",
       "<table border=\"1\" class=\"dataframe\">\n",
       "  <thead>\n",
       "    <tr style=\"text-align: right;\">\n",
       "      <th></th>\n",
       "      <th>id</th>\n",
       "      <th>date</th>\n",
       "      <th>store_nbr</th>\n",
       "      <th>family</th>\n",
       "      <th>sales</th>\n",
       "      <th>onpromotion</th>\n",
       "    </tr>\n",
       "  </thead>\n",
       "  <tbody>\n",
       "    <tr>\n",
       "      <th>3564</th>\n",
       "      <td>3564</td>\n",
       "      <td>2013-01-03</td>\n",
       "      <td>1</td>\n",
       "      <td>AUTOMOTIVE</td>\n",
       "      <td>3.000</td>\n",
       "      <td>0</td>\n",
       "    </tr>\n",
       "    <tr>\n",
       "      <th>3565</th>\n",
       "      <td>3565</td>\n",
       "      <td>2013-01-03</td>\n",
       "      <td>1</td>\n",
       "      <td>BABY CARE</td>\n",
       "      <td>0.000</td>\n",
       "      <td>0</td>\n",
       "    </tr>\n",
       "    <tr>\n",
       "      <th>3566</th>\n",
       "      <td>3566</td>\n",
       "      <td>2013-01-03</td>\n",
       "      <td>1</td>\n",
       "      <td>BEAUTY</td>\n",
       "      <td>0.000</td>\n",
       "      <td>0</td>\n",
       "    </tr>\n",
       "    <tr>\n",
       "      <th>3567</th>\n",
       "      <td>3567</td>\n",
       "      <td>2013-01-03</td>\n",
       "      <td>1</td>\n",
       "      <td>BEVERAGES</td>\n",
       "      <td>919.000</td>\n",
       "      <td>0</td>\n",
       "    </tr>\n",
       "    <tr>\n",
       "      <th>3568</th>\n",
       "      <td>3568</td>\n",
       "      <td>2013-01-03</td>\n",
       "      <td>1</td>\n",
       "      <td>BOOKS</td>\n",
       "      <td>0.000</td>\n",
       "      <td>0</td>\n",
       "    </tr>\n",
       "    <tr>\n",
       "      <th>...</th>\n",
       "      <td>...</td>\n",
       "      <td>...</td>\n",
       "      <td>...</td>\n",
       "      <td>...</td>\n",
       "      <td>...</td>\n",
       "      <td>...</td>\n",
       "    </tr>\n",
       "    <tr>\n",
       "      <th>5341</th>\n",
       "      <td>5341</td>\n",
       "      <td>2013-01-03</td>\n",
       "      <td>9</td>\n",
       "      <td>POULTRY</td>\n",
       "      <td>509.496</td>\n",
       "      <td>0</td>\n",
       "    </tr>\n",
       "    <tr>\n",
       "      <th>5342</th>\n",
       "      <td>5342</td>\n",
       "      <td>2013-01-03</td>\n",
       "      <td>9</td>\n",
       "      <td>PREPARED FOODS</td>\n",
       "      <td>66.000</td>\n",
       "      <td>0</td>\n",
       "    </tr>\n",
       "    <tr>\n",
       "      <th>5343</th>\n",
       "      <td>5343</td>\n",
       "      <td>2013-01-03</td>\n",
       "      <td>9</td>\n",
       "      <td>PRODUCE</td>\n",
       "      <td>0.000</td>\n",
       "      <td>0</td>\n",
       "    </tr>\n",
       "    <tr>\n",
       "      <th>5344</th>\n",
       "      <td>5344</td>\n",
       "      <td>2013-01-03</td>\n",
       "      <td>9</td>\n",
       "      <td>SCHOOL AND OFFICE SUPPLIES</td>\n",
       "      <td>0.000</td>\n",
       "      <td>0</td>\n",
       "    </tr>\n",
       "    <tr>\n",
       "      <th>5345</th>\n",
       "      <td>5345</td>\n",
       "      <td>2013-01-03</td>\n",
       "      <td>9</td>\n",
       "      <td>SEAFOOD</td>\n",
       "      <td>25.000</td>\n",
       "      <td>0</td>\n",
       "    </tr>\n",
       "  </tbody>\n",
       "</table>\n",
       "<p>1782 rows × 6 columns</p>\n",
       "</div>"
      ],
      "text/plain": [
       "        id        date  store_nbr                      family    sales  \\\n",
       "3564  3564  2013-01-03          1                  AUTOMOTIVE    3.000   \n",
       "3565  3565  2013-01-03          1                   BABY CARE    0.000   \n",
       "3566  3566  2013-01-03          1                      BEAUTY    0.000   \n",
       "3567  3567  2013-01-03          1                   BEVERAGES  919.000   \n",
       "3568  3568  2013-01-03          1                       BOOKS    0.000   \n",
       "...    ...         ...        ...                         ...      ...   \n",
       "5341  5341  2013-01-03          9                     POULTRY  509.496   \n",
       "5342  5342  2013-01-03          9              PREPARED FOODS   66.000   \n",
       "5343  5343  2013-01-03          9                     PRODUCE    0.000   \n",
       "5344  5344  2013-01-03          9  SCHOOL AND OFFICE SUPPLIES    0.000   \n",
       "5345  5345  2013-01-03          9                     SEAFOOD   25.000   \n",
       "\n",
       "      onpromotion  \n",
       "3564            0  \n",
       "3565            0  \n",
       "3566            0  \n",
       "3567            0  \n",
       "3568            0  \n",
       "...           ...  \n",
       "5341            0  \n",
       "5342            0  \n",
       "5343            0  \n",
       "5344            0  \n",
       "5345            0  \n",
       "\n",
       "[1782 rows x 6 columns]"
      ]
     },
     "execution_count": 3,
     "metadata": {},
     "output_type": "execute_result"
    }
   ],
   "source": [
    "df_train.loc[df_train.date == '2013-01-03']"
   ]
  },
  {
   "cell_type": "markdown",
   "id": "0e39e2d6",
   "metadata": {
    "papermill": {
     "duration": 0.01572,
     "end_time": "2024-01-22T21:48:53.878625",
     "exception": false,
     "start_time": "2024-01-22T21:48:53.862905",
     "status": "completed"
    },
    "tags": []
   },
   "source": [
    "This looks more like what one would expect. It's therefore likely that the store was indeed closed. We will address this later, when we incorporate the `df_holidays` dataset. \n",
    "\n",
    "## 1. Data cleaning\n",
    "\n",
    "For now, let's focus on cleaning up `df_train`. Does it have any missing values?"
   ]
  },
  {
   "cell_type": "code",
   "execution_count": 4,
   "id": "9be3d264",
   "metadata": {
    "execution": {
     "iopub.execute_input": "2024-01-22T21:48:53.913206Z",
     "iopub.status.busy": "2024-01-22T21:48:53.912725Z",
     "iopub.status.idle": "2024-01-22T21:48:54.539672Z",
     "shell.execute_reply": "2024-01-22T21:48:54.538544Z"
    },
    "papermill": {
     "duration": 0.646968,
     "end_time": "2024-01-22T21:48:54.542200",
     "exception": false,
     "start_time": "2024-01-22T21:48:53.895232",
     "status": "completed"
    },
    "tags": []
   },
   "outputs": [
    {
     "data": {
      "text/plain": [
       "id             0\n",
       "date           0\n",
       "store_nbr      0\n",
       "family         0\n",
       "sales          0\n",
       "onpromotion    0\n",
       "dtype: int64"
      ]
     },
     "execution_count": 4,
     "metadata": {},
     "output_type": "execute_result"
    }
   ],
   "source": [
    "df_train.isnull().sum()"
   ]
  },
  {
   "cell_type": "markdown",
   "id": "9a89825c",
   "metadata": {
    "papermill": {
     "duration": 0.015783,
     "end_time": "2024-01-22T21:48:54.574199",
     "exception": false,
     "start_time": "2024-01-22T21:48:54.558416",
     "status": "completed"
    },
    "tags": []
   },
   "source": [
    "No missing values! Great! Are the data types correct?"
   ]
  },
  {
   "cell_type": "code",
   "execution_count": 5,
   "id": "00450a07",
   "metadata": {
    "execution": {
     "iopub.execute_input": "2024-01-22T21:48:54.609058Z",
     "iopub.status.busy": "2024-01-22T21:48:54.607745Z",
     "iopub.status.idle": "2024-01-22T21:48:54.616925Z",
     "shell.execute_reply": "2024-01-22T21:48:54.615916Z"
    },
    "papermill": {
     "duration": 0.029179,
     "end_time": "2024-01-22T21:48:54.619472",
     "exception": false,
     "start_time": "2024-01-22T21:48:54.590293",
     "status": "completed"
    },
    "tags": []
   },
   "outputs": [
    {
     "data": {
      "text/plain": [
       "id               int64\n",
       "date            object\n",
       "store_nbr        int64\n",
       "family          object\n",
       "sales          float64\n",
       "onpromotion      int64\n",
       "dtype: object"
      ]
     },
     "execution_count": 5,
     "metadata": {},
     "output_type": "execute_result"
    }
   ],
   "source": [
    "df_train.dtypes"
   ]
  },
  {
   "cell_type": "markdown",
   "id": "851d43f9",
   "metadata": {
    "papermill": {
     "duration": 0.016263,
     "end_time": "2024-01-22T21:48:54.652236",
     "exception": false,
     "start_time": "2024-01-22T21:48:54.635973",
     "status": "completed"
    },
    "tags": []
   },
   "source": [
    "Looks like we will need to convert the `date` column into `datetime64` values. Let's do that. "
   ]
  },
  {
   "cell_type": "code",
   "execution_count": 6,
   "id": "891a66d6",
   "metadata": {
    "execution": {
     "iopub.execute_input": "2024-01-22T21:48:54.755259Z",
     "iopub.status.busy": "2024-01-22T21:48:54.754518Z",
     "iopub.status.idle": "2024-01-22T21:48:55.261186Z",
     "shell.execute_reply": "2024-01-22T21:48:55.260084Z"
    },
    "papermill": {
     "duration": 0.528289,
     "end_time": "2024-01-22T21:48:55.263822",
     "exception": false,
     "start_time": "2024-01-22T21:48:54.735533",
     "status": "completed"
    },
    "tags": []
   },
   "outputs": [
    {
     "data": {
      "text/plain": [
       "id                      int64\n",
       "date           datetime64[ns]\n",
       "store_nbr               int64\n",
       "family                 object\n",
       "sales                 float64\n",
       "onpromotion             int64\n",
       "dtype: object"
      ]
     },
     "execution_count": 6,
     "metadata": {},
     "output_type": "execute_result"
    }
   ],
   "source": [
    "df_train['date'] = pd.to_datetime(df_train['date'], format='%Y-%m-%d')\n",
    "df_train.dtypes"
   ]
  },
  {
   "cell_type": "markdown",
   "id": "6e7df2f4",
   "metadata": {
    "papermill": {
     "duration": 0.016312,
     "end_time": "2024-01-22T21:48:55.296817",
     "exception": false,
     "start_time": "2024-01-22T21:48:55.280505",
     "status": "completed"
    },
    "tags": []
   },
   "source": [
    "The `id` column is not contributing anything (it is simply a copy of the index), so we should get rid of that."
   ]
  },
  {
   "cell_type": "code",
   "execution_count": 7,
   "id": "2290b409",
   "metadata": {
    "execution": {
     "iopub.execute_input": "2024-01-22T21:48:55.332646Z",
     "iopub.status.busy": "2024-01-22T21:48:55.331508Z",
     "iopub.status.idle": "2024-01-22T21:48:55.433457Z",
     "shell.execute_reply": "2024-01-22T21:48:55.432567Z"
    },
    "papermill": {
     "duration": 0.122438,
     "end_time": "2024-01-22T21:48:55.435918",
     "exception": false,
     "start_time": "2024-01-22T21:48:55.313480",
     "status": "completed"
    },
    "tags": []
   },
   "outputs": [
    {
     "data": {
      "text/html": [
       "<div>\n",
       "<style scoped>\n",
       "    .dataframe tbody tr th:only-of-type {\n",
       "        vertical-align: middle;\n",
       "    }\n",
       "\n",
       "    .dataframe tbody tr th {\n",
       "        vertical-align: top;\n",
       "    }\n",
       "\n",
       "    .dataframe thead th {\n",
       "        text-align: right;\n",
       "    }\n",
       "</style>\n",
       "<table border=\"1\" class=\"dataframe\">\n",
       "  <thead>\n",
       "    <tr style=\"text-align: right;\">\n",
       "      <th></th>\n",
       "      <th>date</th>\n",
       "      <th>store_nbr</th>\n",
       "      <th>family</th>\n",
       "      <th>sales</th>\n",
       "      <th>onpromotion</th>\n",
       "    </tr>\n",
       "  </thead>\n",
       "  <tbody>\n",
       "    <tr>\n",
       "      <th>0</th>\n",
       "      <td>2013-01-01</td>\n",
       "      <td>1</td>\n",
       "      <td>AUTOMOTIVE</td>\n",
       "      <td>0.000</td>\n",
       "      <td>0</td>\n",
       "    </tr>\n",
       "    <tr>\n",
       "      <th>1</th>\n",
       "      <td>2013-01-01</td>\n",
       "      <td>1</td>\n",
       "      <td>BABY CARE</td>\n",
       "      <td>0.000</td>\n",
       "      <td>0</td>\n",
       "    </tr>\n",
       "    <tr>\n",
       "      <th>2</th>\n",
       "      <td>2013-01-01</td>\n",
       "      <td>1</td>\n",
       "      <td>BEAUTY</td>\n",
       "      <td>0.000</td>\n",
       "      <td>0</td>\n",
       "    </tr>\n",
       "    <tr>\n",
       "      <th>3</th>\n",
       "      <td>2013-01-01</td>\n",
       "      <td>1</td>\n",
       "      <td>BEVERAGES</td>\n",
       "      <td>0.000</td>\n",
       "      <td>0</td>\n",
       "    </tr>\n",
       "    <tr>\n",
       "      <th>4</th>\n",
       "      <td>2013-01-01</td>\n",
       "      <td>1</td>\n",
       "      <td>BOOKS</td>\n",
       "      <td>0.000</td>\n",
       "      <td>0</td>\n",
       "    </tr>\n",
       "    <tr>\n",
       "      <th>...</th>\n",
       "      <td>...</td>\n",
       "      <td>...</td>\n",
       "      <td>...</td>\n",
       "      <td>...</td>\n",
       "      <td>...</td>\n",
       "    </tr>\n",
       "    <tr>\n",
       "      <th>3000883</th>\n",
       "      <td>2017-08-15</td>\n",
       "      <td>9</td>\n",
       "      <td>POULTRY</td>\n",
       "      <td>438.133</td>\n",
       "      <td>0</td>\n",
       "    </tr>\n",
       "    <tr>\n",
       "      <th>3000884</th>\n",
       "      <td>2017-08-15</td>\n",
       "      <td>9</td>\n",
       "      <td>PREPARED FOODS</td>\n",
       "      <td>154.553</td>\n",
       "      <td>1</td>\n",
       "    </tr>\n",
       "    <tr>\n",
       "      <th>3000885</th>\n",
       "      <td>2017-08-15</td>\n",
       "      <td>9</td>\n",
       "      <td>PRODUCE</td>\n",
       "      <td>2419.729</td>\n",
       "      <td>148</td>\n",
       "    </tr>\n",
       "    <tr>\n",
       "      <th>3000886</th>\n",
       "      <td>2017-08-15</td>\n",
       "      <td>9</td>\n",
       "      <td>SCHOOL AND OFFICE SUPPLIES</td>\n",
       "      <td>121.000</td>\n",
       "      <td>8</td>\n",
       "    </tr>\n",
       "    <tr>\n",
       "      <th>3000887</th>\n",
       "      <td>2017-08-15</td>\n",
       "      <td>9</td>\n",
       "      <td>SEAFOOD</td>\n",
       "      <td>16.000</td>\n",
       "      <td>0</td>\n",
       "    </tr>\n",
       "  </tbody>\n",
       "</table>\n",
       "<p>3000888 rows × 5 columns</p>\n",
       "</div>"
      ],
      "text/plain": [
       "              date  store_nbr                      family     sales  \\\n",
       "0       2013-01-01          1                  AUTOMOTIVE     0.000   \n",
       "1       2013-01-01          1                   BABY CARE     0.000   \n",
       "2       2013-01-01          1                      BEAUTY     0.000   \n",
       "3       2013-01-01          1                   BEVERAGES     0.000   \n",
       "4       2013-01-01          1                       BOOKS     0.000   \n",
       "...            ...        ...                         ...       ...   \n",
       "3000883 2017-08-15          9                     POULTRY   438.133   \n",
       "3000884 2017-08-15          9              PREPARED FOODS   154.553   \n",
       "3000885 2017-08-15          9                     PRODUCE  2419.729   \n",
       "3000886 2017-08-15          9  SCHOOL AND OFFICE SUPPLIES   121.000   \n",
       "3000887 2017-08-15          9                     SEAFOOD    16.000   \n",
       "\n",
       "         onpromotion  \n",
       "0                  0  \n",
       "1                  0  \n",
       "2                  0  \n",
       "3                  0  \n",
       "4                  0  \n",
       "...              ...  \n",
       "3000883            0  \n",
       "3000884            1  \n",
       "3000885          148  \n",
       "3000886            8  \n",
       "3000887            0  \n",
       "\n",
       "[3000888 rows x 5 columns]"
      ]
     },
     "execution_count": 7,
     "metadata": {},
     "output_type": "execute_result"
    }
   ],
   "source": [
    "df_train = df_train.loc[:,'date':'onpromotion']\n",
    "df_train"
   ]
  },
  {
   "cell_type": "markdown",
   "id": "3595b3a5",
   "metadata": {
    "papermill": {
     "duration": 0.016761,
     "end_time": "2024-01-22T21:48:55.469805",
     "exception": false,
     "start_time": "2024-01-22T21:48:55.453044",
     "status": "completed"
    },
    "tags": []
   },
   "source": [
    "Next, let's check that the data entry is consistent for the `family` feature."
   ]
  },
  {
   "cell_type": "code",
   "execution_count": 8,
   "id": "a9f23c04",
   "metadata": {
    "execution": {
     "iopub.execute_input": "2024-01-22T21:48:55.507122Z",
     "iopub.status.busy": "2024-01-22T21:48:55.506276Z",
     "iopub.status.idle": "2024-01-22T21:48:55.783912Z",
     "shell.execute_reply": "2024-01-22T21:48:55.782730Z"
    },
    "papermill": {
     "duration": 0.299592,
     "end_time": "2024-01-22T21:48:55.786416",
     "exception": false,
     "start_time": "2024-01-22T21:48:55.486824",
     "status": "completed"
    },
    "tags": []
   },
   "outputs": [
    {
     "data": {
      "text/plain": [
       "array(['AUTOMOTIVE', 'BABY CARE', 'BEAUTY', 'BEVERAGES', 'BOOKS',\n",
       "       'BREAD/BAKERY', 'CELEBRATION', 'CLEANING', 'DAIRY', 'DELI', 'EGGS',\n",
       "       'FROZEN FOODS', 'GROCERY I', 'GROCERY II', 'HARDWARE',\n",
       "       'HOME AND KITCHEN I', 'HOME AND KITCHEN II', 'HOME APPLIANCES',\n",
       "       'HOME CARE', 'LADIESWEAR', 'LAWN AND GARDEN', 'LINGERIE',\n",
       "       'LIQUOR,WINE,BEER', 'MAGAZINES', 'MEATS', 'PERSONAL CARE',\n",
       "       'PET SUPPLIES', 'PLAYERS AND ELECTRONICS', 'POULTRY',\n",
       "       'PREPARED FOODS', 'PRODUCE', 'SCHOOL AND OFFICE SUPPLIES',\n",
       "       'SEAFOOD'], dtype=object)"
      ]
     },
     "execution_count": 8,
     "metadata": {},
     "output_type": "execute_result"
    }
   ],
   "source": [
    "df_train.family.unique()"
   ]
  },
  {
   "cell_type": "markdown",
   "id": "64e824d2",
   "metadata": {
    "papermill": {
     "duration": 0.017618,
     "end_time": "2024-01-22T21:48:55.821141",
     "exception": false,
     "start_time": "2024-01-22T21:48:55.803523",
     "status": "completed"
    },
    "tags": []
   },
   "source": [
    "There are no obvious issues here; great! We also need to consider whether we need to scale/normalise our data. But our only numeric feature for now is `onpromotion`, so this does not seem necessary. We may need to come back to that once we add the features from the other datasets."
   ]
  },
  {
   "cell_type": "markdown",
   "id": "610c4e37",
   "metadata": {
    "papermill": {
     "duration": 0.017084,
     "end_time": "2024-01-22T21:48:55.855668",
     "exception": false,
     "start_time": "2024-01-22T21:48:55.838584",
     "status": "completed"
    },
    "tags": []
   },
   "source": [
    "## 2. Baseline model\n",
    "\n",
    "We can use linear regression as a simple baseline model to compare our results against. But first, we need to encode our categorical features so they have numeric values. Since this is our baseline model, let's keep things simple by using a basic Label Encoder."
   ]
  },
  {
   "cell_type": "code",
   "execution_count": 9,
   "id": "754b2720",
   "metadata": {
    "execution": {
     "iopub.execute_input": "2024-01-22T21:48:55.893014Z",
     "iopub.status.busy": "2024-01-22T21:48:55.892321Z",
     "iopub.status.idle": "2024-01-22T21:48:57.058627Z",
     "shell.execute_reply": "2024-01-22T21:48:57.057325Z"
    },
    "papermill": {
     "duration": 1.188829,
     "end_time": "2024-01-22T21:48:57.061755",
     "exception": false,
     "start_time": "2024-01-22T21:48:55.872926",
     "status": "completed"
    },
    "tags": []
   },
   "outputs": [],
   "source": [
    "X = df_train.copy()\n",
    "y = X.pop('sales')\n",
    "\n",
    "date_enc = LabelEncoder()\n",
    "family_enc = LabelEncoder()\n",
    "X.date = date_enc.fit_transform(X.date)\n",
    "X.family = family_enc.fit_transform(X.family)"
   ]
  },
  {
   "cell_type": "markdown",
   "id": "fcebbc1c",
   "metadata": {
    "papermill": {
     "duration": 0.017094,
     "end_time": "2024-01-22T21:48:57.096797",
     "exception": false,
     "start_time": "2024-01-22T21:48:57.079703",
     "status": "completed"
    },
    "tags": []
   },
   "source": [
    "Note that even though we have two datasets `df_train` and `df_test`, this is not a true train-test split, since `df_test` does not contain a `sales` column. This means that we cannot use `df_test` for testing; instead, we will need to split `df_train` into a training set and a testing set and test on that. Once we have a model that gives a low RMSLE on this, we can then train on the entirety of `df_train` and predict the `sales` values of `df_test`.\n",
    "\n",
    "Since our dataset `df_train` has over 3 million rows, a test size of 20% should be plenty."
   ]
  },
  {
   "cell_type": "code",
   "execution_count": 10,
   "id": "4ce16953",
   "metadata": {
    "execution": {
     "iopub.execute_input": "2024-01-22T21:48:57.134353Z",
     "iopub.status.busy": "2024-01-22T21:48:57.133921Z",
     "iopub.status.idle": "2024-01-22T21:48:57.836432Z",
     "shell.execute_reply": "2024-01-22T21:48:57.835346Z"
    },
    "papermill": {
     "duration": 0.725246,
     "end_time": "2024-01-22T21:48:57.839328",
     "exception": false,
     "start_time": "2024-01-22T21:48:57.114082",
     "status": "completed"
    },
    "tags": []
   },
   "outputs": [],
   "source": [
    "X_train, X_test, y_train, y_test = train_test_split(X, y, test_size=0.2, random_state=23)"
   ]
  },
  {
   "cell_type": "markdown",
   "id": "9a14fb53",
   "metadata": {
    "papermill": {
     "duration": 0.017385,
     "end_time": "2024-01-22T21:48:57.874308",
     "exception": false,
     "start_time": "2024-01-22T21:48:57.856923",
     "status": "completed"
    },
    "tags": []
   },
   "source": [
    "We are now ready to fit our linear regression model!"
   ]
  },
  {
   "cell_type": "code",
   "execution_count": 11,
   "id": "a0458856",
   "metadata": {
    "execution": {
     "iopub.execute_input": "2024-01-22T21:48:57.910607Z",
     "iopub.status.busy": "2024-01-22T21:48:57.910210Z",
     "iopub.status.idle": "2024-01-22T21:48:58.942077Z",
     "shell.execute_reply": "2024-01-22T21:48:58.940485Z"
    },
    "papermill": {
     "duration": 1.055396,
     "end_time": "2024-01-22T21:48:58.946938",
     "exception": false,
     "start_time": "2024-01-22T21:48:57.891542",
     "status": "completed"
    },
    "tags": []
   },
   "outputs": [
    {
     "name": "stdout",
     "output_type": "stream",
     "text": [
      "Accuracy of model on training data: 0.19387053539165477\n",
      "Accuracy of model on testing data: 0.1920690456186942\n",
      "RMSLE: 3.686436134651758\n"
     ]
    }
   ],
   "source": [
    "reg_model = LinearRegression()\n",
    "reg_model.fit(X_train, y_train)\n",
    "predictions = reg_model.predict(X_test)\n",
    "\n",
    "print(f'Accuracy of model on training data: {reg_model.score(X_train, y_train)}')\n",
    "print(f'Accuracy of model on testing data: {r2_score(y_test, predictions)}')\n",
    "print(f'RMSLE: {rmsle(y_test.values, predictions)}')"
   ]
  },
  {
   "cell_type": "markdown",
   "id": "95d2e314",
   "metadata": {
    "papermill": {
     "duration": 0.017143,
     "end_time": "2024-01-22T21:48:58.985126",
     "exception": false,
     "start_time": "2024-01-22T21:48:58.967983",
     "status": "completed"
    },
    "tags": []
   },
   "source": [
    "`Accuracy of model on training data: 0.19387053539165477\n",
    "Accuracy of model on testing data: 0.1920690456186942\n",
    "RMSLE: 3.686436134651758`\n",
    "\n",
    "The accuracy of the model seems pretty bad on both the training and testing data, but that is to be expected. The model also slightly overfits, but only by a very small margin."
   ]
  },
  {
   "cell_type": "markdown",
   "id": "230d34c9",
   "metadata": {
    "papermill": {
     "duration": 0.01727,
     "end_time": "2024-01-22T21:48:59.021089",
     "exception": false,
     "start_time": "2024-01-22T21:48:59.003819",
     "status": "completed"
    },
    "tags": []
   },
   "source": [
    "## 3. Picking a better model\n",
    "\n",
    "A good general-purpose model is the Random Forest model, so we will try that."
   ]
  },
  {
   "cell_type": "code",
   "execution_count": 12,
   "id": "614ab010",
   "metadata": {
    "execution": {
     "iopub.execute_input": "2024-01-22T21:48:59.057819Z",
     "iopub.status.busy": "2024-01-22T21:48:59.057355Z",
     "iopub.status.idle": "2024-01-22T22:05:46.465323Z",
     "shell.execute_reply": "2024-01-22T22:05:46.463985Z"
    },
    "papermill": {
     "duration": 1007.446564,
     "end_time": "2024-01-22T22:05:46.485193",
     "exception": false,
     "start_time": "2024-01-22T21:48:59.038629",
     "status": "completed"
    },
    "tags": []
   },
   "outputs": [
    {
     "name": "stdout",
     "output_type": "stream",
     "text": [
      "Accuracy of model on training data: 0.9855113833970941\n",
      "Accuracy of model on testing data: 0.9078590130473214\n",
      "RMSLE: 0.5489546905034578\n"
     ]
    }
   ],
   "source": [
    "reg_model = RandomForestRegressor(random_state=23)\n",
    "reg_model.fit(X_train, y_train)\n",
    "predictions = reg_model.predict(X_test)\n",
    "\n",
    "print(f'Accuracy of model on training data: {reg_model.score(X_train, y_train)}')\n",
    "print(f'Accuracy of model on testing data: {r2_score(y_test, predictions)}')\n",
    "print(f'RMSLE: {rmsle(y_test.values, predictions)}')"
   ]
  },
  {
   "cell_type": "markdown",
   "id": "8e5aae07",
   "metadata": {
    "papermill": {
     "duration": 0.016859,
     "end_time": "2024-01-22T22:05:46.519279",
     "exception": false,
     "start_time": "2024-01-22T22:05:46.502420",
     "status": "completed"
    },
    "tags": []
   },
   "source": [
    "`Accuracy of model on training data: 0.9855113833970941\n",
    "Accuracy of model on testing data: 0.9078590130473214\n",
    "RMSLE: 0.5489546905034578`\n",
    "\n",
    "This is much better already! The overfitting is more apparent with this model, but overall accuracy and RMSLE have improved a huge amount.\n",
    "\n",
    "After tuning the hyperparameters, we see that the following produces a better result."
   ]
  },
  {
   "cell_type": "code",
   "execution_count": 13,
   "id": "19e83c30",
   "metadata": {
    "execution": {
     "iopub.execute_input": "2024-01-22T22:05:46.555926Z",
     "iopub.status.busy": "2024-01-22T22:05:46.555469Z",
     "iopub.status.idle": "2024-01-22T22:18:26.851131Z",
     "shell.execute_reply": "2024-01-22T22:18:26.849517Z"
    },
    "papermill": {
     "duration": 760.341956,
     "end_time": "2024-01-22T22:18:26.878462",
     "exception": false,
     "start_time": "2024-01-22T22:05:46.536506",
     "status": "completed"
    },
    "tags": []
   },
   "outputs": [
    {
     "name": "stdout",
     "output_type": "stream",
     "text": [
      "Accuracy of model on training data: 0.9608660586920871\n",
      "Accuracy of model on testing data: 0.909054759281911\n",
      "RMSLE: 0.5340370548147686\n"
     ]
    }
   ],
   "source": [
    "# Depths were around 50 and numbers of leaves were around 480,000 before capping.\n",
    "reg_model = RandomForestRegressor(n_estimators=200, min_samples_leaf=2, max_depth=25, max_leaf_nodes=250000, n_jobs=8, random_state=23)\n",
    "reg_model.fit(X_train, y_train)\n",
    "predictions = reg_model.predict(X_test)\n",
    "\n",
    "train_acc = reg_model.score(X_train, y_train)\n",
    "test_acc = r2_score(y_test, predictions)\n",
    "rmsle_score = rmsle(y_test.values, predictions)\n",
    "# best_rmsle = 0.5340370548147686 \n",
    "\n",
    "print(f'Accuracy of model on training data: {train_acc}')\n",
    "print(f'Accuracy of model on testing data: {test_acc}')\n",
    "print(f'RMSLE: {rmsle_score}')\n",
    "# print(f'Better RMSLE: {rmsle_score < best_rmsle}')\n",
    "# print(f'Max depths: {[estimator.tree_.max_depth for estimator in reg_model.estimators_]}')\n",
    "# print(f'Numbers of leaves: {[estimator.tree_.n_leaves for estimator in reg_model.estimators_]}')"
   ]
  },
  {
   "cell_type": "markdown",
   "id": "c3c7b648",
   "metadata": {
    "papermill": {
     "duration": 0.017485,
     "end_time": "2024-01-22T22:18:26.913654",
     "exception": false,
     "start_time": "2024-01-22T22:18:26.896169",
     "status": "completed"
    },
    "tags": []
   },
   "source": [
    "`Accuracy of model on training data: 0.9608660586920871\n",
    "Accuracy of model on testing data: 0.909054759281911\n",
    "RMSLE: 0.5340370548147686`\n",
    "\n",
    "This RMSLE is our new score to beat as we move on to the feature engineering stage."
   ]
  },
  {
   "cell_type": "markdown",
   "id": "a56289cf",
   "metadata": {
    "papermill": {
     "duration": 0.01778,
     "end_time": "2024-01-22T22:18:26.949450",
     "exception": false,
     "start_time": "2024-01-22T22:18:26.931670",
     "status": "completed"
    },
    "tags": []
   },
   "source": [
    "## 4. Feature engineering\n",
    "\n",
    "### 4.1. Target encoding\n",
    "\n",
    "Now that we have our Random Forest model set up, let's do some feature engineering to improve its performance. The first thing we can do is improve the encoding of the `family` feature by using *target encoding*. We have over 3 million rows in our dataset, so can safely set some aside for target encoding; in fact, just setting aside 3% of our total dataset should be sufficient. Notice also that each of the categories in the `family` column appears in an equal number of rows. This is a good sign that a target encoding might work well."
   ]
  },
  {
   "cell_type": "code",
   "execution_count": 14,
   "id": "c4e4a2c3",
   "metadata": {
    "execution": {
     "iopub.execute_input": "2024-01-22T22:18:26.990252Z",
     "iopub.status.busy": "2024-01-22T22:18:26.989403Z",
     "iopub.status.idle": "2024-01-22T22:18:29.041554Z",
     "shell.execute_reply": "2024-01-22T22:18:29.040461Z"
    },
    "papermill": {
     "duration": 2.07564,
     "end_time": "2024-01-22T22:18:29.044456",
     "exception": false,
     "start_time": "2024-01-22T22:18:26.968816",
     "status": "completed"
    },
    "tags": []
   },
   "outputs": [],
   "source": [
    "X = df_train.copy()\n",
    "y = X.pop('sales')\n",
    "date_enc = LabelEncoder()\n",
    "X.date = date_enc.fit_transform(X.date)\n",
    "\n",
    "X_encode = X.sample(frac=0.03, random_state=23)\n",
    "y_encode = y[X_encode.index]\n",
    "X_pretrain = X.drop(X_encode.index)\n",
    "y_pretrain = y[X_pretrain.index]\n",
    "encoder = MEstimateEncoder(cols=['family'], m=10.0)\n",
    "encoder.fit(X_encode, y_encode)\n",
    "X_pretrain = encoder.transform(X_pretrain)"
   ]
  },
  {
   "cell_type": "markdown",
   "id": "971c621d",
   "metadata": {
    "papermill": {
     "duration": 0.01804,
     "end_time": "2024-01-22T22:18:29.080433",
     "exception": false,
     "start_time": "2024-01-22T22:18:29.062393",
     "status": "completed"
    },
    "tags": []
   },
   "source": [
    "Let's test our model again. We will remove some of the hyperparameter settings on the random forest model for now, as our feature engineering will likely result in us needing to change the tuning."
   ]
  },
  {
   "cell_type": "code",
   "execution_count": 15,
   "id": "11987764",
   "metadata": {
    "execution": {
     "iopub.execute_input": "2024-01-22T22:18:29.118215Z",
     "iopub.status.busy": "2024-01-22T22:18:29.117503Z",
     "iopub.status.idle": "2024-01-22T22:25:21.066505Z",
     "shell.execute_reply": "2024-01-22T22:25:21.065192Z"
    },
    "papermill": {
     "duration": 411.988806,
     "end_time": "2024-01-22T22:25:21.086902",
     "exception": false,
     "start_time": "2024-01-22T22:18:29.098096",
     "status": "completed"
    },
    "tags": []
   },
   "outputs": [
    {
     "name": "stdout",
     "output_type": "stream",
     "text": [
      "Accuracy of model on training data: 0.9862433771060769\n",
      "Accuracy of model on testing data: 0.8941582445797346\n",
      "RMSLE: 0.5447023665640118\n",
      "Better RMSLE: True\n"
     ]
    }
   ],
   "source": [
    "X_train, X_test, y_train, y_test = train_test_split(X_pretrain, y_pretrain, test_size=0.2, random_state=23)\n",
    "\n",
    "reg_model = RandomForestRegressor(n_jobs=8, random_state=23)\n",
    "reg_model.fit(X_train, y_train)\n",
    "predictions = reg_model.predict(X_test)\n",
    "\n",
    "train_acc = reg_model.score(X_train, y_train)\n",
    "test_acc = r2_score(y_test, predictions)\n",
    "rmsle_score = rmsle(y_test.values, predictions)\n",
    "base_forest_rmsle = 0.5489546905034578\n",
    "\n",
    "print(f'Accuracy of model on training data: {train_acc}')\n",
    "print(f'Accuracy of model on testing data: {test_acc}')\n",
    "print(f'RMSLE: {rmsle_score}')\n",
    "print(f'Better RMSLE: {rmsle_score < base_forest_rmsle}')\n",
    "# print(f'Max depths: {[estimator.tree_.max_depth for estimator in reg_model.estimators_]}')\n",
    "# print(f'Numbers of leaves: {[estimator.tree_.n_leaves for estimator in reg_model.estimators_]}')"
   ]
  },
  {
   "cell_type": "markdown",
   "id": "176ae22e",
   "metadata": {
    "papermill": {
     "duration": 0.017359,
     "end_time": "2024-01-22T22:25:21.121930",
     "exception": false,
     "start_time": "2024-01-22T22:25:21.104571",
     "status": "completed"
    },
    "tags": []
   },
   "source": [
    "`Accuracy of model on training data: 0.9862433771060769\n",
    "Accuracy of model on testing data: 0.8941582445797346\n",
    "RMSLE: 0.5447023665640118\n",
    "Better RMSLE: True`\n",
    "\n",
    "We see a small improvement in the RMSLE, so we'll keep the encoding."
   ]
  },
  {
   "cell_type": "markdown",
   "id": "f2b0b7e8",
   "metadata": {
    "papermill": {
     "duration": 0.017349,
     "end_time": "2024-01-22T22:25:21.156961",
     "exception": false,
     "start_time": "2024-01-22T22:25:21.139612",
     "status": "completed"
    },
    "tags": []
   },
   "source": [
    "### 4.2. Autoregression analysis\n",
    "\n",
    "Since our data has the form of a time series, we need to test for autoregression and restructure it using a *sliding window representation*, which allows past `sales` data to be used as a feature to predict future `sales` data.\n",
    "\n",
    "We need to be careful with how we use lag here, since for each day of data we have multiple stores with multiple products. Let's check that the numbers of items stocked and the number of stores listed each day are consistent across the dataset."
   ]
  },
  {
   "cell_type": "code",
   "execution_count": 16,
   "id": "50068713",
   "metadata": {
    "execution": {
     "iopub.execute_input": "2024-01-22T22:25:21.194466Z",
     "iopub.status.busy": "2024-01-22T22:25:21.194047Z",
     "iopub.status.idle": "2024-01-22T22:25:21.489718Z",
     "shell.execute_reply": "2024-01-22T22:25:21.488282Z"
    },
    "papermill": {
     "duration": 0.317725,
     "end_time": "2024-01-22T22:25:21.492321",
     "exception": false,
     "start_time": "2024-01-22T22:25:21.174596",
     "status": "completed"
    },
    "tags": []
   },
   "outputs": [
    {
     "name": "stdout",
     "output_type": "stream",
     "text": [
      "Every store stocks the same number of items every day: True\n",
      "Every store is present in the data set across the same days: True\n",
      "Every store stocks 33 items.\n",
      "There are 54 stores.\n"
     ]
    }
   ],
   "source": [
    "n_items_per_store = df_train.groupby('store_nbr').date.value_counts()\n",
    "print(f'Every store stocks the same number of items every day: {n_items_per_store.nunique() == 1}')\n",
    "n_days_per_store = df_train.groupby('store_nbr').date.count()\n",
    "print(f'Every store is present in the data set across the same days: {n_days_per_store.nunique() == 1}')\n",
    "print(f'Every store stocks {n_items_per_store.iloc[0]} items.')\n",
    "print(f'There are {df_train.store_nbr.nunique()} stores.')"
   ]
  },
  {
   "cell_type": "markdown",
   "id": "cbe70bbb",
   "metadata": {
    "papermill": {
     "duration": 0.017195,
     "end_time": "2024-01-22T22:25:21.527437",
     "exception": false,
     "start_time": "2024-01-22T22:25:21.510242",
     "status": "completed"
    },
    "tags": []
   },
   "source": [
    "We can see that every store stocks 33 items every day, and every store is listed in the dataset on each day. Moreover, there are 54 stores. Thus, any lag in our data should be a multiple of `33*54`, as this is the number of rows in our dataset per day. Since the stores and items listed each day are consistent, each multiple of `33*54` should accurately represent one day of lag.\n",
    "\n",
    "We therefore plot the autocorrelation function for `sales`, using 740 lags (in multiples of `33*54`) so that we are able to capture potential annual lag. Since our dataset is so huge, we will only plot this for the first 5 stores (so we use multiples of `33*5` instead)."
   ]
  },
  {
   "cell_type": "code",
   "execution_count": 17,
   "id": "e797060f",
   "metadata": {
    "execution": {
     "iopub.execute_input": "2024-01-22T22:25:21.565647Z",
     "iopub.status.busy": "2024-01-22T22:25:21.564362Z",
     "iopub.status.idle": "2024-01-22T22:25:39.409862Z",
     "shell.execute_reply": "2024-01-22T22:25:39.408958Z"
    },
    "papermill": {
     "duration": 17.866964,
     "end_time": "2024-01-22T22:25:39.412059",
     "exception": false,
     "start_time": "2024-01-22T22:25:21.545095",
     "status": "completed"
    },
    "tags": []
   },
   "outputs": [
    {
     "data": {
      "image/png": "[encoded data removed]",
      "text/plain": [
       "<Figure size 640x480 with 1 Axes>"
      ]
     },
     "execution_count": 17,
     "metadata": {},
     "output_type": "execute_result"
    },
    {
     "data": {
      "image/png": "[encoded data removed]",
      "text/plain": [
       "<Figure size 640x480 with 1 Axes>"
      ]
     },
     "metadata": {},
     "output_type": "display_data"
    }
   ],
   "source": [
    "plot_acf(df_train.loc[df_train.store_nbr.isin(range(1,6))].sales.values, lags = [33*5*i for i in range(740)])"
   ]
  },
  {
   "cell_type": "markdown",
   "id": "5f167267",
   "metadata": {
    "papermill": {
     "duration": 0.019031,
     "end_time": "2024-01-22T22:25:39.450104",
     "exception": false,
     "start_time": "2024-01-22T22:25:39.431073",
     "status": "completed"
    },
    "tags": []
   },
   "source": [
    "There definitely does not seem to be autocorrelation on a yearly scale; in fact, the amount of autocorrelation appears to be decreasing linearly on the large scale. Lets decrease the number of lags to 70 to see if there is any autocorrelation on the monthly or weekly scale."
   ]
  },
  {
   "cell_type": "code",
   "execution_count": 18,
   "id": "f5bc0eb8",
   "metadata": {
    "execution": {
     "iopub.execute_input": "2024-01-22T22:25:39.490999Z",
     "iopub.status.busy": "2024-01-22T22:25:39.490341Z",
     "iopub.status.idle": "2024-01-22T22:25:56.909003Z",
     "shell.execute_reply": "2024-01-22T22:25:56.907759Z"
    },
    "papermill": {
     "duration": 17.442073,
     "end_time": "2024-01-22T22:25:56.911574",
     "exception": false,
     "start_time": "2024-01-22T22:25:39.469501",
     "status": "completed"
    },
    "tags": []
   },
   "outputs": [
    {
     "data": {
      "image/png": "[encoded data removed]",
      "text/plain": [
       "<Figure size 640x480 with 1 Axes>"
      ]
     },
     "execution_count": 18,
     "metadata": {},
     "output_type": "execute_result"
    },
    {
     "data": {
      "image/png": "[encoded data removed]",
      "text/plain": [
       "<Figure size 640x480 with 1 Axes>"
      ]
     },
     "metadata": {},
     "output_type": "display_data"
    }
   ],
   "source": [
    "plot_acf(df_train.loc[df_train.store_nbr.isin(range(1,6))].sales.values, lags = [33*5*i for i in range(70)])"
   ]
  },
  {
   "cell_type": "markdown",
   "id": "0516b4d6",
   "metadata": {
    "papermill": {
     "duration": 0.019643,
     "end_time": "2024-01-22T22:25:56.952467",
     "exception": false,
     "start_time": "2024-01-22T22:25:56.932824",
     "status": "completed"
    },
    "tags": []
   },
   "source": [
    "This looks more promising! We can see there is a high degree of autocorrelation if we restrict to at most two months of lag, and in fact the autocorrelation appears to spike weekly. This justifies adding a `sales_last_week` feature. \n",
    "\n",
    "Note that we now need to be careful when making our train-test splits; if some of our testing data is from an earlier date than some of our training data, then `sales_last_week` will give our training data undue information about that testing data. We therefore need to make our splits without shuffling the data, so that all the testing data appears after the training data. We also can't use `sales_last_week` in our testing data, except for the first week of the test data; the rest we will have to fill in one week at a time via *walk-forward validation*. To simplify this process, we will only test on the last 15 weeks from `df_train`; this represents 5% of the total data."
   ]
  },
  {
   "cell_type": "code",
   "execution_count": 19,
   "id": "f8c9b4cd",
   "metadata": {
    "execution": {
     "iopub.execute_input": "2024-01-22T22:25:56.994723Z",
     "iopub.status.busy": "2024-01-22T22:25:56.994046Z",
     "iopub.status.idle": "2024-01-22T22:25:57.481667Z",
     "shell.execute_reply": "2024-01-22T22:25:57.480716Z"
    },
    "papermill": {
     "duration": 0.511729,
     "end_time": "2024-01-22T22:25:57.484268",
     "exception": false,
     "start_time": "2024-01-22T22:25:56.972539",
     "status": "completed"
    },
    "tags": []
   },
   "outputs": [],
   "source": [
    "X_pretrain['sales_last_week'] = y_pretrain.shift(33*54*7)\n",
    "X_pretrain.dropna(inplace=True)\n",
    "y_pretrain = y_pretrain[X_pretrain.index]\n",
    "\n",
    "X_train, X_test, y_train, y_test = train_test_split(X_pretrain, y_pretrain, test_size=33*54*7*15, shuffle=False)"
   ]
  },
  {
   "cell_type": "markdown",
   "id": "fcb0cc0d",
   "metadata": {
    "papermill": {
     "duration": 0.019395,
     "end_time": "2024-01-22T22:25:57.523442",
     "exception": false,
     "start_time": "2024-01-22T22:25:57.504047",
     "status": "completed"
    },
    "tags": []
   },
   "source": [
    "Let's test our model again. Note that we will also have to test the previous random forest model with this new train-test split, in order to get an accurate picture of whether we have made an improvement."
   ]
  },
  {
   "cell_type": "code",
   "execution_count": 20,
   "id": "9cc62ddc",
   "metadata": {
    "execution": {
     "iopub.execute_input": "2024-01-22T22:25:57.564935Z",
     "iopub.status.busy": "2024-01-22T22:25:57.564512Z",
     "iopub.status.idle": "2024-01-22T22:32:26.828526Z",
     "shell.execute_reply": "2024-01-22T22:32:26.825858Z"
    },
    "papermill": {
     "duration": 389.306951,
     "end_time": "2024-01-22T22:32:26.850114",
     "exception": false,
     "start_time": "2024-01-22T22:25:57.543163",
     "status": "completed"
    },
    "tags": []
   },
   "outputs": [
    {
     "name": "stdout",
     "output_type": "stream",
     "text": [
      "Accuracy of old model on training data: 0.9867690983448513\n",
      "Accuracy of old model on testing data: 0.8767156788191243\n",
      "RMSLE: 0.596316319204942\n"
     ]
    }
   ],
   "source": [
    "X_train_old = X_train.drop(columns='sales_last_week')\n",
    "X_test_old = X_test.drop(columns='sales_last_week')\n",
    "\n",
    "reg_model = RandomForestRegressor(n_jobs=8, random_state=23)\n",
    "reg_model.fit(X_train_old, y_train)\n",
    "predictions = reg_model.predict(X_test_old)\n",
    "\n",
    "old_train_acc = reg_model.score(X_train_old, y_train)\n",
    "old_test_acc = r2_score(y_test, predictions)\n",
    "base_forest_rmsle = rmsle(y_test.values, predictions)\n",
    "\n",
    "print(f'Accuracy of old model on training data: {old_train_acc}')\n",
    "print(f'Accuracy of old model on testing data: {old_test_acc}')\n",
    "print(f'RMSLE: {base_forest_rmsle}')"
   ]
  },
  {
   "cell_type": "code",
   "execution_count": 21,
   "id": "f70f5632",
   "metadata": {
    "execution": {
     "iopub.execute_input": "2024-01-22T22:32:26.893020Z",
     "iopub.status.busy": "2024-01-22T22:32:26.892539Z",
     "iopub.status.idle": "2024-01-22T22:41:19.998653Z",
     "shell.execute_reply": "2024-01-22T22:41:19.997061Z"
    },
    "papermill": {
     "duration": 533.150584,
     "end_time": "2024-01-22T22:41:20.021554",
     "exception": false,
     "start_time": "2024-01-22T22:32:26.870970",
     "status": "completed"
    },
    "tags": []
   },
   "outputs": [
    {
     "name": "stdout",
     "output_type": "stream",
     "text": [
      "Accuracy of new model on training data: 0.9853681825576727\n",
      "Accuracy of new model on testing data: 0.8857992238514758\n",
      "RMSLE: 0.5922595096068964\n",
      "Better RMSLE: True\n"
     ]
    }
   ],
   "source": [
    "reg_model = RandomForestRegressor(n_jobs=8, random_state=23)\n",
    "reg_model.fit(X_train, y_train)\n",
    "\n",
    "predictions = reg_model.predict(X_test.iloc[:33*54*7])\n",
    "for i in range(1,15):\n",
    "    X_test.iloc[33*54*7*i : 33*54*7*(i+1), -1] = pd.Series(predictions[33*54*7*(i-1):33*54*7*i], index=X_test.iloc[33*54*7*i : 33*54*7*(i+1), -1].index)\n",
    "    predictions = np.concatenate((predictions, reg_model.predict(X_test.iloc[33*54*7*i : 33*54*7*(i+1)])))\n",
    "\n",
    "train_acc = reg_model.score(X_train, y_train)\n",
    "test_acc = r2_score(y_test, predictions)\n",
    "rmsle_score = rmsle(y_test.values, predictions)\n",
    "base_forest_rmsle = 0.596316319204942\n",
    "\n",
    "print(f'Accuracy of new model on training data: {train_acc}')\n",
    "print(f'Accuracy of new model on testing data: {test_acc}')\n",
    "print(f'RMSLE: {rmsle_score}')\n",
    "print(f'Better RMSLE: {rmsle_score < base_forest_rmsle}')"
   ]
  },
  {
   "cell_type": "markdown",
   "id": "2404d5f6",
   "metadata": {
    "papermill": {
     "duration": 0.019664,
     "end_time": "2024-01-22T22:41:20.062179",
     "exception": false,
     "start_time": "2024-01-22T22:41:20.042515",
     "status": "completed"
    },
    "tags": []
   },
   "source": [
    "The RMSLE has improved and there is less overfitting now, too. Great!"
   ]
  },
  {
   "cell_type": "markdown",
   "id": "579300a3",
   "metadata": {
    "papermill": {
     "duration": 0.019659,
     "end_time": "2024-01-22T22:41:20.101846",
     "exception": false,
     "start_time": "2024-01-22T22:41:20.082187",
     "status": "completed"
    },
    "tags": []
   },
   "source": [
    "### 4.3. Anomaly detection\n",
    "\n",
    "We know that there was a big earthquake on April 16, 2016 which greatly affected sales for weeks afterwards. We are therefore expecting significant anomalies in the sales figures around this time. Let's visualise our data to see if this is the case."
   ]
  },
  {
   "cell_type": "code",
   "execution_count": 22,
   "id": "628e105b",
   "metadata": {
    "execution": {
     "iopub.execute_input": "2024-01-22T22:41:20.143530Z",
     "iopub.status.busy": "2024-01-22T22:41:20.143088Z",
     "iopub.status.idle": "2024-01-22T22:43:09.257341Z",
     "shell.execute_reply": "2024-01-22T22:43:09.256005Z"
    },
    "papermill": {
     "duration": 109.13874,
     "end_time": "2024-01-22T22:43:09.260412",
     "exception": false,
     "start_time": "2024-01-22T22:41:20.121672",
     "status": "completed"
    },
    "tags": []
   },
   "outputs": [
    {
     "data": {
      "text/plain": [
       "<Axes: xlabel='year_month', ylabel='sales'>"
      ]
     },
     "execution_count": 22,
     "metadata": {},
     "output_type": "execute_result"
    },
    {
     "data": {
      "image/png": "[encoded data removed]",
      "text/plain": [
       "<Figure size 1200x400 with 1 Axes>"
      ]
     },
     "metadata": {},
     "output_type": "display_data"
    }
   ],
   "source": [
    "df_plot = df_train.copy()\n",
    "df_plot['year_month'] = df_plot['date'].dt.to_period('M')\n",
    "fig, ax = plt.subplots(figsize=(12, 4))\n",
    "ax.tick_params(axis='x', rotation=90)\n",
    "sns.stripplot(x='year_month', y='sales', ax=ax, data=df_plot)"
   ]
  },
  {
   "cell_type": "markdown",
   "id": "c27e566c",
   "metadata": {
    "papermill": {
     "duration": 0.020324,
     "end_time": "2024-01-22T22:43:09.301937",
     "exception": false,
     "start_time": "2024-01-22T22:43:09.281613",
     "status": "completed"
    },
    "tags": []
   },
   "source": [
    "We indeed see a huge spike in April and May 2016. There also seems to be an unexpected spike in October 2016. Let's look at the 2016 sales week-by-week."
   ]
  },
  {
   "cell_type": "code",
   "execution_count": 23,
   "id": "317945d4",
   "metadata": {
    "execution": {
     "iopub.execute_input": "2024-01-22T22:43:09.346189Z",
     "iopub.status.busy": "2024-01-22T22:43:09.345131Z",
     "iopub.status.idle": "2024-01-22T22:43:38.196098Z",
     "shell.execute_reply": "2024-01-22T22:43:38.194926Z"
    },
    "papermill": {
     "duration": 28.876378,
     "end_time": "2024-01-22T22:43:38.199124",
     "exception": false,
     "start_time": "2024-01-22T22:43:09.322746",
     "status": "completed"
    },
    "tags": []
   },
   "outputs": [
    {
     "name": "stderr",
     "output_type": "stream",
     "text": [
      "/tmp/ipykernel_18/530336439.py:2: SettingWithCopyWarning: \n",
      "A value is trying to be set on a copy of a slice from a DataFrame.\n",
      "Try using .loc[row_indexer,col_indexer] = value instead\n",
      "\n",
      "See the caveats in the documentation: https://pandas.pydata.org/pandas-docs/stable/user_guide/indexing.html#returning-a-view-versus-a-copy\n",
      "  df_plot['year_week'] = df_plot['date'].dt.to_period('W')\n"
     ]
    },
    {
     "data": {
      "text/plain": [
       "<Axes: xlabel='year_week', ylabel='sales'>"
      ]
     },
     "execution_count": 23,
     "metadata": {},
     "output_type": "execute_result"
    },
    {
     "data": {
      "image/png": "[encoded data removed]",
      "text/plain": [
       "<Figure size 1200x400 with 1 Axes>"
      ]
     },
     "metadata": {},
     "output_type": "display_data"
    }
   ],
   "source": [
    "df_plot = df_train.loc[df_train.date.dt.year == 2016]\n",
    "df_plot['year_week'] = df_plot['date'].dt.to_period('W')\n",
    "fig, ax = plt.subplots(figsize=(12, 4))\n",
    "ax.tick_params(axis='x', rotation=90)\n",
    "sns.stripplot(x='year_week', y='sales', ax=ax, data=df_plot)"
   ]
  },
  {
   "cell_type": "markdown",
   "id": "8b92c985",
   "metadata": {
    "papermill": {
     "duration": 0.02222,
     "end_time": "2024-01-22T22:43:38.244561",
     "exception": false,
     "start_time": "2024-01-22T22:43:38.222341",
     "status": "completed"
    },
    "tags": []
   },
   "source": [
    "Since we don't expect another earthquake, we should get rid of these weeks of data from our dataset. We should also drop the anomalous week in October 2016."
   ]
  },
  {
   "cell_type": "code",
   "execution_count": 24,
   "id": "7704f069",
   "metadata": {
    "execution": {
     "iopub.execute_input": "2024-01-22T22:43:38.296729Z",
     "iopub.status.busy": "2024-01-22T22:43:38.296306Z",
     "iopub.status.idle": "2024-01-22T22:43:38.941896Z",
     "shell.execute_reply": "2024-01-22T22:43:38.940801Z"
    },
    "papermill": {
     "duration": 0.675861,
     "end_time": "2024-01-22T22:43:38.944510",
     "exception": false,
     "start_time": "2024-01-22T22:43:38.268649",
     "status": "completed"
    },
    "tags": []
   },
   "outputs": [],
   "source": [
    "X = df_train.copy()\n",
    "X = X.drop(X.loc[X.date.between('2016-04-16', '2016-05-13')].index)\n",
    "X = X.drop(X.loc[X.date.between('2016-10-03', '2016-10-09')].index)\n",
    "y = X.pop('sales')"
   ]
  },
  {
   "cell_type": "markdown",
   "id": "012d577f",
   "metadata": {
    "papermill": {
     "duration": 0.022408,
     "end_time": "2024-01-22T22:43:38.989843",
     "exception": false,
     "start_time": "2024-01-22T22:43:38.967435",
     "status": "completed"
    },
    "tags": []
   },
   "source": [
    "Let's see how this affects our model's performance."
   ]
  },
  {
   "cell_type": "code",
   "execution_count": 25,
   "id": "a947051a",
   "metadata": {
    "execution": {
     "iopub.execute_input": "2024-01-22T22:43:39.037717Z",
     "iopub.status.busy": "2024-01-22T22:43:39.037295Z",
     "iopub.status.idle": "2024-01-22T22:52:10.491873Z",
     "shell.execute_reply": "2024-01-22T22:52:10.490668Z"
    },
    "papermill": {
     "duration": 511.505349,
     "end_time": "2024-01-22T22:52:10.518309",
     "exception": false,
     "start_time": "2024-01-22T22:43:39.012960",
     "status": "completed"
    },
    "tags": []
   },
   "outputs": [
    {
     "name": "stdout",
     "output_type": "stream",
     "text": [
      "Accuracy of new model on training data: 0.9869745997728832\n",
      "Accuracy of new model on testing data: 0.8913164847337883\n",
      "RMSLE: 0.5791904299178593\n",
      "Better RMSLE: True\n"
     ]
    }
   ],
   "source": [
    "date_enc = LabelEncoder()\n",
    "X.date = date_enc.fit_transform(X.date)\n",
    "X_encode = X.sample(frac=0.03, random_state=23)\n",
    "y_encode = y[X_encode.index]\n",
    "X_pretrain = X.drop(X_encode.index)\n",
    "y_pretrain = y[X_pretrain.index]\n",
    "encoder = MEstimateEncoder(cols=['family'], m=10.0)\n",
    "encoder.fit(X_encode, y_encode)\n",
    "X_pretrain = encoder.transform(X_pretrain)\n",
    "\n",
    "X_pretrain['sales_last_week'] = y_pretrain.shift(33*54*7)\n",
    "X_pretrain.dropna(inplace=True)\n",
    "y_pretrain = y_pretrain[X_pretrain.index]\n",
    "\n",
    "X_train, X_test, y_train, y_test = train_test_split(X_pretrain, y_pretrain, test_size=33*54*7*15, shuffle=False)\n",
    "\n",
    "reg_model = RandomForestRegressor(n_jobs=8, random_state=23)\n",
    "reg_model.fit(X_train, y_train)\n",
    "\n",
    "predictions = reg_model.predict(X_test.iloc[:33*54*7])\n",
    "for i in range(1,15):\n",
    "    X_test.iloc[33*54*7*i : 33*54*7*(i+1), -1] = pd.Series(predictions[33*54*7*(i-1):33*54*7*i], index=X_test.iloc[33*54*7*i : 33*54*7*(i+1), -1].index)\n",
    "    predictions = np.concatenate((predictions, reg_model.predict(X_test.iloc[33*54*7*i : 33*54*7*(i+1)])))\n",
    "\n",
    "train_acc = reg_model.score(X_train, y_train)\n",
    "test_acc = r2_score(y_test, predictions)\n",
    "rmsle_score = rmsle(y_test.values, predictions)\n",
    "previous_rmsle = 0.5922595096068964\n",
    "\n",
    "print(f'Accuracy of new model on training data: {train_acc}')\n",
    "print(f'Accuracy of new model on testing data: {test_acc}')\n",
    "print(f'RMSLE: {rmsle_score}')\n",
    "print(f'Better RMSLE: {rmsle_score < previous_rmsle}')"
   ]
  },
  {
   "cell_type": "markdown",
   "id": "57239fc8",
   "metadata": {
    "papermill": {
     "duration": 0.023999,
     "end_time": "2024-01-22T22:52:10.565020",
     "exception": false,
     "start_time": "2024-01-22T22:52:10.541021",
     "status": "completed"
    },
    "tags": []
   },
   "source": [
    "Hooray! The RMSLE has improved."
   ]
  },
  {
   "cell_type": "markdown",
   "id": "90202a2d",
   "metadata": {
    "papermill": {
     "duration": 0.022279,
     "end_time": "2024-01-22T22:52:10.610080",
     "exception": false,
     "start_time": "2024-01-22T22:52:10.587801",
     "status": "completed"
    },
    "tags": []
   },
   "source": [
    "## 5. Final predictions\n",
    "\n",
    "We now do some final hyperparameter tuning, train our model on the whole dataset `df_train`, and generate predictions for `df_test`."
   ]
  },
  {
   "cell_type": "markdown",
   "id": "1ca493dd",
   "metadata": {
    "papermill": {
     "duration": 0.025232,
     "end_time": "2024-01-22T22:52:10.657940",
     "exception": false,
     "start_time": "2024-01-22T22:52:10.632708",
     "status": "completed"
    },
    "tags": []
   },
   "source": [
    "## (6. Adding more features)\n",
    "\n",
    "We will address this in a later version."
   ]
  },
  {
   "cell_type": "markdown",
   "id": "8c904915",
   "metadata": {
    "papermill": {
     "duration": 0.0221,
     "end_time": "2024-01-22T22:52:10.703005",
     "exception": false,
     "start_time": "2024-01-22T22:52:10.680905",
     "status": "completed"
    },
    "tags": []
   },
   "source": [
    "## (7. Principal component analysis)\n",
    "\n",
    "We will address this in a later version."
   ]
  }
 ],
 "metadata": {
  "kaggle": {
   "accelerator": "none",
   "dataSources": [
    {
     "datasetId": 4326740,
     "sourceId": 7434714,
     "sourceType": "datasetVersion"
    }
   ],
   "dockerImageVersionId": 30635,
   "isGpuEnabled": false,
   "isInternetEnabled": true,
   "language": "python",
   "sourceType": "notebook"
  },
  "kernelspec": {
   "display_name": "Python 3",
   "language": "python",
   "name": "python3"
  },
  "language_info": {
   "codemirror_mode": {
    "name": "ipython",
    "version": 3
   },
   "file_extension": ".py",
   "mimetype": "text/x-python",
   "name": "python",
   "nbconvert_exporter": "python",
   "pygments_lexer": "ipython3",
   "version": "3.10.12"
  },
  "papermill": {
   "default_parameters": {},
   "duration": 3810.539455,
   "end_time": "2024-01-22T22:52:12.764686",
   "environment_variables": {},
   "exception": null,
   "input_path": "__notebook__.ipynb",
   "output_path": "__notebook__.ipynb",
   "parameters": {},
   "start_time": "2024-01-22T21:48:42.225231",
   "version": "2.4.0"
  }
 },
 "nbformat": 4,
 "nbformat_minor": 5
}
