{
 "cells": [
  {
   "cell_type": "markdown",
   "id": "f4af3e38",
   "metadata": {
    "papermill": {
     "duration": 0.019707,
     "end_time": "2024-01-23T14:08:43.453007",
     "exception": false,
     "start_time": "2024-01-23T14:08:43.433300",
     "status": "completed"
    },
    "tags": []
   },
   "source": [
    "# Favorita sales forecasting\n",
    "\n",
    "We will forecast the next seven days of sales at Ecuador's Favorita grocery stores, across a range of products.\n",
    "\n",
    "Run the cell below to load the necessary modules, set defaults, and load the data."
   ]
  },
  {
   "cell_type": "code",
   "execution_count": 1,
   "id": "a1bcb333",
   "metadata": {
    "_cell_guid": "b1076dfc-b9ad-4769-8c92-a6c4dae69d19",
    "_uuid": "8f2839f25d086af736a60e9eeb907d3b93b6e0e5",
    "execution": {
     "iopub.execute_input": "2024-01-23T14:08:43.496438Z",
     "iopub.status.busy": "2024-01-23T14:08:43.495824Z",
     "iopub.status.idle": "2024-01-23T14:08:51.687172Z",
     "shell.execute_reply": "2024-01-23T14:08:51.685617Z"
    },
    "papermill": {
     "duration": 8.217079,
     "end_time": "2024-01-23T14:08:51.690147",
     "exception": false,
     "start_time": "2024-01-23T14:08:43.473068",
     "status": "completed"
    },
    "tags": []
   },
   "outputs": [],
   "source": [
    "import numpy as np \n",
    "import pandas as pd \n",
    "import matplotlib.pyplot as plt\n",
    "import seaborn as sns\n",
    "from sklearn.ensemble import RandomForestRegressor\n",
    "from sklearn.metrics import make_scorer, r2_score\n",
    "from sklearn.model_selection import train_test_split\n",
    "from sklearn.preprocessing import LabelEncoder\n",
    "from sklearn.linear_model import LinearRegression\n",
    "from statsmodels.graphics.tsaplots import plot_acf\n",
    "from category_encoders import MEstimateEncoder\n",
    "\n",
    "def rmsle(y_true: list, y_pred: list) -> float:\n",
    "    return np.sqrt(np.mean(np.square(np.log1p(y_pred) - np.log1p(y_true))))\n",
    "\n",
    "rmsle_score = make_scorer(rmsle, greater_is_better=False)\n",
    "\n",
    "# Set Matplotlib defaults\n",
    "sns.set_style(\"darkgrid\")\n",
    "plt.rc(\"figure\", autolayout=True)\n",
    "plt.rc(\n",
    "    \"axes\",\n",
    "    labelweight=\"bold\",\n",
    "    labelsize=\"large\",\n",
    "    titleweight=\"bold\",\n",
    "    titlesize=14,\n",
    "    titlepad=10,\n",
    ")\n",
    "\n",
    "# Load data\n",
    "df_train = pd.read_csv(\"../input/favorita-store-sales/train.csv\")\n",
    "df_test = pd.read_csv(\"../input/favorita-store-sales/test.csv\")\n",
    "df_stores = pd.read_csv(\"../input/favorita-store-sales/stores.csv\")\n",
    "df_oil = pd.read_csv(\"../input/favorita-store-sales/oil.csv\")\n",
    "df_holidays = pd.read_csv(\"../input/favorita-store-sales/holidays_events.csv\")\n",
    "df_transactions = pd.read_csv(\"../input/favorita-store-sales/transactions.csv\")"
   ]
  },
  {
   "cell_type": "markdown",
   "id": "ed990809",
   "metadata": {
    "papermill": {
     "duration": 0.018244,
     "end_time": "2024-01-23T14:08:51.726322",
     "exception": false,
     "start_time": "2024-01-23T14:08:51.708078",
     "status": "completed"
    },
    "tags": []
   },
   "source": [
    "Notice that we have six different datasets to work with! \n",
    "- The provided training set and testing set `df_train` and `df_test` will be our bread and butter, but we also have much more information we can incorporate to improve the accuracy of our predictions. \n",
    "- The dataset `df_stores` provides information about the location and type of each store, which could allow us to identify trends based on geographic location.\n",
    "- The dataset `df_oil` contains the daily oil price, which is known to have a big influence on Ecuador's economy.\n",
    "- The dataset `df_holidays` contains information on important holidays and events in Ecuador, which could help explain anomalous days on which sales spike or drop.\n",
    "- The dataset `df_transactions` contains the number of transactions that each store makes on a given day, which for example could be used in tandem with the sales figures to determine average spend per sale.\n",
    "\n",
    "Finally, we have two other pieces of data not contained in our datasets: \n",
    "\n",
    "- Wages in the public sector are paid every two weeks on the 15 th and on the last day of the month. Supermarket sales could be affected by this.\n",
    "- A magnitude 7.8 earthquake struck Ecuador on April 16, 2016. People rallied in relief efforts donating water and other first need products which greatly affected supermarket sales for several weeks after the earthquake.\n",
    "\n",
    "We will need to take all of this into account, but we will start by creating a baseline model and using it with `df_train` and `df_test`.\n",
    "\n",
    "Let's take a look at the `df_train` dataset."
   ]
  },
  {
   "cell_type": "code",
   "execution_count": 2,
   "id": "63d1c78f",
   "metadata": {
    "execution": {
     "iopub.execute_input": "2024-01-23T14:08:51.765051Z",
     "iopub.status.busy": "2024-01-23T14:08:51.764632Z",
     "iopub.status.idle": "2024-01-23T14:08:51.801257Z",
     "shell.execute_reply": "2024-01-23T14:08:51.799938Z"
    },
    "papermill": {
     "duration": 0.059273,
     "end_time": "2024-01-23T14:08:51.803953",
     "exception": false,
     "start_time": "2024-01-23T14:08:51.744680",
     "status": "completed"
    },
    "tags": []
   },
   "outputs": [
    {
     "data": {
      "text/html": [
       "<div>\n",
       "<style scoped>\n",
       "    .dataframe tbody tr th:only-of-type {\n",
       "        vertical-align: middle;\n",
       "    }\n",
       "\n",
       "    .dataframe tbody tr th {\n",
       "        vertical-align: top;\n",
       "    }\n",
       "\n",
       "    .dataframe thead th {\n",
       "        text-align: right;\n",
       "    }\n",
       "</style>\n",
       "<table border=\"1\" class=\"dataframe\">\n",
       "  <thead>\n",
       "    <tr style=\"text-align: right;\">\n",
       "      <th></th>\n",
       "      <th>id</th>\n",
       "      <th>date</th>\n",
       "      <th>store_nbr</th>\n",
       "      <th>family</th>\n",
       "      <th>sales</th>\n",
       "      <th>onpromotion</th>\n",
       "    </tr>\n",
       "  </thead>\n",
       "  <tbody>\n",
       "    <tr>\n",
       "      <th>0</th>\n",
       "      <td>0</td>\n",
       "      <td>2013-01-01</td>\n",
       "      <td>1</td>\n",
       "      <td>AUTOMOTIVE</td>\n",
       "      <td>0.0</td>\n",
       "      <td>0</td>\n",
       "    </tr>\n",
       "    <tr>\n",
       "      <th>1</th>\n",
       "      <td>1</td>\n",
       "      <td>2013-01-01</td>\n",
       "      <td>1</td>\n",
       "      <td>BABY CARE</td>\n",
       "      <td>0.0</td>\n",
       "      <td>0</td>\n",
       "    </tr>\n",
       "    <tr>\n",
       "      <th>2</th>\n",
       "      <td>2</td>\n",
       "      <td>2013-01-01</td>\n",
       "      <td>1</td>\n",
       "      <td>BEAUTY</td>\n",
       "      <td>0.0</td>\n",
       "      <td>0</td>\n",
       "    </tr>\n",
       "    <tr>\n",
       "      <th>3</th>\n",
       "      <td>3</td>\n",
       "      <td>2013-01-01</td>\n",
       "      <td>1</td>\n",
       "      <td>BEVERAGES</td>\n",
       "      <td>0.0</td>\n",
       "      <td>0</td>\n",
       "    </tr>\n",
       "    <tr>\n",
       "      <th>4</th>\n",
       "      <td>4</td>\n",
       "      <td>2013-01-01</td>\n",
       "      <td>1</td>\n",
       "      <td>BOOKS</td>\n",
       "      <td>0.0</td>\n",
       "      <td>0</td>\n",
       "    </tr>\n",
       "    <tr>\n",
       "      <th>5</th>\n",
       "      <td>5</td>\n",
       "      <td>2013-01-01</td>\n",
       "      <td>1</td>\n",
       "      <td>BREAD/BAKERY</td>\n",
       "      <td>0.0</td>\n",
       "      <td>0</td>\n",
       "    </tr>\n",
       "    <tr>\n",
       "      <th>6</th>\n",
       "      <td>6</td>\n",
       "      <td>2013-01-01</td>\n",
       "      <td>1</td>\n",
       "      <td>CELEBRATION</td>\n",
       "      <td>0.0</td>\n",
       "      <td>0</td>\n",
       "    </tr>\n",
       "    <tr>\n",
       "      <th>7</th>\n",
       "      <td>7</td>\n",
       "      <td>2013-01-01</td>\n",
       "      <td>1</td>\n",
       "      <td>CLEANING</td>\n",
       "      <td>0.0</td>\n",
       "      <td>0</td>\n",
       "    </tr>\n",
       "    <tr>\n",
       "      <th>8</th>\n",
       "      <td>8</td>\n",
       "      <td>2013-01-01</td>\n",
       "      <td>1</td>\n",
       "      <td>DAIRY</td>\n",
       "      <td>0.0</td>\n",
       "      <td>0</td>\n",
       "    </tr>\n",
       "    <tr>\n",
       "      <th>9</th>\n",
       "      <td>9</td>\n",
       "      <td>2013-01-01</td>\n",
       "      <td>1</td>\n",
       "      <td>DELI</td>\n",
       "      <td>0.0</td>\n",
       "      <td>0</td>\n",
       "    </tr>\n",
       "    <tr>\n",
       "      <th>10</th>\n",
       "      <td>10</td>\n",
       "      <td>2013-01-01</td>\n",
       "      <td>1</td>\n",
       "      <td>EGGS</td>\n",
       "      <td>0.0</td>\n",
       "      <td>0</td>\n",
       "    </tr>\n",
       "    <tr>\n",
       "      <th>11</th>\n",
       "      <td>11</td>\n",
       "      <td>2013-01-01</td>\n",
       "      <td>1</td>\n",
       "      <td>FROZEN FOODS</td>\n",
       "      <td>0.0</td>\n",
       "      <td>0</td>\n",
       "    </tr>\n",
       "    <tr>\n",
       "      <th>12</th>\n",
       "      <td>12</td>\n",
       "      <td>2013-01-01</td>\n",
       "      <td>1</td>\n",
       "      <td>GROCERY I</td>\n",
       "      <td>0.0</td>\n",
       "      <td>0</td>\n",
       "    </tr>\n",
       "    <tr>\n",
       "      <th>13</th>\n",
       "      <td>13</td>\n",
       "      <td>2013-01-01</td>\n",
       "      <td>1</td>\n",
       "      <td>GROCERY II</td>\n",
       "      <td>0.0</td>\n",
       "      <td>0</td>\n",
       "    </tr>\n",
       "    <tr>\n",
       "      <th>14</th>\n",
       "      <td>14</td>\n",
       "      <td>2013-01-01</td>\n",
       "      <td>1</td>\n",
       "      <td>HARDWARE</td>\n",
       "      <td>0.0</td>\n",
       "      <td>0</td>\n",
       "    </tr>\n",
       "    <tr>\n",
       "      <th>15</th>\n",
       "      <td>15</td>\n",
       "      <td>2013-01-01</td>\n",
       "      <td>1</td>\n",
       "      <td>HOME AND KITCHEN I</td>\n",
       "      <td>0.0</td>\n",
       "      <td>0</td>\n",
       "    </tr>\n",
       "    <tr>\n",
       "      <th>16</th>\n",
       "      <td>16</td>\n",
       "      <td>2013-01-01</td>\n",
       "      <td>1</td>\n",
       "      <td>HOME AND KITCHEN II</td>\n",
       "      <td>0.0</td>\n",
       "      <td>0</td>\n",
       "    </tr>\n",
       "    <tr>\n",
       "      <th>17</th>\n",
       "      <td>17</td>\n",
       "      <td>2013-01-01</td>\n",
       "      <td>1</td>\n",
       "      <td>HOME APPLIANCES</td>\n",
       "      <td>0.0</td>\n",
       "      <td>0</td>\n",
       "    </tr>\n",
       "    <tr>\n",
       "      <th>18</th>\n",
       "      <td>18</td>\n",
       "      <td>2013-01-01</td>\n",
       "      <td>1</td>\n",
       "      <td>HOME CARE</td>\n",
       "      <td>0.0</td>\n",
       "      <td>0</td>\n",
       "    </tr>\n",
       "    <tr>\n",
       "      <th>19</th>\n",
       "      <td>19</td>\n",
       "      <td>2013-01-01</td>\n",
       "      <td>1</td>\n",
       "      <td>LADIESWEAR</td>\n",
       "      <td>0.0</td>\n",
       "      <td>0</td>\n",
       "    </tr>\n",
       "  </tbody>\n",
       "</table>\n",
       "</div>"
      ],
      "text/plain": [
       "    id        date  store_nbr               family  sales  onpromotion\n",
       "0    0  2013-01-01          1           AUTOMOTIVE    0.0            0\n",
       "1    1  2013-01-01          1            BABY CARE    0.0            0\n",
       "2    2  2013-01-01          1               BEAUTY    0.0            0\n",
       "3    3  2013-01-01          1            BEVERAGES    0.0            0\n",
       "4    4  2013-01-01          1                BOOKS    0.0            0\n",
       "5    5  2013-01-01          1         BREAD/BAKERY    0.0            0\n",
       "6    6  2013-01-01          1          CELEBRATION    0.0            0\n",
       "7    7  2013-01-01          1             CLEANING    0.0            0\n",
       "8    8  2013-01-01          1                DAIRY    0.0            0\n",
       "9    9  2013-01-01          1                 DELI    0.0            0\n",
       "10  10  2013-01-01          1                 EGGS    0.0            0\n",
       "11  11  2013-01-01          1         FROZEN FOODS    0.0            0\n",
       "12  12  2013-01-01          1            GROCERY I    0.0            0\n",
       "13  13  2013-01-01          1           GROCERY II    0.0            0\n",
       "14  14  2013-01-01          1             HARDWARE    0.0            0\n",
       "15  15  2013-01-01          1   HOME AND KITCHEN I    0.0            0\n",
       "16  16  2013-01-01          1  HOME AND KITCHEN II    0.0            0\n",
       "17  17  2013-01-01          1      HOME APPLIANCES    0.0            0\n",
       "18  18  2013-01-01          1            HOME CARE    0.0            0\n",
       "19  19  2013-01-01          1           LADIESWEAR    0.0            0"
      ]
     },
     "execution_count": 2,
     "metadata": {},
     "output_type": "execute_result"
    }
   ],
   "source": [
    "df_train.head(20)"
   ]
  },
  {
   "cell_type": "markdown",
   "id": "57f97225",
   "metadata": {
    "papermill": {
     "duration": 0.018586,
     "end_time": "2024-01-23T14:08:51.842341",
     "exception": false,
     "start_time": "2024-01-23T14:08:51.823755",
     "status": "completed"
    },
    "tags": []
   },
   "source": [
    "The first 20 items all have zero sales and none are on promotion. This seems a little odd at first, but there could be a couple of reasons for this. First of all, it is 1st January, so the store may be closed. Let's try a different date."
   ]
  },
  {
   "cell_type": "code",
   "execution_count": 3,
   "id": "7f20a3a2",
   "metadata": {
    "execution": {
     "iopub.execute_input": "2024-01-23T14:08:51.884611Z",
     "iopub.status.busy": "2024-01-23T14:08:51.884132Z",
     "iopub.status.idle": "2024-01-23T14:08:52.479269Z",
     "shell.execute_reply": "2024-01-23T14:08:52.477941Z"
    },
    "papermill": {
     "duration": 0.620346,
     "end_time": "2024-01-23T14:08:52.482666",
     "exception": false,
     "start_time": "2024-01-23T14:08:51.862320",
     "status": "completed"
    },
    "tags": []
   },
   "outputs": [
    {
     "data": {
      "text/html": [
       "<div>\n",
       "<style scoped>\n",
       "    .dataframe tbody tr th:only-of-type {\n",
       "        vertical-align: middle;\n",
       "    }\n",
       "\n",
       "    .dataframe tbody tr th {\n",
       "        vertical-align: top;\n",
       "    }\n",
       "\n",
       "    .dataframe thead th {\n",
       "        text-align: right;\n",
       "    }\n",
       "</style>\n",
       "<table border=\"1\" class=\"dataframe\">\n",
       "  <thead>\n",
       "    <tr style=\"text-align: right;\">\n",
       "      <th></th>\n",
       "      <th>id</th>\n",
       "      <th>date</th>\n",
       "      <th>store_nbr</th>\n",
       "      <th>family</th>\n",
       "      <th>sales</th>\n",
       "      <th>onpromotion</th>\n",
       "    </tr>\n",
       "  </thead>\n",
       "  <tbody>\n",
       "    <tr>\n",
       "      <th>3564</th>\n",
       "      <td>3564</td>\n",
       "      <td>2013-01-03</td>\n",
       "      <td>1</td>\n",
       "      <td>AUTOMOTIVE</td>\n",
       "      <td>3.000</td>\n",
       "      <td>0</td>\n",
       "    </tr>\n",
       "    <tr>\n",
       "      <th>3565</th>\n",
       "      <td>3565</td>\n",
       "      <td>2013-01-03</td>\n",
       "      <td>1</td>\n",
       "      <td>BABY CARE</td>\n",
       "      <td>0.000</td>\n",
       "      <td>0</td>\n",
       "    </tr>\n",
       "    <tr>\n",
       "      <th>3566</th>\n",
       "      <td>3566</td>\n",
       "      <td>2013-01-03</td>\n",
       "      <td>1</td>\n",
       "      <td>BEAUTY</td>\n",
       "      <td>0.000</td>\n",
       "      <td>0</td>\n",
       "    </tr>\n",
       "    <tr>\n",
       "      <th>3567</th>\n",
       "      <td>3567</td>\n",
       "      <td>2013-01-03</td>\n",
       "      <td>1</td>\n",
       "      <td>BEVERAGES</td>\n",
       "      <td>919.000</td>\n",
       "      <td>0</td>\n",
       "    </tr>\n",
       "    <tr>\n",
       "      <th>3568</th>\n",
       "      <td>3568</td>\n",
       "      <td>2013-01-03</td>\n",
       "      <td>1</td>\n",
       "      <td>BOOKS</td>\n",
       "      <td>0.000</td>\n",
       "      <td>0</td>\n",
       "    </tr>\n",
       "    <tr>\n",
       "      <th>...</th>\n",
       "      <td>...</td>\n",
       "      <td>...</td>\n",
       "      <td>...</td>\n",
       "      <td>...</td>\n",
       "      <td>...</td>\n",
       "      <td>...</td>\n",
       "    </tr>\n",
       "    <tr>\n",
       "      <th>5341</th>\n",
       "      <td>5341</td>\n",
       "      <td>2013-01-03</td>\n",
       "      <td>9</td>\n",
       "      <td>POULTRY</td>\n",
       "      <td>509.496</td>\n",
       "      <td>0</td>\n",
       "    </tr>\n",
       "    <tr>\n",
       "      <th>5342</th>\n",
       "      <td>5342</td>\n",
       "      <td>2013-01-03</td>\n",
       "      <td>9</td>\n",
       "      <td>PREPARED FOODS</td>\n",
       "      <td>66.000</td>\n",
       "      <td>0</td>\n",
       "    </tr>\n",
       "    <tr>\n",
       "      <th>5343</th>\n",
       "      <td>5343</td>\n",
       "      <td>2013-01-03</td>\n",
       "      <td>9</td>\n",
       "      <td>PRODUCE</td>\n",
       "      <td>0.000</td>\n",
       "      <td>0</td>\n",
       "    </tr>\n",
       "    <tr>\n",
       "      <th>5344</th>\n",
       "      <td>5344</td>\n",
       "      <td>2013-01-03</td>\n",
       "      <td>9</td>\n",
       "      <td>SCHOOL AND OFFICE SUPPLIES</td>\n",
       "      <td>0.000</td>\n",
       "      <td>0</td>\n",
       "    </tr>\n",
       "    <tr>\n",
       "      <th>5345</th>\n",
       "      <td>5345</td>\n",
       "      <td>2013-01-03</td>\n",
       "      <td>9</td>\n",
       "      <td>SEAFOOD</td>\n",
       "      <td>25.000</td>\n",
       "      <td>0</td>\n",
       "    </tr>\n",
       "  </tbody>\n",
       "</table>\n",
       "<p>1782 rows × 6 columns</p>\n",
       "</div>"
      ],
      "text/plain": [
       "        id        date  store_nbr                      family    sales  \\\n",
       "3564  3564  2013-01-03          1                  AUTOMOTIVE    3.000   \n",
       "3565  3565  2013-01-03          1                   BABY CARE    0.000   \n",
       "3566  3566  2013-01-03          1                      BEAUTY    0.000   \n",
       "3567  3567  2013-01-03          1                   BEVERAGES  919.000   \n",
       "3568  3568  2013-01-03          1                       BOOKS    0.000   \n",
       "...    ...         ...        ...                         ...      ...   \n",
       "5341  5341  2013-01-03          9                     POULTRY  509.496   \n",
       "5342  5342  2013-01-03          9              PREPARED FOODS   66.000   \n",
       "5343  5343  2013-01-03          9                     PRODUCE    0.000   \n",
       "5344  5344  2013-01-03          9  SCHOOL AND OFFICE SUPPLIES    0.000   \n",
       "5345  5345  2013-01-03          9                     SEAFOOD   25.000   \n",
       "\n",
       "      onpromotion  \n",
       "3564            0  \n",
       "3565            0  \n",
       "3566            0  \n",
       "3567            0  \n",
       "3568            0  \n",
       "...           ...  \n",
       "5341            0  \n",
       "5342            0  \n",
       "5343            0  \n",
       "5344            0  \n",
       "5345            0  \n",
       "\n",
       "[1782 rows x 6 columns]"
      ]
     },
     "execution_count": 3,
     "metadata": {},
     "output_type": "execute_result"
    }
   ],
   "source": [
    "df_train.loc[df_train.date == '2013-01-03']"
   ]
  },
  {
   "cell_type": "markdown",
   "id": "b773a056",
   "metadata": {
    "papermill": {
     "duration": 0.021588,
     "end_time": "2024-01-23T14:08:52.525356",
     "exception": false,
     "start_time": "2024-01-23T14:08:52.503768",
     "status": "completed"
    },
    "tags": []
   },
   "source": [
    "This looks more like what one would expect. It's therefore likely that the store was indeed closed. We will address this later, when we incorporate the `df_holidays` dataset. \n",
    "\n",
    "## 1. Data cleaning\n",
    "\n",
    "For now, let's focus on cleaning up `df_train`. Does it have any missing values?"
   ]
  },
  {
   "cell_type": "code",
   "execution_count": 4,
   "id": "94138e02",
   "metadata": {
    "execution": {
     "iopub.execute_input": "2024-01-23T14:08:52.567704Z",
     "iopub.status.busy": "2024-01-23T14:08:52.567267Z",
     "iopub.status.idle": "2024-01-23T14:08:53.212435Z",
     "shell.execute_reply": "2024-01-23T14:08:53.210507Z"
    },
    "papermill": {
     "duration": 0.669506,
     "end_time": "2024-01-23T14:08:53.215632",
     "exception": false,
     "start_time": "2024-01-23T14:08:52.546126",
     "status": "completed"
    },
    "tags": []
   },
   "outputs": [
    {
     "data": {
      "text/plain": [
       "id             0\n",
       "date           0\n",
       "store_nbr      0\n",
       "family         0\n",
       "sales          0\n",
       "onpromotion    0\n",
       "dtype: int64"
      ]
     },
     "execution_count": 4,
     "metadata": {},
     "output_type": "execute_result"
    }
   ],
   "source": [
    "df_train.isnull().sum()"
   ]
  },
  {
   "cell_type": "markdown",
   "id": "7035fda9",
   "metadata": {
    "papermill": {
     "duration": 0.020979,
     "end_time": "2024-01-23T14:08:53.256904",
     "exception": false,
     "start_time": "2024-01-23T14:08:53.235925",
     "status": "completed"
    },
    "tags": []
   },
   "source": [
    "No missing values! Great! Are the data types correct?"
   ]
  },
  {
   "cell_type": "code",
   "execution_count": 5,
   "id": "1b881c2c",
   "metadata": {
    "execution": {
     "iopub.execute_input": "2024-01-23T14:08:53.301568Z",
     "iopub.status.busy": "2024-01-23T14:08:53.301051Z",
     "iopub.status.idle": "2024-01-23T14:08:53.312650Z",
     "shell.execute_reply": "2024-01-23T14:08:53.310852Z"
    },
    "papermill": {
     "duration": 0.036651,
     "end_time": "2024-01-23T14:08:53.315571",
     "exception": false,
     "start_time": "2024-01-23T14:08:53.278920",
     "status": "completed"
    },
    "tags": []
   },
   "outputs": [
    {
     "data": {
      "text/plain": [
       "id               int64\n",
       "date            object\n",
       "store_nbr        int64\n",
       "family          object\n",
       "sales          float64\n",
       "onpromotion      int64\n",
       "dtype: object"
      ]
     },
     "execution_count": 5,
     "metadata": {},
     "output_type": "execute_result"
    }
   ],
   "source": [
    "df_train.dtypes"
   ]
  },
  {
   "cell_type": "markdown",
   "id": "6aa67d73",
   "metadata": {
    "papermill": {
     "duration": 0.021991,
     "end_time": "2024-01-23T14:08:53.440116",
     "exception": false,
     "start_time": "2024-01-23T14:08:53.418125",
     "status": "completed"
    },
    "tags": []
   },
   "source": [
    "Looks like we will need to convert the `date` column into `datetime64` values. Let's do that. "
   ]
  },
  {
   "cell_type": "code",
   "execution_count": 6,
   "id": "f6d862bf",
   "metadata": {
    "execution": {
     "iopub.execute_input": "2024-01-23T14:08:53.481040Z",
     "iopub.status.busy": "2024-01-23T14:08:53.480601Z",
     "iopub.status.idle": "2024-01-23T14:08:54.014585Z",
     "shell.execute_reply": "2024-01-23T14:08:54.013130Z"
    },
    "papermill": {
     "duration": 0.558658,
     "end_time": "2024-01-23T14:08:54.018499",
     "exception": false,
     "start_time": "2024-01-23T14:08:53.459841",
     "status": "completed"
    },
    "tags": []
   },
   "outputs": [
    {
     "data": {
      "text/plain": [
       "id                      int64\n",
       "date           datetime64[ns]\n",
       "store_nbr               int64\n",
       "family                 object\n",
       "sales                 float64\n",
       "onpromotion             int64\n",
       "dtype: object"
      ]
     },
     "execution_count": 6,
     "metadata": {},
     "output_type": "execute_result"
    }
   ],
   "source": [
    "df_train['date'] = pd.to_datetime(df_train['date'], format='%Y-%m-%d')\n",
    "df_train.dtypes"
   ]
  },
  {
   "cell_type": "markdown",
   "id": "bb760488",
   "metadata": {
    "papermill": {
     "duration": 0.019522,
     "end_time": "2024-01-23T14:08:54.057974",
     "exception": false,
     "start_time": "2024-01-23T14:08:54.038452",
     "status": "completed"
    },
    "tags": []
   },
   "source": [
    "The `id` column is not contributing anything (it is simply a copy of the index), so we should get rid of that."
   ]
  },
  {
   "cell_type": "code",
   "execution_count": 7,
   "id": "0f9de032",
   "metadata": {
    "execution": {
     "iopub.execute_input": "2024-01-23T14:08:54.099267Z",
     "iopub.status.busy": "2024-01-23T14:08:54.098801Z",
     "iopub.status.idle": "2024-01-23T14:08:54.208026Z",
     "shell.execute_reply": "2024-01-23T14:08:54.206593Z"
    },
    "papermill": {
     "duration": 0.133237,
     "end_time": "2024-01-23T14:08:54.210982",
     "exception": false,
     "start_time": "2024-01-23T14:08:54.077745",
     "status": "completed"
    },
    "tags": []
   },
   "outputs": [
    {
     "data": {
      "text/html": [
       "<div>\n",
       "<style scoped>\n",
       "    .dataframe tbody tr th:only-of-type {\n",
       "        vertical-align: middle;\n",
       "    }\n",
       "\n",
       "    .dataframe tbody tr th {\n",
       "        vertical-align: top;\n",
       "    }\n",
       "\n",
       "    .dataframe thead th {\n",
       "        text-align: right;\n",
       "    }\n",
       "</style>\n",
       "<table border=\"1\" class=\"dataframe\">\n",
       "  <thead>\n",
       "    <tr style=\"text-align: right;\">\n",
       "      <th></th>\n",
       "      <th>date</th>\n",
       "      <th>store_nbr</th>\n",
       "      <th>family</th>\n",
       "      <th>sales</th>\n",
       "      <th>onpromotion</th>\n",
       "    </tr>\n",
       "  </thead>\n",
       "  <tbody>\n",
       "    <tr>\n",
       "      <th>0</th>\n",
       "      <td>2013-01-01</td>\n",
       "      <td>1</td>\n",
       "      <td>AUTOMOTIVE</td>\n",
       "      <td>0.000</td>\n",
       "      <td>0</td>\n",
       "    </tr>\n",
       "    <tr>\n",
       "      <th>1</th>\n",
       "      <td>2013-01-01</td>\n",
       "      <td>1</td>\n",
       "      <td>BABY CARE</td>\n",
       "      <td>0.000</td>\n",
       "      <td>0</td>\n",
       "    </tr>\n",
       "    <tr>\n",
       "      <th>2</th>\n",
       "      <td>2013-01-01</td>\n",
       "      <td>1</td>\n",
       "      <td>BEAUTY</td>\n",
       "      <td>0.000</td>\n",
       "      <td>0</td>\n",
       "    </tr>\n",
       "    <tr>\n",
       "      <th>3</th>\n",
       "      <td>2013-01-01</td>\n",
       "      <td>1</td>\n",
       "      <td>BEVERAGES</td>\n",
       "      <td>0.000</td>\n",
       "      <td>0</td>\n",
       "    </tr>\n",
       "    <tr>\n",
       "      <th>4</th>\n",
       "      <td>2013-01-01</td>\n",
       "      <td>1</td>\n",
       "      <td>BOOKS</td>\n",
       "      <td>0.000</td>\n",
       "      <td>0</td>\n",
       "    </tr>\n",
       "    <tr>\n",
       "      <th>...</th>\n",
       "      <td>...</td>\n",
       "      <td>...</td>\n",
       "      <td>...</td>\n",
       "      <td>...</td>\n",
       "      <td>...</td>\n",
       "    </tr>\n",
       "    <tr>\n",
       "      <th>3000883</th>\n",
       "      <td>2017-08-15</td>\n",
       "      <td>9</td>\n",
       "      <td>POULTRY</td>\n",
       "      <td>438.133</td>\n",
       "      <td>0</td>\n",
       "    </tr>\n",
       "    <tr>\n",
       "      <th>3000884</th>\n",
       "      <td>2017-08-15</td>\n",
       "      <td>9</td>\n",
       "      <td>PREPARED FOODS</td>\n",
       "      <td>154.553</td>\n",
       "      <td>1</td>\n",
       "    </tr>\n",
       "    <tr>\n",
       "      <th>3000885</th>\n",
       "      <td>2017-08-15</td>\n",
       "      <td>9</td>\n",
       "      <td>PRODUCE</td>\n",
       "      <td>2419.729</td>\n",
       "      <td>148</td>\n",
       "    </tr>\n",
       "    <tr>\n",
       "      <th>3000886</th>\n",
       "      <td>2017-08-15</td>\n",
       "      <td>9</td>\n",
       "      <td>SCHOOL AND OFFICE SUPPLIES</td>\n",
       "      <td>121.000</td>\n",
       "      <td>8</td>\n",
       "    </tr>\n",
       "    <tr>\n",
       "      <th>3000887</th>\n",
       "      <td>2017-08-15</td>\n",
       "      <td>9</td>\n",
       "      <td>SEAFOOD</td>\n",
       "      <td>16.000</td>\n",
       "      <td>0</td>\n",
       "    </tr>\n",
       "  </tbody>\n",
       "</table>\n",
       "<p>3000888 rows × 5 columns</p>\n",
       "</div>"
      ],
      "text/plain": [
       "              date  store_nbr                      family     sales  \\\n",
       "0       2013-01-01          1                  AUTOMOTIVE     0.000   \n",
       "1       2013-01-01          1                   BABY CARE     0.000   \n",
       "2       2013-01-01          1                      BEAUTY     0.000   \n",
       "3       2013-01-01          1                   BEVERAGES     0.000   \n",
       "4       2013-01-01          1                       BOOKS     0.000   \n",
       "...            ...        ...                         ...       ...   \n",
       "3000883 2017-08-15          9                     POULTRY   438.133   \n",
       "3000884 2017-08-15          9              PREPARED FOODS   154.553   \n",
       "3000885 2017-08-15          9                     PRODUCE  2419.729   \n",
       "3000886 2017-08-15          9  SCHOOL AND OFFICE SUPPLIES   121.000   \n",
       "3000887 2017-08-15          9                     SEAFOOD    16.000   \n",
       "\n",
       "         onpromotion  \n",
       "0                  0  \n",
       "1                  0  \n",
       "2                  0  \n",
       "3                  0  \n",
       "4                  0  \n",
       "...              ...  \n",
       "3000883            0  \n",
       "3000884            1  \n",
       "3000885          148  \n",
       "3000886            8  \n",
       "3000887            0  \n",
       "\n",
       "[3000888 rows x 5 columns]"
      ]
     },
     "execution_count": 7,
     "metadata": {},
     "output_type": "execute_result"
    }
   ],
   "source": [
    "df_train = df_train.loc[:,'date':'onpromotion']\n",
    "df_train"
   ]
  },
  {
   "cell_type": "markdown",
   "id": "52b7613b",
   "metadata": {
    "papermill": {
     "duration": 0.021444,
     "end_time": "2024-01-23T14:08:54.255944",
     "exception": false,
     "start_time": "2024-01-23T14:08:54.234500",
     "status": "completed"
    },
    "tags": []
   },
   "source": [
    "Next, let's check that the data entry is consistent for the `family` feature."
   ]
  },
  {
   "cell_type": "code",
   "execution_count": 8,
   "id": "7dc8d912",
   "metadata": {
    "execution": {
     "iopub.execute_input": "2024-01-23T14:08:54.301461Z",
     "iopub.status.busy": "2024-01-23T14:08:54.300975Z",
     "iopub.status.idle": "2024-01-23T14:08:54.590203Z",
     "shell.execute_reply": "2024-01-23T14:08:54.588656Z"
    },
    "papermill": {
     "duration": 0.314706,
     "end_time": "2024-01-23T14:08:54.593114",
     "exception": false,
     "start_time": "2024-01-23T14:08:54.278408",
     "status": "completed"
    },
    "tags": []
   },
   "outputs": [
    {
     "data": {
      "text/plain": [
       "array(['AUTOMOTIVE', 'BABY CARE', 'BEAUTY', 'BEVERAGES', 'BOOKS',\n",
       "       'BREAD/BAKERY', 'CELEBRATION', 'CLEANING', 'DAIRY', 'DELI', 'EGGS',\n",
       "       'FROZEN FOODS', 'GROCERY I', 'GROCERY II', 'HARDWARE',\n",
       "       'HOME AND KITCHEN I', 'HOME AND KITCHEN II', 'HOME APPLIANCES',\n",
       "       'HOME CARE', 'LADIESWEAR', 'LAWN AND GARDEN', 'LINGERIE',\n",
       "       'LIQUOR,WINE,BEER', 'MAGAZINES', 'MEATS', 'PERSONAL CARE',\n",
       "       'PET SUPPLIES', 'PLAYERS AND ELECTRONICS', 'POULTRY',\n",
       "       'PREPARED FOODS', 'PRODUCE', 'SCHOOL AND OFFICE SUPPLIES',\n",
       "       'SEAFOOD'], dtype=object)"
      ]
     },
     "execution_count": 8,
     "metadata": {},
     "output_type": "execute_result"
    }
   ],
   "source": [
    "df_train.family.unique()"
   ]
  },
  {
   "cell_type": "markdown",
   "id": "04e31d06",
   "metadata": {
    "papermill": {
     "duration": 0.022065,
     "end_time": "2024-01-23T14:08:54.636829",
     "exception": false,
     "start_time": "2024-01-23T14:08:54.614764",
     "status": "completed"
    },
    "tags": []
   },
   "source": [
    "There are no obvious issues here; great! We also need to consider whether we need to scale/normalise our data. But our only numeric feature for now is `onpromotion`, so this does not seem necessary. We may need to come back to that once we add the features from the other datasets."
   ]
  },
  {
   "cell_type": "markdown",
   "id": "cd022a94",
   "metadata": {
    "papermill": {
     "duration": 0.020528,
     "end_time": "2024-01-23T14:08:54.678855",
     "exception": false,
     "start_time": "2024-01-23T14:08:54.658327",
     "status": "completed"
    },
    "tags": []
   },
   "source": [
    "## 2. Baseline model\n",
    "\n",
    "We can use linear regression as a simple baseline model to compare our results against. But first, we need to encode our categorical features so they have numeric values. Since this is our baseline model, let's keep things simple by using a basic Label Encoder."
   ]
  },
  {
   "cell_type": "code",
   "execution_count": 9,
   "id": "d3662803",
   "metadata": {
    "execution": {
     "iopub.execute_input": "2024-01-23T14:08:54.722441Z",
     "iopub.status.busy": "2024-01-23T14:08:54.721933Z",
     "iopub.status.idle": "2024-01-23T14:08:55.963961Z",
     "shell.execute_reply": "2024-01-23T14:08:55.962638Z"
    },
    "papermill": {
     "duration": 1.267439,
     "end_time": "2024-01-23T14:08:55.967021",
     "exception": false,
     "start_time": "2024-01-23T14:08:54.699582",
     "status": "completed"
    },
    "tags": []
   },
   "outputs": [],
   "source": [
    "X = df_train.copy()\n",
    "y = X.pop('sales')\n",
    "\n",
    "date_enc = LabelEncoder()\n",
    "family_enc = LabelEncoder()\n",
    "X.date = date_enc.fit_transform(X.date)\n",
    "X.family = family_enc.fit_transform(X.family)"
   ]
  },
  {
   "cell_type": "markdown",
   "id": "d6651059",
   "metadata": {
    "papermill": {
     "duration": 0.020162,
     "end_time": "2024-01-23T14:08:56.010501",
     "exception": false,
     "start_time": "2024-01-23T14:08:55.990339",
     "status": "completed"
    },
    "tags": []
   },
   "source": [
    "Note that even though we have two datasets `df_train` and `df_test`, this is not a true train-test split, since `df_test` does not contain a `sales` column. This means that we cannot use `df_test` for testing; instead, we will need to split `df_train` into a training set and a testing set and test on that. Once we have a model that gives a low RMSLE on this, we can then train on the entirety of `df_train` and predict the `sales` values of `df_test`.\n",
    "\n",
    "Since our dataset `df_train` has over 3 million rows, a test size of 20% should be plenty."
   ]
  },
  {
   "cell_type": "code",
   "execution_count": 10,
   "id": "4df989aa",
   "metadata": {
    "execution": {
     "iopub.execute_input": "2024-01-23T14:08:56.052453Z",
     "iopub.status.busy": "2024-01-23T14:08:56.052034Z",
     "iopub.status.idle": "2024-01-23T14:08:56.813531Z",
     "shell.execute_reply": "2024-01-23T14:08:56.811795Z"
    },
    "papermill": {
     "duration": 0.786362,
     "end_time": "2024-01-23T14:08:56.816720",
     "exception": false,
     "start_time": "2024-01-23T14:08:56.030358",
     "status": "completed"
    },
    "tags": []
   },
   "outputs": [],
   "source": [
    "X_train, X_test, y_train, y_test = train_test_split(X, y, test_size=0.2, random_state=23)"
   ]
  },
  {
   "cell_type": "markdown",
   "id": "c9bf72f8",
   "metadata": {
    "papermill": {
     "duration": 0.022462,
     "end_time": "2024-01-23T14:08:56.859970",
     "exception": false,
     "start_time": "2024-01-23T14:08:56.837508",
     "status": "completed"
    },
    "tags": []
   },
   "source": [
    "We are now ready to fit our linear regression model!"
   ]
  },
  {
   "cell_type": "code",
   "execution_count": 11,
   "id": "5d7df3eb",
   "metadata": {
    "execution": {
     "iopub.execute_input": "2024-01-23T14:08:56.903387Z",
     "iopub.status.busy": "2024-01-23T14:08:56.902938Z",
     "iopub.status.idle": "2024-01-23T14:08:58.037764Z",
     "shell.execute_reply": "2024-01-23T14:08:58.036039Z"
    },
    "papermill": {
     "duration": 1.162729,
     "end_time": "2024-01-23T14:08:58.042458",
     "exception": false,
     "start_time": "2024-01-23T14:08:56.879729",
     "status": "completed"
    },
    "tags": []
   },
   "outputs": [
    {
     "name": "stdout",
     "output_type": "stream",
     "text": [
      "Accuracy of model on training data: 0.19387053539165477\n",
      "Accuracy of model on testing data: 0.1920690456186942\n",
      "RMSLE: 3.686436134651758\n"
     ]
    }
   ],
   "source": [
    "reg_model = LinearRegression()\n",
    "reg_model.fit(X_train, y_train)\n",
    "predictions = reg_model.predict(X_test)\n",
    "\n",
    "print(f'Accuracy of model on training data: {reg_model.score(X_train, y_train)}')\n",
    "print(f'Accuracy of model on testing data: {r2_score(y_test, predictions)}')\n",
    "print(f'RMSLE: {rmsle(y_test.values, predictions)}')"
   ]
  },
  {
   "cell_type": "markdown",
   "id": "60522efd",
   "metadata": {
    "papermill": {
     "duration": 0.020185,
     "end_time": "2024-01-23T14:08:58.083918",
     "exception": false,
     "start_time": "2024-01-23T14:08:58.063733",
     "status": "completed"
    },
    "tags": []
   },
   "source": [
    "The accuracy of the model seems pretty bad on both the training and testing data, but that is to be expected. The model also slightly overfits, but only by a very small margin."
   ]
  },
  {
   "cell_type": "markdown",
   "id": "1412efd7",
   "metadata": {
    "papermill": {
     "duration": 0.021766,
     "end_time": "2024-01-23T14:08:58.126629",
     "exception": false,
     "start_time": "2024-01-23T14:08:58.104863",
     "status": "completed"
    },
    "tags": []
   },
   "source": [
    "## 3. Picking a better model\n",
    "\n",
    "A good general-purpose model is the Random Forest model, so we will try that."
   ]
  },
  {
   "cell_type": "code",
   "execution_count": 12,
   "id": "3af681e9",
   "metadata": {
    "execution": {
     "iopub.execute_input": "2024-01-23T14:08:58.171502Z",
     "iopub.status.busy": "2024-01-23T14:08:58.170632Z",
     "iopub.status.idle": "2024-01-23T14:28:11.929430Z",
     "shell.execute_reply": "2024-01-23T14:28:11.927943Z"
    },
    "papermill": {
     "duration": 1153.805381,
     "end_time": "2024-01-23T14:28:11.952591",
     "exception": false,
     "start_time": "2024-01-23T14:08:58.147210",
     "status": "completed"
    },
    "tags": []
   },
   "outputs": [
    {
     "name": "stdout",
     "output_type": "stream",
     "text": [
      "Accuracy of model on training data: 0.9855113833970941\n",
      "Accuracy of model on testing data: 0.9078590130473214\n",
      "RMSLE: 0.5489546905034578\n"
     ]
    }
   ],
   "source": [
    "reg_model = RandomForestRegressor(random_state=23)\n",
    "reg_model.fit(X_train, y_train)\n",
    "predictions = reg_model.predict(X_test)\n",
    "\n",
    "base_forest_rmsle = rmsle(y_test.values, predictions)\n",
    "print(f'Accuracy of model on training data: {reg_model.score(X_train, y_train)}')\n",
    "print(f'Accuracy of model on testing data: {r2_score(y_test, predictions)}')\n",
    "print(f'RMSLE: {base_forest_rmsle}')"
   ]
  },
  {
   "cell_type": "markdown",
   "id": "c4c8cdb7",
   "metadata": {
    "papermill": {
     "duration": 0.020089,
     "end_time": "2024-01-23T14:28:11.994092",
     "exception": false,
     "start_time": "2024-01-23T14:28:11.974003",
     "status": "completed"
    },
    "tags": []
   },
   "source": [
    "This is much better already! The overfitting is more apparent with this model, but overall accuracy and RMSLE have improved a huge amount.\n",
    "\n",
    "After tuning the hyperparameters, we see that the following produces a better result."
   ]
  },
  {
   "cell_type": "code",
   "execution_count": 13,
   "id": "c5648f23",
   "metadata": {
    "execution": {
     "iopub.execute_input": "2024-01-23T14:28:12.037970Z",
     "iopub.status.busy": "2024-01-23T14:28:12.037503Z",
     "iopub.status.idle": "2024-01-23T14:42:26.506612Z",
     "shell.execute_reply": "2024-01-23T14:42:26.504777Z"
    },
    "papermill": {
     "duration": 854.52212,
     "end_time": "2024-01-23T14:42:26.538226",
     "exception": false,
     "start_time": "2024-01-23T14:28:12.016106",
     "status": "completed"
    },
    "tags": []
   },
   "outputs": [
    {
     "name": "stdout",
     "output_type": "stream",
     "text": [
      "Accuracy of model on training data: 0.960866058692087\n",
      "Accuracy of model on testing data: 0.909054759281911\n",
      "RMSLE: 0.5340370548147686\n"
     ]
    }
   ],
   "source": [
    "reg_model = RandomForestRegressor(n_estimators=200, min_samples_leaf=2, max_depth=25, max_leaf_nodes=250000, n_jobs=8, random_state=23)\n",
    "reg_model.fit(X_train, y_train)\n",
    "predictions = reg_model.predict(X_test)\n",
    "\n",
    "train_acc = reg_model.score(X_train, y_train)\n",
    "test_acc = r2_score(y_test, predictions)\n",
    "rmsle_score = rmsle(y_test.values, predictions)\n",
    "\n",
    "print(f'Accuracy of model on training data: {train_acc}')\n",
    "print(f'Accuracy of model on testing data: {test_acc}')\n",
    "print(f'RMSLE: {rmsle_score}')\n",
    "# print(f'Max depths: {[estimator.tree_.max_depth for estimator in reg_model.estimators_]}')\n",
    "# print(f'Numbers of leaves: {[estimator.tree_.n_leaves for estimator in reg_model.estimators_]}')"
   ]
  },
  {
   "cell_type": "markdown",
   "id": "9894fce6",
   "metadata": {
    "papermill": {
     "duration": 0.019692,
     "end_time": "2024-01-23T14:42:26.577761",
     "exception": false,
     "start_time": "2024-01-23T14:42:26.558069",
     "status": "completed"
    },
    "tags": []
   },
   "source": [
    "This RMSLE is our new score to beat as we move on to the feature engineering stage."
   ]
  },
  {
   "cell_type": "markdown",
   "id": "6f1952f0",
   "metadata": {
    "papermill": {
     "duration": 0.019517,
     "end_time": "2024-01-23T14:42:26.617050",
     "exception": false,
     "start_time": "2024-01-23T14:42:26.597533",
     "status": "completed"
    },
    "tags": []
   },
   "source": [
    "## 4. Feature engineering\n",
    "\n",
    "### 4.1. Target encoding\n",
    "\n",
    "Now that we have our Random Forest model set up, let's do some feature engineering to improve its performance. The first thing we can do is improve the encoding of the `family` feature by using *target encoding*. We have over 3 million rows in our dataset, so can safely set some aside for target encoding; in fact, just setting aside 3% of our total dataset should be sufficient. Notice also that each of the categories in the `family` column appears in an equal number of rows. This is a good sign that a target encoding might work well."
   ]
  },
  {
   "cell_type": "code",
   "execution_count": 14,
   "id": "2c41fabb",
   "metadata": {
    "execution": {
     "iopub.execute_input": "2024-01-23T14:42:26.661594Z",
     "iopub.status.busy": "2024-01-23T14:42:26.660673Z",
     "iopub.status.idle": "2024-01-23T14:42:28.953291Z",
     "shell.execute_reply": "2024-01-23T14:42:28.951961Z"
    },
    "papermill": {
     "duration": 2.319312,
     "end_time": "2024-01-23T14:42:28.956420",
     "exception": false,
     "start_time": "2024-01-23T14:42:26.637108",
     "status": "completed"
    },
    "tags": []
   },
   "outputs": [],
   "source": [
    "X = df_train.copy()\n",
    "y = X.pop('sales')\n",
    "date_enc = LabelEncoder()\n",
    "X.date = date_enc.fit_transform(X.date)\n",
    "\n",
    "X_encode = X.sample(frac=0.03, random_state=23)\n",
    "y_encode = y[X_encode.index]\n",
    "X_pretrain = X.drop(X_encode.index)\n",
    "y_pretrain = y[X_pretrain.index]\n",
    "encoder = MEstimateEncoder(cols=['family'], m=10.0)\n",
    "encoder.fit(X_encode, y_encode)\n",
    "X_pretrain = encoder.transform(X_pretrain)"
   ]
  },
  {
   "cell_type": "markdown",
   "id": "9dde137c",
   "metadata": {
    "papermill": {
     "duration": 0.022022,
     "end_time": "2024-01-23T14:42:28.999531",
     "exception": false,
     "start_time": "2024-01-23T14:42:28.977509",
     "status": "completed"
    },
    "tags": []
   },
   "source": [
    "Let's test our model again. We will remove some of the hyperparameter settings on the random forest model for now, as our feature engineering will likely result in us needing to change the tuning."
   ]
  },
  {
   "cell_type": "code",
   "execution_count": 15,
   "id": "a69fa221",
   "metadata": {
    "execution": {
     "iopub.execute_input": "2024-01-23T14:42:29.044124Z",
     "iopub.status.busy": "2024-01-23T14:42:29.043684Z",
     "iopub.status.idle": "2024-01-23T14:50:33.918002Z",
     "shell.execute_reply": "2024-01-23T14:50:33.912328Z"
    },
    "papermill": {
     "duration": 484.919106,
     "end_time": "2024-01-23T14:50:33.939107",
     "exception": false,
     "start_time": "2024-01-23T14:42:29.020001",
     "status": "completed"
    },
    "tags": []
   },
   "outputs": [
    {
     "name": "stdout",
     "output_type": "stream",
     "text": [
      "Accuracy of model on training data: 0.9862433771060769\n",
      "Accuracy of model on testing data: 0.8941582445797346\n",
      "RMSLE: 0.5447023665640118\n",
      "Better RMSLE: True\n"
     ]
    }
   ],
   "source": [
    "X_train, X_test, y_train, y_test = train_test_split(X_pretrain, y_pretrain, test_size=0.2, random_state=23)\n",
    "\n",
    "reg_model = RandomForestRegressor(n_jobs=8, random_state=23)\n",
    "reg_model.fit(X_train, y_train)\n",
    "predictions = reg_model.predict(X_test)\n",
    "\n",
    "train_acc = reg_model.score(X_train, y_train)\n",
    "test_acc = r2_score(y_test, predictions)\n",
    "rmsle_score = rmsle(y_test.values, predictions)\n",
    "\n",
    "print(f'Accuracy of model on training data: {train_acc}')\n",
    "print(f'Accuracy of model on testing data: {test_acc}')\n",
    "print(f'RMSLE: {rmsle_score}')\n",
    "print(f'Better RMSLE: {rmsle_score < base_forest_rmsle}')\n",
    "# print(f'Max depths: {[estimator.tree_.max_depth for estimator in reg_model.estimators_]}')\n",
    "# print(f'Numbers of leaves: {[estimator.tree_.n_leaves for estimator in reg_model.estimators_]}')"
   ]
  },
  {
   "cell_type": "markdown",
   "id": "0274c925",
   "metadata": {
    "papermill": {
     "duration": 0.022051,
     "end_time": "2024-01-23T14:50:33.983733",
     "exception": false,
     "start_time": "2024-01-23T14:50:33.961682",
     "status": "completed"
    },
    "tags": []
   },
   "source": [
    "We see a small improvement in the RMSLE, so we'll keep the encoding."
   ]
  },
  {
   "cell_type": "markdown",
   "id": "d1e43c35",
   "metadata": {
    "papermill": {
     "duration": 0.023558,
     "end_time": "2024-01-23T14:50:34.029921",
     "exception": false,
     "start_time": "2024-01-23T14:50:34.006363",
     "status": "completed"
    },
    "tags": []
   },
   "source": [
    "### 4.2. Autoregression analysis\n",
    "\n",
    "Since our data has the form of a time series, we need to test for autoregression and restructure it using a *sliding window representation*, which allows past `sales` data to be used as a feature to predict future `sales` data.\n",
    "\n",
    "We need to be careful with how we use lag here, since for each day of data we have multiple stores with multiple products. Let's check that the numbers of items stocked and the number of stores listed each day are consistent across the dataset."
   ]
  },
  {
   "cell_type": "code",
   "execution_count": 16,
   "id": "028cd018",
   "metadata": {
    "execution": {
     "iopub.execute_input": "2024-01-23T14:50:34.075854Z",
     "iopub.status.busy": "2024-01-23T14:50:34.075399Z",
     "iopub.status.idle": "2024-01-23T14:50:34.457331Z",
     "shell.execute_reply": "2024-01-23T14:50:34.455584Z"
    },
    "papermill": {
     "duration": 0.408906,
     "end_time": "2024-01-23T14:50:34.460388",
     "exception": false,
     "start_time": "2024-01-23T14:50:34.051482",
     "status": "completed"
    },
    "tags": []
   },
   "outputs": [
    {
     "name": "stdout",
     "output_type": "stream",
     "text": [
      "Every store stocks the same number of items every day: True\n",
      "Every store is present in the data set across the same days: True\n",
      "Every store stocks 33 items.\n",
      "There are 54 stores.\n"
     ]
    }
   ],
   "source": [
    "n_items_per_store = df_train.groupby('store_nbr').date.value_counts()\n",
    "print(f'Every store stocks the same number of items every day: {n_items_per_store.nunique() == 1}')\n",
    "n_days_per_store = df_train.groupby('store_nbr').date.count()\n",
    "print(f'Every store is present in the data set across the same days: {n_days_per_store.nunique() == 1}')\n",
    "print(f'Every store stocks {n_items_per_store.iloc[0]} items.')\n",
    "print(f'There are {df_train.store_nbr.nunique()} stores.')"
   ]
  },
  {
   "cell_type": "markdown",
   "id": "a0c06dc6",
   "metadata": {
    "papermill": {
     "duration": 0.020456,
     "end_time": "2024-01-23T14:50:34.502825",
     "exception": false,
     "start_time": "2024-01-23T14:50:34.482369",
     "status": "completed"
    },
    "tags": []
   },
   "source": [
    "We can see that every store stocks 33 items every day, and every store is listed in the dataset on each day. Moreover, there are 54 stores. Thus, any lag in our data should be a multiple of `33*54`, as this is the number of rows in our dataset per day. Since the stores and items listed each day are consistent, each multiple of `33*54` should accurately represent one day of lag.\n",
    "\n",
    "We therefore plot the autocorrelation function for `sales`, using 740 lags (in multiples of `33*54`) so that we are able to capture potential annual lag. Since our dataset is so huge, we will only plot this for the first 5 stores (so we use multiples of `33*5` instead)."
   ]
  },
  {
   "cell_type": "code",
   "execution_count": 17,
   "id": "199f132b",
   "metadata": {
    "execution": {
     "iopub.execute_input": "2024-01-23T14:50:34.546899Z",
     "iopub.status.busy": "2024-01-23T14:50:34.546410Z",
     "iopub.status.idle": "2024-01-23T14:50:54.867236Z",
     "shell.execute_reply": "2024-01-23T14:50:54.865669Z"
    },
    "papermill": {
     "duration": 20.347246,
     "end_time": "2024-01-23T14:50:54.870678",
     "exception": false,
     "start_time": "2024-01-23T14:50:34.523432",
     "status": "completed"
    },
    "tags": []
   },
   "outputs": [
    {
     "data": {
      "image/png": "[encoded data removed]",
      "text/plain": [
       "<Figure size 640x480 with 1 Axes>"
      ]
     },
     "metadata": {},
     "output_type": "display_data"
    }
   ],
   "source": [
    "plot_acf(df_train.loc[df_train.store_nbr.isin(range(1,6))].sales.values, lags = [33*5*i for i in range(740)]); # semicolon prevents duplicate plots"
   ]
  },
  {
   "cell_type": "markdown",
   "id": "b02e4240",
   "metadata": {
    "papermill": {
     "duration": 0.02175,
     "end_time": "2024-01-23T14:50:54.914831",
     "exception": false,
     "start_time": "2024-01-23T14:50:54.893081",
     "status": "completed"
    },
    "tags": []
   },
   "source": [
    "There definitely does not seem to be autocorrelation on a yearly scale; in fact, the amount of autocorrelation appears to be decreasing linearly on the large scale. Lets decrease the number of lags to 70 to see if there is any autocorrelation on the monthly or weekly scale."
   ]
  },
  {
   "cell_type": "code",
   "execution_count": 18,
   "id": "90049578",
   "metadata": {
    "execution": {
     "iopub.execute_input": "2024-01-23T14:50:54.962804Z",
     "iopub.status.busy": "2024-01-23T14:50:54.962262Z",
     "iopub.status.idle": "2024-01-23T14:51:13.677803Z",
     "shell.execute_reply": "2024-01-23T14:51:13.675658Z"
    },
    "papermill": {
     "duration": 18.743562,
     "end_time": "2024-01-23T14:51:13.680970",
     "exception": false,
     "start_time": "2024-01-23T14:50:54.937408",
     "status": "completed"
    },
    "tags": []
   },
   "outputs": [
    {
     "data": {
      "image/png": "[encoded data removed]",
      "text/plain": [
       "<Figure size 640x480 with 1 Axes>"
      ]
     },
     "metadata": {},
     "output_type": "display_data"
    }
   ],
   "source": [
    "plot_acf(df_train.loc[df_train.store_nbr.isin(range(1,6))].sales.values, lags = [33*5*i for i in range(70)]);"
   ]
  },
  {
   "cell_type": "markdown",
   "id": "4fb33151",
   "metadata": {
    "papermill": {
     "duration": 0.021629,
     "end_time": "2024-01-23T14:51:13.725098",
     "exception": false,
     "start_time": "2024-01-23T14:51:13.703469",
     "status": "completed"
    },
    "tags": []
   },
   "source": [
    "This looks more promising! We can see there is a high degree of autocorrelation if we restrict to at most two months of lag, and in fact the autocorrelation appears to spike weekly. This justifies adding a `sales_last_week` feature. \n",
    "\n",
    "Note that we now need to be careful when making our train-test splits; if some of our testing data is from an earlier date than some of our training data, then `sales_last_week` will give our training data undue information about that testing data. We therefore need to make our splits without shuffling the data, so that all the testing data appears after the training data. We also can't use `sales_last_week` in our testing data, except for the first week of the test data; the rest we will have to fill in one week at a time via *walk-forward validation*. To simplify this process, we will only test on the last 15 weeks from `df_train`; this represents 5% of the total data."
   ]
  },
  {
   "cell_type": "code",
   "execution_count": 19,
   "id": "ed20714e",
   "metadata": {
    "execution": {
     "iopub.execute_input": "2024-01-23T14:51:13.775238Z",
     "iopub.status.busy": "2024-01-23T14:51:13.773668Z",
     "iopub.status.idle": "2024-01-23T14:51:14.405927Z",
     "shell.execute_reply": "2024-01-23T14:51:14.404352Z"
    },
    "papermill": {
     "duration": 0.660763,
     "end_time": "2024-01-23T14:51:14.409141",
     "exception": false,
     "start_time": "2024-01-23T14:51:13.748378",
     "status": "completed"
    },
    "tags": []
   },
   "outputs": [],
   "source": [
    "X_pretrain['sales_last_week'] = y_pretrain.shift(33*54*7)\n",
    "X_pretrain.dropna(inplace=True)\n",
    "y_pretrain = y_pretrain[X_pretrain.index]\n",
    "\n",
    "X_train, X_test, y_train, y_test = train_test_split(X_pretrain, y_pretrain, test_size=33*54*7*15, shuffle=False)"
   ]
  },
  {
   "cell_type": "markdown",
   "id": "3d7fb8b7",
   "metadata": {
    "papermill": {
     "duration": 0.023173,
     "end_time": "2024-01-23T14:51:14.454411",
     "exception": false,
     "start_time": "2024-01-23T14:51:14.431238",
     "status": "completed"
    },
    "tags": []
   },
   "source": [
    "Let's test our model again. Note that we will also have to test the previous random forest model with this new train-test split, in order to get an accurate picture of whether we have made an improvement."
   ]
  },
  {
   "cell_type": "code",
   "execution_count": 20,
   "id": "2461601a",
   "metadata": {
    "execution": {
     "iopub.execute_input": "2024-01-23T14:51:14.507133Z",
     "iopub.status.busy": "2024-01-23T14:51:14.506564Z",
     "iopub.status.idle": "2024-01-23T14:59:05.815267Z",
     "shell.execute_reply": "2024-01-23T14:59:05.813877Z"
    },
    "papermill": {
     "duration": 471.35925,
     "end_time": "2024-01-23T14:59:05.840646",
     "exception": false,
     "start_time": "2024-01-23T14:51:14.481396",
     "status": "completed"
    },
    "tags": []
   },
   "outputs": [
    {
     "name": "stdout",
     "output_type": "stream",
     "text": [
      "Accuracy of old model on training data: 0.9867690983448513\n",
      "Accuracy of old model on testing data: 0.8767156788191243\n",
      "RMSLE: 0.596316319204942\n"
     ]
    }
   ],
   "source": [
    "X_train_old = X_train.drop(columns='sales_last_week')\n",
    "X_test_old = X_test.drop(columns='sales_last_week')\n",
    "\n",
    "reg_model = RandomForestRegressor(n_jobs=8, random_state=23)\n",
    "reg_model.fit(X_train_old, y_train)\n",
    "predictions = reg_model.predict(X_test_old)\n",
    "\n",
    "old_train_acc = reg_model.score(X_train_old, y_train)\n",
    "old_test_acc = r2_score(y_test, predictions)\n",
    "base_forest_rmsle = rmsle(y_test.values, predictions)\n",
    "\n",
    "print(f'Accuracy of old model on training data: {old_train_acc}')\n",
    "print(f'Accuracy of old model on testing data: {old_test_acc}')\n",
    "print(f'RMSLE: {base_forest_rmsle}')"
   ]
  },
  {
   "cell_type": "code",
   "execution_count": 21,
   "id": "6dfd31a6",
   "metadata": {
    "execution": {
     "iopub.execute_input": "2024-01-23T14:59:05.890863Z",
     "iopub.status.busy": "2024-01-23T14:59:05.889401Z",
     "iopub.status.idle": "2024-01-23T15:09:33.828195Z",
     "shell.execute_reply": "2024-01-23T15:09:33.826691Z"
    },
    "papermill": {
     "duration": 627.991832,
     "end_time": "2024-01-23T15:09:33.855098",
     "exception": false,
     "start_time": "2024-01-23T14:59:05.863266",
     "status": "completed"
    },
    "tags": []
   },
   "outputs": [
    {
     "name": "stdout",
     "output_type": "stream",
     "text": [
      "Accuracy of new model on training data: 0.9853681825576727\n",
      "Accuracy of new model on testing data: 0.8857992238514758\n",
      "RMSLE: 0.5922595096068964\n",
      "Better RMSLE: True\n"
     ]
    }
   ],
   "source": [
    "reg_model = RandomForestRegressor(n_jobs=8, random_state=23)\n",
    "reg_model.fit(X_train, y_train)\n",
    "\n",
    "predictions = reg_model.predict(X_test.iloc[:33*54*7])\n",
    "for i in range(1,15):\n",
    "    X_test.iloc[33*54*7*i : 33*54*7*(i+1), -1] = pd.Series(predictions[33*54*7*(i-1):33*54*7*i], index=X_test.iloc[33*54*7*i : 33*54*7*(i+1), -1].index)\n",
    "    predictions = np.concatenate((predictions, reg_model.predict(X_test.iloc[33*54*7*i : 33*54*7*(i+1)])))\n",
    "\n",
    "train_acc = reg_model.score(X_train, y_train)\n",
    "test_acc = r2_score(y_test, predictions)\n",
    "rmsle_score = rmsle(y_test.values, predictions)\n",
    "\n",
    "print(f'Accuracy of new model on training data: {train_acc}')\n",
    "print(f'Accuracy of new model on testing data: {test_acc}')\n",
    "print(f'RMSLE: {rmsle_score}')\n",
    "print(f'Better RMSLE: {rmsle_score < base_forest_rmsle}')\n",
    "\n",
    "previous_rmsle = rmsle_score"
   ]
  },
  {
   "cell_type": "markdown",
   "id": "f51003e6",
   "metadata": {
    "papermill": {
     "duration": 0.02353,
     "end_time": "2024-01-23T15:09:33.901224",
     "exception": false,
     "start_time": "2024-01-23T15:09:33.877694",
     "status": "completed"
    },
    "tags": []
   },
   "source": [
    "The RMSLE has improved and there is less overfitting now, too. Great!"
   ]
  },
  {
   "cell_type": "markdown",
   "id": "9ec3716a",
   "metadata": {
    "papermill": {
     "duration": 0.022579,
     "end_time": "2024-01-23T15:09:33.945785",
     "exception": false,
     "start_time": "2024-01-23T15:09:33.923206",
     "status": "completed"
    },
    "tags": []
   },
   "source": [
    "### 4.3. Anomaly detection\n",
    "\n",
    "We know that there was a big earthquake on April 16, 2016 which greatly affected sales for weeks afterwards. We are therefore expecting significant anomalies in the sales figures around this time. Let's visualise our data to see if this is the case."
   ]
  },
  {
   "cell_type": "code",
   "execution_count": 22,
   "id": "41d10602",
   "metadata": {
    "execution": {
     "iopub.execute_input": "2024-01-23T15:09:33.993738Z",
     "iopub.status.busy": "2024-01-23T15:09:33.993174Z",
     "iopub.status.idle": "2024-01-23T15:11:30.198634Z",
     "shell.execute_reply": "2024-01-23T15:11:30.196745Z"
    },
    "papermill": {
     "duration": 116.234037,
     "end_time": "2024-01-23T15:11:30.202611",
     "exception": false,
     "start_time": "2024-01-23T15:09:33.968574",
     "status": "completed"
    },
    "tags": []
   },
   "outputs": [
    {
     "data": {
      "text/plain": [
       "<Axes: xlabel='year_month', ylabel='sales'>"
      ]
     },
     "execution_count": 22,
     "metadata": {},
     "output_type": "execute_result"
    },
    {
     "data": {
      "image/png": "[encoded data removed]",
      "text/plain": [
       "<Figure size 1200x400 with 1 Axes>"
      ]
     },
     "metadata": {},
     "output_type": "display_data"
    }
   ],
   "source": [
    "df_plot = df_train.copy()\n",
    "df_plot['year_month'] = df_plot['date'].dt.to_period('M')\n",
    "fig, ax = plt.subplots(figsize=(12, 4))\n",
    "ax.tick_params(axis='x', rotation=90)\n",
    "sns.stripplot(x='year_month', y='sales', ax=ax, data=df_plot)"
   ]
  },
  {
   "cell_type": "markdown",
   "id": "55e18123",
   "metadata": {
    "papermill": {
     "duration": 0.022563,
     "end_time": "2024-01-23T15:11:30.252092",
     "exception": false,
     "start_time": "2024-01-23T15:11:30.229529",
     "status": "completed"
    },
    "tags": []
   },
   "source": [
    "We indeed see a huge spike in April and May 2016. There also seems to be an unexpected spike in October 2016. Let's look at the 2016 sales week-by-week."
   ]
  },
  {
   "cell_type": "code",
   "execution_count": 23,
   "id": "75d060a8",
   "metadata": {
    "execution": {
     "iopub.execute_input": "2024-01-23T15:11:30.304593Z",
     "iopub.status.busy": "2024-01-23T15:11:30.304114Z",
     "iopub.status.idle": "2024-01-23T15:12:01.330788Z",
     "shell.execute_reply": "2024-01-23T15:12:01.329669Z"
    },
    "papermill": {
     "duration": 31.084494,
     "end_time": "2024-01-23T15:12:01.360970",
     "exception": false,
     "start_time": "2024-01-23T15:11:30.276476",
     "status": "completed"
    },
    "tags": []
   },
   "outputs": [
    {
     "name": "stderr",
     "output_type": "stream",
     "text": [
      "/tmp/ipykernel_18/530336439.py:2: SettingWithCopyWarning: \n",
      "A value is trying to be set on a copy of a slice from a DataFrame.\n",
      "Try using .loc[row_indexer,col_indexer] = value instead\n",
      "\n",
      "See the caveats in the documentation: https://pandas.pydata.org/pandas-docs/stable/user_guide/indexing.html#returning-a-view-versus-a-copy\n",
      "  df_plot['year_week'] = df_plot['date'].dt.to_period('W')\n"
     ]
    },
    {
     "data": {
      "text/plain": [
       "<Axes: xlabel='year_week', ylabel='sales'>"
      ]
     },
     "execution_count": 23,
     "metadata": {},
     "output_type": "execute_result"
    },
    {
     "data": {
      "image/png": "[encoded data removed]",
      "text/plain": [
       "<Figure size 1200x400 with 1 Axes>"
      ]
     },
     "metadata": {},
     "output_type": "display_data"
    }
   ],
   "source": [
    "df_plot = df_train.loc[df_train.date.dt.year == 2016]\n",
    "df_plot['year_week'] = df_plot['date'].dt.to_period('W')\n",
    "fig, ax = plt.subplots(figsize=(12, 4))\n",
    "ax.tick_params(axis='x', rotation=90)\n",
    "sns.stripplot(x='year_week', y='sales', ax=ax, data=df_plot)"
   ]
  },
  {
   "cell_type": "markdown",
   "id": "8cdb5c43",
   "metadata": {
    "papermill": {
     "duration": 0.025495,
     "end_time": "2024-01-23T15:12:01.414273",
     "exception": false,
     "start_time": "2024-01-23T15:12:01.388778",
     "status": "completed"
    },
    "tags": []
   },
   "source": [
    "Since we don't expect another earthquake, we should get rid of these weeks of data from our dataset. We should also drop the anomalous week in October 2016."
   ]
  },
  {
   "cell_type": "code",
   "execution_count": 24,
   "id": "13f8190f",
   "metadata": {
    "execution": {
     "iopub.execute_input": "2024-01-23T15:12:01.470700Z",
     "iopub.status.busy": "2024-01-23T15:12:01.470033Z",
     "iopub.status.idle": "2024-01-23T15:12:02.234152Z",
     "shell.execute_reply": "2024-01-23T15:12:02.233007Z"
    },
    "papermill": {
     "duration": 0.797414,
     "end_time": "2024-01-23T15:12:02.236996",
     "exception": false,
     "start_time": "2024-01-23T15:12:01.439582",
     "status": "completed"
    },
    "tags": []
   },
   "outputs": [],
   "source": [
    "X = df_train.copy()\n",
    "X = X.drop(X.loc[X.date.between('2016-04-16', '2016-05-13')].index)\n",
    "X = X.drop(X.loc[X.date.between('2016-10-03', '2016-10-09')].index)\n",
    "y = X.pop('sales')"
   ]
  },
  {
   "cell_type": "markdown",
   "id": "35945162",
   "metadata": {
    "papermill": {
     "duration": 0.026124,
     "end_time": "2024-01-23T15:12:02.290811",
     "exception": false,
     "start_time": "2024-01-23T15:12:02.264687",
     "status": "completed"
    },
    "tags": []
   },
   "source": [
    "Let's see how this affects our model's performance."
   ]
  },
  {
   "cell_type": "code",
   "execution_count": 25,
   "id": "de3f513c",
   "metadata": {
    "execution": {
     "iopub.execute_input": "2024-01-23T15:12:02.348904Z",
     "iopub.status.busy": "2024-01-23T15:12:02.348200Z",
     "iopub.status.idle": "2024-01-23T15:12:04.933355Z",
     "shell.execute_reply": "2024-01-23T15:12:04.931917Z"
    },
    "papermill": {
     "duration": 2.617591,
     "end_time": "2024-01-23T15:12:04.936534",
     "exception": false,
     "start_time": "2024-01-23T15:12:02.318943",
     "status": "completed"
    },
    "tags": []
   },
   "outputs": [],
   "source": [
    "date_enc = LabelEncoder()\n",
    "X.date = date_enc.fit_transform(X.date)\n",
    "X_encode = X.sample(frac=0.03, random_state=23)\n",
    "y_encode = y[X_encode.index]\n",
    "X_pretrain = X.drop(X_encode.index)\n",
    "y_pretrain = y[X_pretrain.index]\n",
    "encoder = MEstimateEncoder(cols=['family'], m=10.0)\n",
    "encoder.fit(X_encode, y_encode)\n",
    "X_pretrain = encoder.transform(X_pretrain)\n",
    "\n",
    "X_pretrain['sales_last_week'] = y_pretrain.shift(33*54*7)\n",
    "X_pretrain.dropna(inplace=True)\n",
    "y_pretrain = y_pretrain[X_pretrain.index]\n",
    "\n",
    "X_train, X_test, y_train, y_test = train_test_split(X_pretrain, y_pretrain, test_size=33*54*7*15, shuffle=False)"
   ]
  },
  {
   "cell_type": "code",
   "execution_count": 26,
   "id": "95a6f043",
   "metadata": {
    "execution": {
     "iopub.execute_input": "2024-01-23T15:12:04.988383Z",
     "iopub.status.busy": "2024-01-23T15:12:04.987701Z",
     "iopub.status.idle": "2024-01-23T15:22:00.885213Z",
     "shell.execute_reply": "2024-01-23T15:22:00.883360Z"
    },
    "papermill": {
     "duration": 595.95115,
     "end_time": "2024-01-23T15:22:00.912663",
     "exception": false,
     "start_time": "2024-01-23T15:12:04.961513",
     "status": "completed"
    },
    "tags": []
   },
   "outputs": [
    {
     "name": "stdout",
     "output_type": "stream",
     "text": [
      "Accuracy of new model on training data: 0.9869745997728832\n",
      "Accuracy of new model on testing data: 0.8913164847337883\n",
      "RMSLE: 0.5791904299178592\n",
      "Better RMSLE: True\n"
     ]
    }
   ],
   "source": [
    "reg_model = RandomForestRegressor(n_jobs=8, random_state=23)\n",
    "reg_model.fit(X_train, y_train)\n",
    "\n",
    "predictions = reg_model.predict(X_test.iloc[:33*54*7])\n",
    "for i in range(1,15):\n",
    "    X_test.iloc[33*54*7*i : 33*54*7*(i+1), -1] = pd.Series(predictions[33*54*7*(i-1):33*54*7*i], index=X_test.iloc[33*54*7*i : 33*54*7*(i+1), -1].index)\n",
    "    predictions = np.concatenate((predictions, reg_model.predict(X_test.iloc[33*54*7*i : 33*54*7*(i+1)])))\n",
    "\n",
    "train_acc = reg_model.score(X_train, y_train)\n",
    "test_acc = r2_score(y_test, predictions)\n",
    "rmsle_score = rmsle(y_test.values, predictions)\n",
    "\n",
    "print(f'Accuracy of new model on training data: {train_acc}')\n",
    "print(f'Accuracy of new model on testing data: {test_acc}')\n",
    "print(f'RMSLE: {rmsle_score}')\n",
    "print(f'Better RMSLE: {rmsle_score < previous_rmsle}')\n",
    "\n",
    "previous_rmsle = rmsle_score"
   ]
  },
  {
   "cell_type": "markdown",
   "id": "fe3f74f3",
   "metadata": {
    "papermill": {
     "duration": 0.026185,
     "end_time": "2024-01-23T15:22:01.160939",
     "exception": false,
     "start_time": "2024-01-23T15:22:01.134754",
     "status": "completed"
    },
    "tags": []
   },
   "source": [
    "Hooray! The RMSLE has improved."
   ]
  },
  {
   "cell_type": "markdown",
   "id": "86104608",
   "metadata": {
    "papermill": {
     "duration": 0.026081,
     "end_time": "2024-01-23T15:22:01.212781",
     "exception": false,
     "start_time": "2024-01-23T15:22:01.186700",
     "status": "completed"
    },
    "tags": []
   },
   "source": [
    "## 5. Final predictions\n",
    "\n",
    "We now do some final hyperparameter tuning, train our model on the whole dataset `df_train`, and generate predictions for `df_test`.\n",
    "\n",
    "Let's set everything up from the previous sections."
   ]
  },
  {
   "cell_type": "code",
   "execution_count": 27,
   "id": "a7bccf5b",
   "metadata": {
    "execution": {
     "iopub.execute_input": "2024-01-23T15:22:01.268863Z",
     "iopub.status.busy": "2024-01-23T15:22:01.268359Z",
     "iopub.status.idle": "2024-01-23T15:22:04.810064Z",
     "shell.execute_reply": "2024-01-23T15:22:04.808298Z"
    },
    "papermill": {
     "duration": 3.575179,
     "end_time": "2024-01-23T15:22:04.813400",
     "exception": false,
     "start_time": "2024-01-23T15:22:01.238221",
     "status": "completed"
    },
    "tags": []
   },
   "outputs": [],
   "source": [
    "# Clean data\n",
    "df_train['date'] = pd.to_datetime(df_train['date'], format='%Y-%m-%d')\n",
    "df_train = df_train.loc[:,'date':'onpromotion']\n",
    "# Drop anomalies\n",
    "X = df_train.copy()\n",
    "X = X.drop(X.loc[X.date.between('2016-04-16', '2016-05-13')].index)\n",
    "X = X.drop(X.loc[X.date.between('2016-10-03', '2016-10-09')].index)\n",
    "y = X.pop('sales')\n",
    "# Target encoding\n",
    "date_enc = LabelEncoder()\n",
    "X.date = date_enc.fit_transform(X.date)\n",
    "X_encode = X.sample(frac=0.03, random_state=23)\n",
    "y_encode = y[X_encode.index]\n",
    "X_pretrain = X.drop(X_encode.index)\n",
    "y_pretrain = y[X_pretrain.index]\n",
    "encoder = MEstimateEncoder(cols=['family'], m=10.0)\n",
    "encoder.fit(X_encode, y_encode)\n",
    "X_pretrain = encoder.transform(X_pretrain)\n",
    "# Autoregression feature\n",
    "X_pretrain['sales_last_week'] = y_pretrain.shift(33*54*7)\n",
    "X_pretrain.dropna(inplace=True)\n",
    "y_pretrain = y_pretrain[X_pretrain.index]\n",
    "# Train-test split\n",
    "X_train, X_test, y_train, y_test = train_test_split(X_pretrain, y_pretrain, test_size=33*54*7*15, shuffle=False)"
   ]
  },
  {
   "cell_type": "markdown",
   "id": "7599f294",
   "metadata": {
    "papermill": {
     "duration": 0.023923,
     "end_time": "2024-01-23T15:22:04.862161",
     "exception": false,
     "start_time": "2024-01-23T15:22:04.838238",
     "status": "completed"
    },
    "tags": []
   },
   "source": [
    "After tuning the hyperparameters, we get the following improved model. Note that increasing the number of estimators improves the RMSLE, but not in a meaningful way (less than 0.0001), so the large increase in runtime is not worthwhile."
   ]
  },
  {
   "cell_type": "code",
   "execution_count": 28,
   "id": "c0e35bf0",
   "metadata": {
    "execution": {
     "iopub.execute_input": "2024-01-23T15:22:04.913355Z",
     "iopub.status.busy": "2024-01-23T15:22:04.911754Z",
     "iopub.status.idle": "2024-01-23T15:29:23.604957Z",
     "shell.execute_reply": "2024-01-23T15:29:23.603638Z"
    },
    "papermill": {
     "duration": 438.746701,
     "end_time": "2024-01-23T15:29:23.632631",
     "exception": false,
     "start_time": "2024-01-23T15:22:04.885930",
     "status": "completed"
    },
    "tags": []
   },
   "outputs": [
    {
     "name": "stdout",
     "output_type": "stream",
     "text": [
      "Accuracy of new model on training data: 0.9267329848940897\n",
      "Accuracy of new model on testing data: 0.9038897058583352\n",
      "RMSLE: 0.5082859867729965\n",
      "Better RMSLE: True\n"
     ]
    }
   ],
   "source": [
    "reg_model = RandomForestRegressor(min_samples_leaf=10, max_depth=25, max_leaf_nodes=70000, max_features=0.9, n_jobs=8, random_state=23)\n",
    "reg_model.fit(X_train, y_train)\n",
    "\n",
    "predictions = reg_model.predict(X_test.iloc[:33*54*7])\n",
    "for i in range(1,15):\n",
    "    X_test.iloc[33*54*7*i : 33*54*7*(i+1), -1] = pd.Series(predictions[33*54*7*(i-1):33*54*7*i], index=X_test.iloc[33*54*7*i : 33*54*7*(i+1), -1].index)\n",
    "    predictions = np.concatenate((predictions, reg_model.predict(X_test.iloc[33*54*7*i : 33*54*7*(i+1)])))\n",
    "\n",
    "train_acc = reg_model.score(X_train, y_train)\n",
    "test_acc = r2_score(y_test, predictions)\n",
    "rmsle_score = rmsle(y_test.values, predictions)\n",
    "\n",
    "print(f'Accuracy of new model on training data: {train_acc}')\n",
    "print(f'Accuracy of new model on testing data: {test_acc}')\n",
    "print(f'RMSLE: {rmsle_score}')\n",
    "print(f'Better RMSLE: {rmsle_score < previous_rmsle}')\n",
    "# print(f'Max depths: {[estimator.tree_.max_depth for estimator in reg_model.estimators_]}')\n",
    "# print(f'Numbers of leaves: {[estimator.tree_.n_leaves for estimator in reg_model.estimators_]}')"
   ]
  },
  {
   "cell_type": "markdown",
   "id": "33224f72",
   "metadata": {
    "papermill": {
     "duration": 0.025199,
     "end_time": "2024-01-23T15:29:23.683281",
     "exception": false,
     "start_time": "2024-01-23T15:29:23.658082",
     "status": "completed"
    },
    "tags": []
   },
   "source": [
    "Now let's train on the whole of `df_train` and generate predictions!"
   ]
  },
  {
   "cell_type": "code",
   "execution_count": 29,
   "id": "959537e0",
   "metadata": {
    "execution": {
     "iopub.execute_input": "2024-01-23T15:29:23.736311Z",
     "iopub.status.busy": "2024-01-23T15:29:23.735827Z",
     "iopub.status.idle": "2024-01-23T15:29:26.827170Z",
     "shell.execute_reply": "2024-01-23T15:29:26.825748Z"
    },
    "papermill": {
     "duration": 3.121274,
     "end_time": "2024-01-23T15:29:26.830337",
     "exception": false,
     "start_time": "2024-01-23T15:29:23.709063",
     "status": "completed"
    },
    "tags": []
   },
   "outputs": [],
   "source": [
    "# Clean data\n",
    "df_train['date'] = pd.to_datetime(df_train['date'], format='%Y-%m-%d')\n",
    "df_train = df_train.loc[:,'date':'onpromotion']\n",
    "df_test['date'] = pd.to_datetime(df_test['date'], format='%Y-%m-%d')\n",
    "X_test = df_test.loc[:,'date':'onpromotion']\n",
    "# Drop anomalies\n",
    "X = df_train.copy()\n",
    "X = X.drop(X.loc[X.date.between('2016-04-16', '2016-05-13')].index)\n",
    "X = X.drop(X.loc[X.date.between('2016-10-03', '2016-10-09')].index)\n",
    "y = X.pop('sales')\n",
    "# Target encoding\n",
    "date_enc = LabelEncoder()\n",
    "X.date = date_enc.fit_transform(X.date)\n",
    "X_test.date = date_enc.fit_transform(X_test.date)\n",
    "X_encode = X.sample(frac=0.03, random_state=23)\n",
    "y_encode = y[X_encode.index]\n",
    "X_train = X.drop(X_encode.index)\n",
    "y_train = y[X_train.index]\n",
    "encoder = MEstimateEncoder(cols=['family'], m=10.0)\n",
    "encoder.fit(X_encode, y_encode)\n",
    "X_train = encoder.transform(X_train)\n",
    "X_test = encoder.transform(X_test)\n",
    "# Autoregression feature\n",
    "X_train['sales_last_week'] = y_train.shift(33*54*7)\n",
    "X_train.dropna(inplace=True)\n",
    "y_train = y_train[X_train.index]\n",
    "X_test['sales_last_week'] = pd.Series([0 for i in X_test.index], index=X_test.index, name='sales_last_week')\n",
    "X_test.iloc[:33*54*7, -1] = y_train.iloc[-33*54*7:]"
   ]
  },
  {
   "cell_type": "code",
   "execution_count": 30,
   "id": "e21b8131",
   "metadata": {
    "execution": {
     "iopub.execute_input": "2024-01-23T15:29:26.884293Z",
     "iopub.status.busy": "2024-01-23T15:29:26.883578Z",
     "iopub.status.idle": "2024-01-23T15:36:59.165356Z",
     "shell.execute_reply": "2024-01-23T15:36:59.163918Z"
    },
    "papermill": {
     "duration": 452.339423,
     "end_time": "2024-01-23T15:36:59.196110",
     "exception": false,
     "start_time": "2024-01-23T15:29:26.856687",
     "status": "completed"
    },
    "tags": []
   },
   "outputs": [
    {
     "data": {
      "text/html": [
       "<div>\n",
       "<style scoped>\n",
       "    .dataframe tbody tr th:only-of-type {\n",
       "        vertical-align: middle;\n",
       "    }\n",
       "\n",
       "    .dataframe tbody tr th {\n",
       "        vertical-align: top;\n",
       "    }\n",
       "\n",
       "    .dataframe thead th {\n",
       "        text-align: right;\n",
       "    }\n",
       "</style>\n",
       "<table border=\"1\" class=\"dataframe\">\n",
       "  <thead>\n",
       "    <tr style=\"text-align: right;\">\n",
       "      <th></th>\n",
       "      <th>id</th>\n",
       "      <th>sales</th>\n",
       "    </tr>\n",
       "  </thead>\n",
       "  <tbody>\n",
       "    <tr>\n",
       "      <th>0</th>\n",
       "      <td>3000888</td>\n",
       "      <td>2.148663</td>\n",
       "    </tr>\n",
       "    <tr>\n",
       "      <th>1</th>\n",
       "      <td>3000889</td>\n",
       "      <td>0.023737</td>\n",
       "    </tr>\n",
       "    <tr>\n",
       "      <th>2</th>\n",
       "      <td>3000890</td>\n",
       "      <td>14.006014</td>\n",
       "    </tr>\n",
       "    <tr>\n",
       "      <th>3</th>\n",
       "      <td>3000891</td>\n",
       "      <td>1964.130539</td>\n",
       "    </tr>\n",
       "    <tr>\n",
       "      <th>4</th>\n",
       "      <td>3000892</td>\n",
       "      <td>0.020551</td>\n",
       "    </tr>\n",
       "    <tr>\n",
       "      <th>...</th>\n",
       "      <td>...</td>\n",
       "      <td>...</td>\n",
       "    </tr>\n",
       "    <tr>\n",
       "      <th>28507</th>\n",
       "      <td>3029395</td>\n",
       "      <td>423.174489</td>\n",
       "    </tr>\n",
       "    <tr>\n",
       "      <th>28508</th>\n",
       "      <td>3029396</td>\n",
       "      <td>50.812033</td>\n",
       "    </tr>\n",
       "    <tr>\n",
       "      <th>28509</th>\n",
       "      <td>3029397</td>\n",
       "      <td>274.700034</td>\n",
       "    </tr>\n",
       "    <tr>\n",
       "      <th>28510</th>\n",
       "      <td>3029398</td>\n",
       "      <td>123.755000</td>\n",
       "    </tr>\n",
       "    <tr>\n",
       "      <th>28511</th>\n",
       "      <td>3029399</td>\n",
       "      <td>17.682112</td>\n",
       "    </tr>\n",
       "  </tbody>\n",
       "</table>\n",
       "<p>28512 rows × 2 columns</p>\n",
       "</div>"
      ],
      "text/plain": [
       "            id        sales\n",
       "0      3000888     2.148663\n",
       "1      3000889     0.023737\n",
       "2      3000890    14.006014\n",
       "3      3000891  1964.130539\n",
       "4      3000892     0.020551\n",
       "...        ...          ...\n",
       "28507  3029395   423.174489\n",
       "28508  3029396    50.812033\n",
       "28509  3029397   274.700034\n",
       "28510  3029398   123.755000\n",
       "28511  3029399    17.682112\n",
       "\n",
       "[28512 rows x 2 columns]"
      ]
     },
     "execution_count": 30,
     "metadata": {},
     "output_type": "execute_result"
    }
   ],
   "source": [
    "reg_model = RandomForestRegressor(min_samples_leaf=10, max_depth=25, max_leaf_nodes=70000, max_features=0.9, n_jobs=8, random_state=23)\n",
    "reg_model.fit(X_train, y_train)\n",
    "\n",
    "predictions = reg_model.predict(X_test.iloc[:33*54*7])\n",
    "X_test.iloc[33*54*7 : 33*54*7*2, -1] = pd.Series(predictions[:33*54*7], index=X_test.iloc[33*54*7 : 33*54*7*2, -1].index)\n",
    "predictions = np.concatenate((predictions, reg_model.predict(X_test.iloc[33*54*7 : 33*54*7*2])))\n",
    "X_test.iloc[33*54*7*2 : 33*54*16, -1] = pd.Series(predictions[33*54*7:33*54*9], index=X_test.iloc[33*54*7*2 : 33*54*16, -1].index)\n",
    "predictions = np.concatenate((predictions, reg_model.predict(X_test.iloc[33*54*7*2 : 33*54*16])))\n",
    "\n",
    "df_pred = pd.DataFrame({'id': df_test.id, 'sales': predictions})\n",
    "df_pred"
   ]
  },
  {
   "cell_type": "markdown",
   "id": "ef2117b0",
   "metadata": {
    "papermill": {
     "duration": 0.024365,
     "end_time": "2024-01-23T15:36:59.246814",
     "exception": false,
     "start_time": "2024-01-23T15:36:59.222449",
     "status": "completed"
    },
    "tags": []
   },
   "source": [
    "Finally, we save our results to a `csv` file."
   ]
  },
  {
   "cell_type": "code",
   "execution_count": 31,
   "id": "b622a3d2",
   "metadata": {
    "execution": {
     "iopub.execute_input": "2024-01-23T15:36:59.301725Z",
     "iopub.status.busy": "2024-01-23T15:36:59.301014Z",
     "iopub.status.idle": "2024-01-23T15:36:59.440221Z",
     "shell.execute_reply": "2024-01-23T15:36:59.438478Z"
    },
    "papermill": {
     "duration": 0.172355,
     "end_time": "2024-01-23T15:36:59.443931",
     "exception": false,
     "start_time": "2024-01-23T15:36:59.271576",
     "status": "completed"
    },
    "tags": []
   },
   "outputs": [],
   "source": [
    "df_pred.to_csv(\"predictions.csv\", index=False)"
   ]
  },
  {
   "cell_type": "markdown",
   "id": "6b87ae57",
   "metadata": {
    "papermill": {
     "duration": 0.026269,
     "end_time": "2024-01-23T15:36:59.498262",
     "exception": false,
     "start_time": "2024-01-23T15:36:59.471993",
     "status": "completed"
    },
    "tags": []
   },
   "source": [
    "## (6. Adding more features)\n",
    "\n",
    "We will address this in a later version."
   ]
  },
  {
   "cell_type": "markdown",
   "id": "e7cbe29a",
   "metadata": {
    "papermill": {
     "duration": 0.025376,
     "end_time": "2024-01-23T15:36:59.549732",
     "exception": false,
     "start_time": "2024-01-23T15:36:59.524356",
     "status": "completed"
    },
    "tags": []
   },
   "source": [
    "## (7. Principal component analysis)\n",
    "\n",
    "We will address this in a later version."
   ]
  }
 ],
 "metadata": {
  "kaggle": {
   "accelerator": "none",
   "dataSources": [
    {
     "datasetId": 4326740,
     "sourceId": 7434714,
     "sourceType": "datasetVersion"
    }
   ],
   "dockerImageVersionId": 30635,
   "isGpuEnabled": false,
   "isInternetEnabled": true,
   "language": "python",
   "sourceType": "notebook"
  },
  "kernelspec": {
   "display_name": "Python 3",
   "language": "python",
   "name": "python3"
  },
  "language_info": {
   "codemirror_mode": {
    "name": "ipython",
    "version": 3
   },
   "file_extension": ".py",
   "mimetype": "text/x-python",
   "name": "python",
   "nbconvert_exporter": "python",
   "pygments_lexer": "ipython3",
   "version": "3.10.12"
  },
  "papermill": {
   "default_parameters": {},
   "duration": 5301.489671,
   "end_time": "2024-01-23T15:37:00.921333",
   "environment_variables": {},
   "exception": null,
   "input_path": "__notebook__.ipynb",
   "output_path": "__notebook__.ipynb",
   "parameters": {},
   "start_time": "2024-01-23T14:08:39.431662",
   "version": "2.4.0"
  }
 },
 "nbformat": 4,
 "nbformat_minor": 5
}
